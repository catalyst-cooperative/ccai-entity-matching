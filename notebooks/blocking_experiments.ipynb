{
 "cells": [
  {
   "cell_type": "code",
   "execution_count": null,
   "id": "af52a417-a47f-4515-8b86-b7d7f343ccf1",
   "metadata": {
    "tags": []
   },
   "outputs": [],
   "source": [
    "%load_ext autoreload\n",
    "%autoreload 3"
   ]
  },
  {
   "cell_type": "code",
   "execution_count": null,
   "id": "d0850d54-e165-4fa9-9b14-1938cbdfbc18",
   "metadata": {
    "tags": []
   },
   "outputs": [],
   "source": [
    "import logging\n",
    "import os\n",
    "import time\n",
    "\n",
    "import numpy as np\n",
    "import pandas as pd\n",
    "import sqlalchemy as sa\n",
    "\n",
    "import ferc1_eia_match\n",
    "from ferc1_eia_match.candidate_set_creation import DataframeEmbedder, SimilaritySearcher\n",
    "import pudl"
   ]
  },
  {
   "cell_type": "code",
   "execution_count": null,
   "id": "46704aa2-1458-4a8e-8312-b70ac5b9b293",
   "metadata": {
    "tags": []
   },
   "outputs": [],
   "source": [
    "logger = logging.getLogger(__name__)"
   ]
  },
  {
   "cell_type": "code",
   "execution_count": null,
   "id": "a6870ae3-bfa9-4eb5-b1b0-9e1a6d48dd62",
   "metadata": {
    "tags": []
   },
   "outputs": [],
   "source": [
    "pudl_engine = sa.create_engine(pudl.workspace.setup.get_defaults()['pudl_db'])"
   ]
  },
  {
   "cell_type": "markdown",
   "id": "4dfe9ddf-fb88-49df-a455-2d7fb592bc41",
   "metadata": {},
   "source": [
    "# EIA and FERC 1 Inputs\n",
    "\n",
    "Generate the FERC and EIA inputs or read in a pickled dataframe."
   ]
  },
  {
   "cell_type": "code",
   "execution_count": null,
   "id": "6983c25d-5e2e-4dae-bfce-90b77e3f6a2e",
   "metadata": {
    "tags": []
   },
   "outputs": [],
   "source": [
    "# set the report years for the experiment\n",
    "start_report_year = 2018\n",
    "end_report_year = 2020"
   ]
  },
  {
   "cell_type": "code",
   "execution_count": null,
   "id": "95622dd5-4c5a-4eff-abd2-2ddf2292da3a",
   "metadata": {
    "tags": []
   },
   "outputs": [],
   "source": [
    "inputs = ferc1_eia_match.inputs.InputManager(\n",
    "    pudl_engine=pudl_engine, start_report_year=start_report_year, end_report_year=end_report_year)"
   ]
  },
  {
   "cell_type": "code",
   "execution_count": null,
   "id": "4f890fac-e31a-4901-a6c0-62cd6aec5b1d",
   "metadata": {},
   "outputs": [],
   "source": [
    "eia_df = inputs.get_eia_input()"
   ]
  },
  {
   "cell_type": "code",
   "execution_count": null,
   "id": "c9a15906-2bb8-499b-bd4e-4dadaf75ad5d",
   "metadata": {},
   "outputs": [],
   "source": [
    "ferc_df = inputs.get_ferc_input()"
   ]
  },
  {
   "cell_type": "markdown",
   "id": "981cc4ae-e62b-4432-be3b-d322fb821cf6",
   "metadata": {},
   "source": [
    "Alternatively, read in pickled dataframes"
   ]
  },
  {
   "cell_type": "code",
   "execution_count": null,
   "id": "2688c515-af2b-4528-b3c8-96c6e878353e",
   "metadata": {
    "tags": []
   },
   "outputs": [],
   "source": [
    "# ferc_df = pd.read_pickle(\"../ferc_18_20.pkl\")\n",
    "# eia_df = pd.read_pickle(\"../plant_parts_18_20.pkl\")"
   ]
  },
  {
   "cell_type": "markdown",
   "id": "0eb0cc91-e0a8-4a42-bd79-44a9586cc54d",
   "metadata": {},
   "source": [
    "TODO: more feature engineering - use something besides fuel_type_code_pudl?"
   ]
  },
  {
   "cell_type": "code",
   "execution_count": null,
   "id": "c6fa3577-018f-496e-9ac9-e5117b48c1fd",
   "metadata": {
    "tags": []
   },
   "outputs": [],
   "source": [
    "# columns in both the EIA and FERC1 dataframe that can be used for similarity search\n",
    "# report_year is a manual blocking column\n",
    "# later, some more complex feature engineering could be done\n",
    "matching_cols = [\"plant_name\",\n",
    "                 \"utility_name\",\n",
    "                 \"installation_year\",\n",
    "                 \"construction_year\",\n",
    "                 \"fuel_type_code_pudl\",\n",
    "                 \"capacity_mw\",\n",
    "                 \"report_year\"]"
   ]
  },
  {
   "cell_type": "code",
   "execution_count": null,
   "id": "509e3011-60e1-42af-b892-574ec4603512",
   "metadata": {
    "tags": []
   },
   "outputs": [],
   "source": [
    "ferc_left = ferc_df[matching_cols].reset_index()\n",
    "eia_right = eia_df[matching_cols].reset_index()"
   ]
  },
  {
   "cell_type": "markdown",
   "id": "1d3d665e-b939-4aee-a4c6-0babf62eb658",
   "metadata": {},
   "source": [
    "# Blocking Experiments\n",
    "\n",
    "Goal: Place all the correctly matching record pairs into the candidate set of matches, while making the size of the candidate set as small as possible. This allows for a more efficient subsequent linkage phase."
   ]
  },
  {
   "cell_type": "markdown",
   "id": "5252800c-e6b7-450c-b6ae-ab2c5ca8beb9",
   "metadata": {},
   "source": [
    "## TF-IDF + Equal Weight Aggregation\n",
    "- Attribute vectorization: TF-IDF\n",
    "- Tuple aggregation: equal weight concatenation\n",
    "- Similarity search: L2 distance and cosine distance (separate)"
   ]
  },
  {
   "cell_type": "code",
   "execution_count": null,
   "id": "5f2f5787-a6cb-4d04-b044-96c109faec24",
   "metadata": {
    "tags": []
   },
   "outputs": [],
   "source": [
    "col_embedding_dict = {\n",
    "    \"plant_name\": \"tfidf\",\n",
    "    \"utility_name\": \"tfidf\",\n",
    "    \"fuel_type_code_pudl\": \"tfidf\",\n",
    "    \"installation_year\": \"min_max_scale\",\n",
    "    \"construction_year\": \"min_max_scale\",\n",
    "    \"capacity_mw\": \"min_max_scale\"\n",
    "}\n",
    "embedder = DataframeEmbedder(left_df=ferc_left, right_df=eia_right, col_embedding_dict=col_embedding_dict, pudl_engine=pudl_engine)"
   ]
  },
  {
   "cell_type": "code",
   "execution_count": null,
   "id": "ddf074e2-87f6-466b-8692-82d073e76582",
   "metadata": {
    "tags": []
   },
   "outputs": [],
   "source": [
    "embedder.embed_dataframes(blocking_col=\"report_year\")"
   ]
  },
  {
   "cell_type": "code",
   "execution_count": null,
   "id": "6fad88ed-9698-445c-8d0c-973eb2cef5b4",
   "metadata": {
    "tags": []
   },
   "outputs": [],
   "source": [
    "embedder.left_embedding_matrix.shape, embedder.right_embedding_matrix.shape"
   ]
  },
  {
   "cell_type": "code",
   "execution_count": null,
   "id": "7e85859d-ea4f-49d5-ae56-134e90e34fac",
   "metadata": {
    "tags": []
   },
   "outputs": [],
   "source": [
    "# should be a key for each value in blocking_col\n",
    "len(embedder.left_blocks_dict), len(embedder.right_blocks_dict)"
   ]
  },
  {
   "cell_type": "code",
   "execution_count": null,
   "id": "f8f325dd-18d5-4148-9be9-4008fac52e0e",
   "metadata": {
    "tags": []
   },
   "outputs": [],
   "source": [
    "def run_search(embedder, k, metric=\"ip\"):\n",
    "    # an array of the k best right matches for each left record\n",
    "    candidate_set = np.empty((len(embedder.left_df), k))\n",
    "    for block_key in embedder.left_blocks_dict:\n",
    "        print(f\"Conducting search on the {block_key} block\")\n",
    "        left_idx = embedder.left_blocks_dict[block_key].to_numpy()\n",
    "        right_idx = embedder.right_blocks_dict[block_key].to_numpy()\n",
    "        sim_searcher = SimilaritySearcher(\n",
    "            query_embedding_matrix=embedder.left_embedding_matrix[left_idx],\n",
    "            menu_embedding_matrix=embedder.right_embedding_matrix[right_idx],\n",
    "            base_index=right_idx\n",
    "        )\n",
    "        if metric == \"l2\":\n",
    "            block_candidate_set = sim_searcher.l2_distance_search(k)\n",
    "        else:\n",
    "            block_candidate_set = sim_searcher.cosine_similarity_search(k)\n",
    "        candidate_set[left_idx] = block_candidate_set\n",
    "    return candidate_set"
   ]
  },
  {
   "cell_type": "code",
   "execution_count": null,
   "id": "9f2f7432-76f1-404d-b626-e5f59b233986",
   "metadata": {
    "tags": []
   },
   "outputs": [],
   "source": [
    "k = 25"
   ]
  },
  {
   "cell_type": "code",
   "execution_count": null,
   "id": "2c0c3bb5-5761-4071-8e36-242e32af1ec0",
   "metadata": {
    "tags": []
   },
   "outputs": [],
   "source": [
    "%%time\n",
    "candidate_set = run_search(embedder, k=k, metric=\"l2\")"
   ]
  },
  {
   "cell_type": "code",
   "execution_count": null,
   "id": "8a3a3520-15ed-4ec4-bd84-071f36934160",
   "metadata": {},
   "outputs": [],
   "source": [
    "eia_cands = eia_df.iloc[candidate_set.flatten()].copy()\n",
    "eia_cands[\"block_num\"] = (eia_cands.reset_index().index // k)"
   ]
  },
  {
   "cell_type": "code",
   "execution_count": null,
   "id": "4436a330-863e-45cc-9716-bb3381c6925f",
   "metadata": {},
   "outputs": [],
   "source": [
    "ferc_cands = ferc_df.copy()\n",
    "ferc_cands[\"block_num\"] = ferc_cands.reset_index().index"
   ]
  },
  {
   "cell_type": "code",
   "execution_count": null,
   "id": "77390494-54db-44c1-8124-98e005966690",
   "metadata": {
    "tags": []
   },
   "outputs": [],
   "source": [
    "# quick sanity check\n",
    "ferc_cands[ferc_cands.block_num == 0][matching_cols]"
   ]
  },
  {
   "cell_type": "code",
   "execution_count": null,
   "id": "395c1b4a-c8c5-453c-8bd1-87869d30483c",
   "metadata": {
    "tags": []
   },
   "outputs": [],
   "source": [
    "eia_cands[eia_cands.block_num == 0][matching_cols]"
   ]
  },
  {
   "cell_type": "code",
   "execution_count": null,
   "id": "0c44c0be-5904-4bb4-a657-26f6c3a681b7",
   "metadata": {
    "tags": []
   },
   "outputs": [],
   "source": [
    "# eia_cands.to_pickle(f\"eia_candidates_18_20_k_{k}.pkl\")\n",
    "# ferc_cands.to_pickle(f\"ferc_candidates_18_20_k_{k}.pkl\")"
   ]
  },
  {
   "cell_type": "markdown",
   "id": "b8f85daf-0fc5-4cde-9d3a-ba0c222fff25",
   "metadata": {},
   "source": [
    "# Measure Performance\n",
    "\n",
    "How many of the training matches does a candidate set capture (recall@k) while minimizing the size of the candidate set?"
   ]
  },
  {
   "cell_type": "code",
   "execution_count": null,
   "id": "f47f1653-2c0e-42c5-9130-c23e59b449be",
   "metadata": {
    "tags": []
   },
   "outputs": [],
   "source": [
    "# read in training data\n",
    "train_df = pd.read_csv(\"inputs/ferc1_eia_train.csv\")"
   ]
  },
  {
   "cell_type": "code",
   "execution_count": null,
   "id": "210f95ab-639d-48f2-a265-5b91ae501829",
   "metadata": {
    "tags": []
   },
   "outputs": [],
   "source": [
    "train_df = train_df[(train_df.record_id_ferc1.isin(ferc_df.index)) & (train_df.record_id_eia.isin(eia_df.index))]"
   ]
  },
  {
   "cell_type": "code",
   "execution_count": null,
   "id": "ccdff55a-fa18-48bc-bd8b-22279788bfbb",
   "metadata": {
    "tags": []
   },
   "outputs": [],
   "source": [
    "len(train_df)"
   ]
  },
  {
   "cell_type": "code",
   "execution_count": null,
   "id": "de1bd19a-6d16-4d76-853b-15e9a9e3ea5a",
   "metadata": {},
   "outputs": [],
   "source": [
    "train_df_with_idx = train_df.merge(ferc_left.reset_index(names=\"ferc_index\")[[\"record_id_ferc1\", \"ferc_index\"]], how=\"inner\", on=\"record_id_ferc1\")\n",
    "train_df_with_idx = train_df_with_idx.merge(eia_right.reset_index(names=\"eia_index\")[[\"record_id_eia\", \"eia_index\"]], how=\"inner\", on=\"record_id_eia\")\n",
    "ferc_train_idx = train_df_with_idx.ferc_index\n",
    "eia_train_idx = train_df_with_idx.eia_index\n",
    "train_df_with_idx"
   ]
  },
  {
   "cell_type": "markdown",
   "id": "282fbc1b-2c81-4571-96e5-418a6fa3426d",
   "metadata": {},
   "source": [
    "What percentage of FERC to EIA pairs show up in the candidate set?"
   ]
  },
  {
   "cell_type": "code",
   "execution_count": null,
   "id": "8fdf1692-9acc-46e6-adff-dd38948a16c4",
   "metadata": {
    "tags": []
   },
   "outputs": [],
   "source": [
    "# how many of the EIA record pair indices show up in the corresponding row of the candidate set\n",
    "pair_is_correct = np.in1d(eia_train_idx, candidate_set[ferc_train_idx])\n",
    "n_correct_pairs = np.sum(pair_is_correct)\n",
    "n_correct_pairs"
   ]
  },
  {
   "cell_type": "code",
   "execution_count": null,
   "id": "54268da6-23fd-4b23-8738-23292d7a0841",
   "metadata": {
    "tags": []
   },
   "outputs": [],
   "source": [
    "n_correct_pairs/len(train_df_with_idx)"
   ]
  },
  {
   "cell_type": "markdown",
   "id": "c8d83056-f744-474d-b0bd-e75ae73ccb48",
   "metadata": {},
   "source": [
    "What percentage of pairs are correctly matched to the first search result?"
   ]
  },
  {
   "cell_type": "code",
   "execution_count": null,
   "id": "ee525de5-f519-4554-8062-acafd181709f",
   "metadata": {
    "tags": []
   },
   "outputs": [],
   "source": [
    "first_match_is_correct = np.in1d(eia_train_idx, candidate_set[ferc_train_idx][:, 0])\n",
    "n_first_match_correct = np.sum(first_match_is_correct)\n",
    "n_first_match_correct"
   ]
  },
  {
   "cell_type": "code",
   "execution_count": null,
   "id": "b3f1a536-6ef9-4b23-acf5-b5ce2ca1e191",
   "metadata": {
    "tags": []
   },
   "outputs": [],
   "source": [
    "n_first_match_correct/len(train_df_with_idx)"
   ]
  },
  {
   "cell_type": "markdown",
   "id": "2b919896-9fc9-4925-b8a3-a135ce59a870",
   "metadata": {},
   "source": [
    "How much fewer comparisons compared to having no blocking?"
   ]
  },
  {
   "cell_type": "code",
   "execution_count": null,
   "id": "70c7cb6d-b77a-47c4-ad72-93cf93486e46",
   "metadata": {
    "tags": []
   },
   "outputs": [],
   "source": [
    "(k * len(ferc_df))/(len(eia_df) * len(ferc_df))"
   ]
  },
  {
   "cell_type": "markdown",
   "id": "d031258e-7fd6-4236-ad67-af02964b38ee",
   "metadata": {},
   "source": [
    "# Cross Validation"
   ]
  },
  {
   "cell_type": "markdown",
   "id": "ea799f10-7256-4b39-9e21-6d77c9b048a0",
   "metadata": {},
   "source": [
    "The time goes down at k=10 because FAISS switches similarity search implementations to a multithreaded version."
   ]
  },
  {
   "cell_type": "code",
   "execution_count": null,
   "id": "bcf57eb4-b9af-47f3-809d-71d165e4eea6",
   "metadata": {
    "tags": []
   },
   "outputs": [],
   "source": [
    "ks = [5, 10, 15, 20, 25, 30, 40, 50]\n",
    "for k in ks:\n",
    "    print(f\"k={k}\")\n",
    "    t0 = time.time()\n",
    "    candidate_set = run_search(embedder, k=k, metric=\"l2\")\n",
    "    print(time.time() - t0)\n",
    "    pair_is_correct = np.in1d(eia_train_idx, candidate_set[ferc_train_idx])\n",
    "    n_correct_pairs = np.sum(pair_is_correct)\n",
    "    print(n_correct_pairs/len(train_df_with_idx))"
   ]
  },
  {
   "cell_type": "markdown",
   "id": "7f557ab2-06e3-455c-8b86-3a3c5f60355b",
   "metadata": {},
   "source": [
    "What type of records are we not getting correct?\n",
    "\n",
    "Problems/Fixes:\n",
    "- Often they have one or more column that are null.\n",
    "- There are clues for FTCP in the name - \"southwestern diesel\", try to impute in that way\n",
    "  - Easy idea is to search for a FTCP in the name - \"moline conventional hydro (4 units @ 900kw each)\"\n",
    "- No white space around special characters - \"south carolina electric&gas company\"\n",
    "- If one of `installation_year` or `construction_year` is missing, fill in with the other? Makes more sense than imputing from an average\n",
    "- strip apostrophes? \"queen's creek\" "
   ]
  },
  {
   "cell_type": "code",
   "execution_count": null,
   "id": "40b6d76f-c54d-45f4-8eda-2aa8a6082553",
   "metadata": {
    "tags": []
   },
   "outputs": [],
   "source": [
    "wrong_idx = np.where(~pair_is_correct)[0]"
   ]
  },
  {
   "cell_type": "code",
   "execution_count": null,
   "id": "a356f1ca-652c-4ef9-99cd-7ad37ff75ba0",
   "metadata": {
    "tags": []
   },
   "outputs": [],
   "source": [
    "len(wrong_idx)"
   ]
  },
  {
   "cell_type": "code",
   "execution_count": null,
   "id": "c8fd4e10-c358-4b93-8408-e65942cb0076",
   "metadata": {
    "tags": []
   },
   "outputs": [],
   "source": [
    "i = 20"
   ]
  },
  {
   "cell_type": "code",
   "execution_count": null,
   "id": "501628a0-b5fe-45fe-81e0-19621bab0a70",
   "metadata": {
    "tags": []
   },
   "outputs": [],
   "source": [
    "train_rec = train_df_with_idx.iloc[wrong_idx[i]]"
   ]
  },
  {
   "cell_type": "code",
   "execution_count": null,
   "id": "b2bf27ea-9965-4b04-812f-07c9b5f13788",
   "metadata": {
    "tags": []
   },
   "outputs": [],
   "source": [
    "train_rec.notes"
   ]
  },
  {
   "cell_type": "code",
   "execution_count": null,
   "id": "0b63444d-b448-46bd-a0b9-2b9bf7ca3f9a",
   "metadata": {
    "tags": []
   },
   "outputs": [],
   "source": [
    "ferc_left.iloc[[train_rec.ferc_index]]"
   ]
  },
  {
   "cell_type": "code",
   "execution_count": null,
   "id": "502ebe9b-0ec3-4acd-bee8-eedb7dfeea03",
   "metadata": {
    "tags": []
   },
   "outputs": [],
   "source": [
    "eia_right.iloc[[train_rec.eia_index]]"
   ]
  },
  {
   "cell_type": "code",
   "execution_count": null,
   "id": "f7fbd435-955f-4b94-abdc-9d1971f2bd69",
   "metadata": {
    "tags": []
   },
   "outputs": [],
   "source": [
    "eia_cands = candidate_set[train_rec.ferc_index]\n",
    "eia_right.iloc[eia_cands]"
   ]
  }
 ],
 "metadata": {
  "kernelspec": {
   "display_name": "ferc1_eia_match",
   "language": "python",
   "name": "ferc1_eia_match"
  },
  "language_info": {
   "codemirror_mode": {
    "name": "ipython",
    "version": 3
   },
   "file_extension": ".py",
   "mimetype": "text/x-python",
   "name": "python",
   "nbconvert_exporter": "python",
   "pygments_lexer": "ipython3",
   "version": "3.11.3"
  }
 },
 "nbformat": 4,
 "nbformat_minor": 5
}
