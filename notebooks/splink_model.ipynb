{
 "cells": [
  {
   "cell_type": "code",
   "execution_count": null,
   "id": "a5612464-5f4c-4d7f-8431-2a62c198943e",
   "metadata": {
    "tags": []
   },
   "outputs": [],
   "source": [
    "%load_ext autoreload\n",
    "%autoreload 3"
   ]
  },
  {
   "cell_type": "code",
   "execution_count": null,
   "id": "8703aabd-dd0f-4e33-84c1-4ea46042568f",
   "metadata": {
    "tags": []
   },
   "outputs": [],
   "source": [
    "from matplotlib import pyplot as plt\n",
    "import numpy as np\n",
    "import pandas as pd\n",
    "import seaborn as sns\n",
    "from splink.duckdb.linker import DuckDBLinker\n",
    "import splink.duckdb.comparison_library as cl\n",
    "import splink.duckdb.comparison_level_library as cll\n",
    "import splink.duckdb.comparison_template_library as ctl\n",
    "from splink.comparison import Comparison\n",
    "import sqlalchemy as sa\n",
    "import pudl\n",
    "\n",
    "import ferc1_eia_match"
   ]
  },
  {
   "cell_type": "markdown",
   "id": "cb7fb06b-f0ce-424d-add4-4acf066a27e3",
   "metadata": {},
   "source": [
    "# Setup\n",
    "\n",
    "Read in FERC1 and EIA inputs (output of candidate set creation set). "
   ]
  },
  {
   "cell_type": "code",
   "execution_count": null,
   "id": "1ed5f736-f639-48f2-b17e-839386389507",
   "metadata": {
    "tags": []
   },
   "outputs": [],
   "source": [
    "eia_full = pd.read_pickle(\"eia_candidates_18_20_k_25.pkl\")\n",
    "ferc_full = pd.read_pickle(\"ferc_candidates_18_20_k_25.pkl\")"
   ]
  },
  {
   "cell_type": "code",
   "execution_count": null,
   "id": "e9bac7f3-1571-4bf4-8f79-505171d3af54",
   "metadata": {
    "tags": []
   },
   "outputs": [],
   "source": [
    "shared_cols = list(set(eia_full.columns) & set(ferc_full.columns))\n",
    "shared_cols.sort()\n",
    "shared_cols"
   ]
  },
  {
   "cell_type": "code",
   "execution_count": null,
   "id": "74782cb9-c9ce-4e9b-bca7-f0e8dbffaccf",
   "metadata": {
    "tags": []
   },
   "outputs": [],
   "source": [
    "eia_full[shared_cols].isnull().sum().sort_values()"
   ]
  },
  {
   "cell_type": "code",
   "execution_count": null,
   "id": "f1a2e107-3f6e-4a81-9b5c-d578acdfeecb",
   "metadata": {
    "tags": []
   },
   "outputs": [],
   "source": [
    "ferc_full[shared_cols].isnull().sum().sort_values()"
   ]
  },
  {
   "cell_type": "markdown",
   "id": "a9ab1941-f3d1-45e5-a597-c9c39a34402d",
   "metadata": {},
   "source": [
    "TODO: Try experimenting with using more or different columns."
   ]
  },
  {
   "cell_type": "code",
   "execution_count": null,
   "id": "97452526-f9cf-4723-92cd-fad442044a3c",
   "metadata": {
    "tags": []
   },
   "outputs": [],
   "source": [
    "matching_cols = [\"plant_name\",\n",
    "                 \"utility_name\",\n",
    "                 \"fuel_type_code_pudl\",\n",
    "                 \"installation_year\",\n",
    "                 \"construction_year\",\n",
    "                 \"capacity_mw\",\n",
    "                 # \"net_generation_mwh\",\n",
    "                 # \"capacity_factor\"\n",
    "                ]\n",
    "# retain these columns either for blocking or validation, not going to match with these\n",
    "extra_cols = [\"plant_id_pudl\", \"utility_id_pudl\", \"report_year\", \"block_num\"]"
   ]
  },
  {
   "cell_type": "code",
   "execution_count": null,
   "id": "4e59db78-ad4c-45fa-919d-4ab32cd6feb8",
   "metadata": {
    "tags": []
   },
   "outputs": [],
   "source": [
    "ferc_df = ferc_full[matching_cols + extra_cols].reset_index().rename(columns={\"record_id_ferc1\": \"record_id\"})\n",
    "eia_df = eia_full[matching_cols + extra_cols].reset_index().rename(columns={\"record_id_eia\": \"record_id\"})"
   ]
  },
  {
   "cell_type": "code",
   "execution_count": null,
   "id": "abff027e-580d-456e-9f18-9b479b34b39f",
   "metadata": {
    "tags": []
   },
   "outputs": [],
   "source": [
    "# eia_df[\"net_generation_mwh\"] = eia_df[\"net_generation_mwh\"].round(2)\n",
    "# ferc_df[\"net_generation_mwh\"] = ferc_df[\"net_generation_mwh\"].round(2)"
   ]
  },
  {
   "cell_type": "code",
   "execution_count": null,
   "id": "3910dea0-4fcc-4b68-b999-ac7fd3c33f36",
   "metadata": {
    "tags": []
   },
   "outputs": [],
   "source": [
    "ferc_df[\"installation_year\"] = pd.to_datetime(ferc_df[\"installation_year\"], format=\"%Y\")\n",
    "ferc_df[\"construction_year\"] = pd.to_datetime(ferc_df[\"construction_year\"], format=\"%Y\")\n",
    "eia_df[\"installation_year\"] = pd.to_datetime(eia_df[\"installation_year\"], format=\"%Y\")\n",
    "eia_df[\"construction_year\"] = pd.to_datetime(eia_df[\"construction_year\"], format=\"%Y\")"
   ]
  },
  {
   "cell_type": "markdown",
   "id": "df0ed994-3ad7-4b09-adb4-171f5ff70bcb",
   "metadata": {},
   "source": [
    "### Get training data"
   ]
  },
  {
   "cell_type": "code",
   "execution_count": null,
   "id": "8a0633dc-3926-49fc-80ee-acb4875004cc",
   "metadata": {
    "tags": []
   },
   "outputs": [],
   "source": [
    "pudl_engine = sa.create_engine(pudl.workspace.setup.get_defaults()['pudl_db'])"
   ]
  },
  {
   "cell_type": "code",
   "execution_count": null,
   "id": "02b31d96-82bb-4499-a432-783c13b0d478",
   "metadata": {
    "tags": []
   },
   "outputs": [],
   "source": [
    "train_full = ferc1_eia_match.inputs.InputManager(pudl_engine=pudl_engine, start_report_year=\"2018\", end_report_year=\"2018\").get_training_data()"
   ]
  },
  {
   "cell_type": "code",
   "execution_count": null,
   "id": "bdd1a269-b7a8-4dc5-88d8-ebd9a4a44716",
   "metadata": {
    "tags": []
   },
   "outputs": [],
   "source": [
    "train_full"
   ]
  },
  {
   "cell_type": "code",
   "execution_count": null,
   "id": "1a7562d3-e485-4904-8fb9-79839fb039b0",
   "metadata": {
    "tags": []
   },
   "outputs": [],
   "source": [
    "train_df = train_full[[\"record_id_ferc1\", \"record_id_eia\"]].rename(columns={\"record_id_eia\": \"record_id_l\", \"record_id_ferc1\": \"record_id_r\"})\n",
    "train_df.loc[:, \"source_dataset_r\"] = \"ferc_df\"\n",
    "train_df.loc[:, \"source_dataset_l\"] = \"eia_df\"\n",
    "train_df.loc[:, \"clerical_match_score\"] = 1 # this column is just a syntax quirk, doesn't mean anything"
   ]
  },
  {
   "cell_type": "markdown",
   "id": "f0bc4691-809f-49ba-836c-6b01dcde0891",
   "metadata": {},
   "source": [
    "### Create settings dict and linker"
   ]
  },
  {
   "cell_type": "code",
   "execution_count": null,
   "id": "f713019a-8137-437b-8ed1-bca77c9d1f37",
   "metadata": {
    "tags": []
   },
   "outputs": [],
   "source": [
    "settings_dict = {\"link_type\": \"link_only\",\n",
    "                 \"unique_id_column_name\": \"record_id\",\n",
    "                 \"additional_columns_to_retain\": [\"plant_id_pudl\", \"utility_id_pudl\"]}"
   ]
  },
  {
   "cell_type": "code",
   "execution_count": null,
   "id": "e34d7910-83a4-42cd-a45a-921206b55caf",
   "metadata": {
    "tags": []
   },
   "outputs": [],
   "source": [
    "linker = DuckDBLinker([eia_df, ferc_df], input_table_aliases = [\"eia_df\", \"ferc_df\"], settings_dict=settings_dict)"
   ]
  },
  {
   "cell_type": "code",
   "execution_count": null,
   "id": "3b7b9ce4-d52b-4e57-9f43-68fa3d1028d0",
   "metadata": {
    "tags": []
   },
   "outputs": [],
   "source": [
    "train_table = linker.register_table(train_df, \"training_labels\", overwrite=True)"
   ]
  },
  {
   "cell_type": "code",
   "execution_count": null,
   "id": "8abcf4fe-f26a-4c63-9e16-e885888dbaf2",
   "metadata": {
    "tags": []
   },
   "outputs": [],
   "source": [
    "train_table.as_pandas_dataframe(limit=5)"
   ]
  },
  {
   "cell_type": "markdown",
   "id": "6d47a39c-104e-4136-8ff6-4c284bf0b860",
   "metadata": {},
   "source": [
    "# Data Exploration"
   ]
  },
  {
   "cell_type": "code",
   "execution_count": null,
   "id": "70d2b9db-1f94-41e7-9c0f-a5a54163012a",
   "metadata": {
    "tags": []
   },
   "outputs": [],
   "source": [
    "linker_eia = DuckDBLinker(eia_df)\n",
    "linker_ferc = DuckDBLinker(ferc_df)"
   ]
  },
  {
   "cell_type": "code",
   "execution_count": null,
   "id": "2c2c95ef-0f2e-4929-af9d-ecdfd339ff5b",
   "metadata": {
    "tags": []
   },
   "outputs": [],
   "source": [
    "linker_ferc.missingness_chart()"
   ]
  },
  {
   "cell_type": "code",
   "execution_count": null,
   "id": "3a854b6a-4f02-4635-8d81-1591b14607a5",
   "metadata": {
    "tags": []
   },
   "outputs": [],
   "source": [
    "linker_eia.missingness_chart()"
   ]
  },
  {
   "cell_type": "markdown",
   "id": "fd5a7e56-ddca-4f46-8ff7-32d304840e33",
   "metadata": {},
   "source": [
    "Columns with higher cardinality are better for matching\n",
    "- `fuel_type_code_pudl` might not be the best, high skew in that column too"
   ]
  },
  {
   "cell_type": "code",
   "execution_count": null,
   "id": "a465eff3-b5e3-47bc-a755-59f0cca9ef4a",
   "metadata": {
    "tags": []
   },
   "outputs": [],
   "source": [
    "linker.profile_columns(matching_cols, top_n=10, bottom_n=5)"
   ]
  },
  {
   "cell_type": "markdown",
   "id": "5550f68a-1e4a-447e-8ba2-4ee07e52ab55",
   "metadata": {},
   "source": [
    "# Block On `report_year` and `block_num`\n",
    "\n",
    "`splink` has tools to evaluate more complex blocking rules as well, but since we did blocking a separate step/module, we can just block on `report_year` and `block_num` here."
   ]
  },
  {
   "cell_type": "code",
   "execution_count": null,
   "id": "356fedcd-72f4-4596-bf5c-64dd813bb429",
   "metadata": {
    "tags": []
   },
   "outputs": [],
   "source": [
    "blocking_rule = \"l.report_year = r.report_year and l.block_num = r.block_num\"\n",
    "count = linker.count_num_comparisons_from_blocking_rule(blocking_rule)\n",
    "print(f\"Number of comparisons generated by '{blocking_rule}': {count:,.0f}\")"
   ]
  },
  {
   "cell_type": "markdown",
   "id": "8b3b5bb0-2edd-4685-829d-12816a831267",
   "metadata": {},
   "source": [
    "Number of comparisons is a little high for the DuckDB linker when only blocking on report year."
   ]
  },
  {
   "cell_type": "markdown",
   "id": "7f2fa25c-ae07-478f-b0fe-d2054fe39b90",
   "metadata": {},
   "source": [
    "# Define Comparisons"
   ]
  },
  {
   "cell_type": "markdown",
   "id": "b8a71e7b-34e7-4fe6-ad6d-523e111914d5",
   "metadata": {
    "tags": []
   },
   "source": [
    "[Comparison Template library](https://moj-analytical-services.github.io/splink/comparison_template_library.html)"
   ]
  },
  {
   "cell_type": "code",
   "execution_count": null,
   "id": "3bc94b35-705c-44b5-acdb-5a698eb52e60",
   "metadata": {
    "tags": []
   },
   "outputs": [],
   "source": [
    "# try without damerau levenshtein\n",
    "plant_name_comparison = ctl.name_comparison(\"plant_name\", damerau_levenshtein_thresholds=[])\n",
    "utility_name_comparison = ctl.name_comparison(\"utility_name\", damerau_levenshtein_thresholds=[])"
   ]
  },
  {
   "cell_type": "code",
   "execution_count": null,
   "id": "fa020f3c-61e9-4c50-b3ef-1644145e9923",
   "metadata": {
    "tags": []
   },
   "outputs": [],
   "source": [
    "print(utility_name_comparison.human_readable_description)"
   ]
  },
  {
   "cell_type": "code",
   "execution_count": null,
   "id": "5d81f752-4120-46a7-b9b8-f70796fc3dce",
   "metadata": {
    "tags": []
   },
   "outputs": [],
   "source": [
    "capacity_comparison = {\n",
    "    \"output_column_name\": \"capacity_mw\",\n",
    "    \"comparison_levels\": [\n",
    "        cll.null_level(\"capacity_mw\"),\n",
    "        cll.percentage_difference_level(\"capacity_mw\", 0.0 + 1e-4),  # could add an exact match level too\n",
    "        cll.percentage_difference_level(\"capacity_mw\", 0.1 + 1e-4), # need the 1e-4?\n",
    "        cll.percentage_difference_level(\"capacity_mw\", 0.2 + 1e-4),\n",
    "        cll.else_level(),\n",
    "    ],\n",
    "    \"comparison_description\": \"0% different vs. 10% different vs. 20% different vs. anything else\"\n",
    "}"
   ]
  },
  {
   "cell_type": "code",
   "execution_count": null,
   "id": "a33f6c27-35d9-4246-92b0-751a8239f7a6",
   "metadata": {
    "tags": []
   },
   "outputs": [],
   "source": [
    "print(Comparison(capacity_comparison).human_readable_description)"
   ]
  },
  {
   "cell_type": "code",
   "execution_count": null,
   "id": "fc871039-aa77-4b6e-a34e-d5f6493502ba",
   "metadata": {
    "tags": []
   },
   "outputs": [],
   "source": [
    "net_gen_comparison = {\n",
    "    \"output_column_name\": \"net_generation_mwh\",\n",
    "    \"comparison_levels\": [\n",
    "        cll.null_level(\"net_generation_mwh\"),\n",
    "        cll.percentage_difference_level(\"net_generation_mwh\", 0.0 + 1e-4),  # could add an exact match level too\n",
    "        cll.percentage_difference_level(\"net_generation_mwh\", 0.1 + 1e-4), # need the 1e-4?\n",
    "        cll.percentage_difference_level(\"net_generation_mwh\", 0.2 + 1e-4),\n",
    "        cll.else_level(),\n",
    "    ],\n",
    "    \"comparison_description\": \"0% different vs. 10% different vs. 20% different vs. anything else\"\n",
    "}\n",
    "\n",
    "capacity_factor_comparison = {\n",
    "    \"output_column_name\": \"capacity_factor\",\n",
    "    \"comparison_levels\": [\n",
    "        cll.null_level(\"capacity_factor\"),\n",
    "        cll.percentage_difference_level(\"capacity_factor\", 0.0 + 1e-4),  # could add an exact match level too\n",
    "        cll.percentage_difference_level(\"capacity_factor\", 0.1 + 1e-4), # need the 1e-4?\n",
    "        cll.percentage_difference_level(\"capacity_factor\", 0.2 + 1e-4),\n",
    "        cll.else_level(),\n",
    "    ],\n",
    "    \"comparison_description\": \"0% different vs. 10% different vs. 20% different vs. anything else\"\n",
    "}"
   ]
  },
  {
   "cell_type": "code",
   "execution_count": null,
   "id": "930fd406-129b-42e4-a2ea-c849af6ab60e",
   "metadata": {
    "tags": []
   },
   "outputs": [],
   "source": [
    "def get_date_comparison(column_name):\n",
    "    return ctl.date_comparison(column_name,\n",
    "                               date_format=\"%Y\",\n",
    "                               damerau_levenshtein_thresholds=[],\n",
    "                               datediff_thresholds=[1, 2],\n",
    "                               datediff_metrics=[\"year\", \"year\"])\n",
    "\n",
    "installation_year_comparison = get_date_comparison(\"installation_year\")\n",
    "construction_year_comparison = get_date_comparison(\"construction_year\")"
   ]
  },
  {
   "cell_type": "code",
   "execution_count": null,
   "id": "7b0830f0-d1b6-41db-b668-d569d79dda9a",
   "metadata": {
    "tags": []
   },
   "outputs": [],
   "source": [
    "print(installation_year_comparison.human_readable_description)"
   ]
  },
  {
   "cell_type": "code",
   "execution_count": null,
   "id": "9485d63d-fd01-4857-a5c6-e8b697a9efb4",
   "metadata": {
    "tags": []
   },
   "outputs": [],
   "source": [
    "settings_dict.update({\n",
    "    \"comparisons\": [\n",
    "        plant_name_comparison,\n",
    "        utility_name_comparison,\n",
    "        construction_year_comparison,\n",
    "        installation_year_comparison,\n",
    "        capacity_comparison,\n",
    "        cl.exact_match(\"fuel_type_code_pudl\", term_frequency_adjustments=True),\n",
    "        # net_gen_comparison,\n",
    "        # capacity_factor_comparison\n",
    "    ],\n",
    "    \"blocking_rules_to_generate_predictions\": [\n",
    "        blocking_rule\n",
    "    ],\n",
    "    \"retain_matching_columns\": True,\n",
    "    \"retain_intermediate_calculation_columns\": True,\n",
    "    \"probability_two_random_records_match\": 1/len(eia_df) # is this correct?\n",
    "    }\n",
    ")"
   ]
  },
  {
   "cell_type": "code",
   "execution_count": null,
   "id": "333175a0-7b78-484b-a730-0c6c2a14ead0",
   "metadata": {
    "tags": []
   },
   "outputs": [],
   "source": [
    "linker.load_settings(settings_dict)"
   ]
  },
  {
   "cell_type": "markdown",
   "id": "b3094cd5-b437-4116-8e7d-5e51bd76b89c",
   "metadata": {},
   "source": [
    "# Estimate Model Parameters\n",
    "\n",
    "Now that we have specified our linkage model, we need to estimate the probability_two_random_records_match, u, and m parameters."
   ]
  },
  {
   "cell_type": "markdown",
   "id": "63d63c92-52bb-475d-a8f7-c73db15d9df6",
   "metadata": {},
   "source": [
    "I think we can use the rationale that for each FERC record there is one EIA matching record. Which means that the probability too records match is 1/n_eia_records."
   ]
  },
  {
   "cell_type": "code",
   "execution_count": null,
   "id": "b3d0a5dc-fe1d-4554-82fc-fbe74ae3b287",
   "metadata": {
    "tags": []
   },
   "outputs": [],
   "source": [
    "# try with a much higher probability of two records matching - this seems wrong\n",
    "deterministic_rules = [\n",
    "    \"jaro_winkler_similarity(l.plant_name, r.plant_name) >= 0.9 and jaro_winkler_similarity(l.utility_name, r.utility_name) >= 0.9\"\n",
    "]\n",
    "\n",
    "linker.estimate_probability_two_random_records_match(deterministic_rules, recall=0.7)\n"
   ]
  },
  {
   "cell_type": "code",
   "execution_count": null,
   "id": "2188839a-f294-494e-9751-a63e78551d75",
   "metadata": {
    "tags": []
   },
   "outputs": [],
   "source": [
    "%%time\n",
    "linker.estimate_u_using_random_sampling(max_pairs=1e7)"
   ]
  },
  {
   "cell_type": "markdown",
   "id": "38677f5a-7179-4185-a20c-7db7c1515dc1",
   "metadata": {},
   "source": [
    "We can estimate m with either training labels or unsupervised, with Expectation Maximization."
   ]
  },
  {
   "cell_type": "code",
   "execution_count": null,
   "id": "e53f99cd-2007-436d-be9e-00ec4283ac19",
   "metadata": {
    "tags": []
   },
   "outputs": [],
   "source": [
    "# linker.estimate_m_from_pairwise_labels(\"training_labels\")"
   ]
  },
  {
   "cell_type": "code",
   "execution_count": null,
   "id": "ccce2b89-c3c0-4e07-b845-bb5c4ed044bc",
   "metadata": {
    "tags": []
   },
   "outputs": [],
   "source": [
    "training_blocking_rule_1 = \"l.plant_name = r.plant_name\"\n",
    "training_session_1 = linker.estimate_parameters_using_expectation_maximisation(training_blocking_rule_1)"
   ]
  },
  {
   "cell_type": "code",
   "execution_count": null,
   "id": "5c42a572-93ff-477c-88f6-c0bce4bbb119",
   "metadata": {
    "tags": []
   },
   "outputs": [],
   "source": [
    "training_blocking_rule_2 = \"l.capacity_mw = r.capacity_mw and l.utility_name = r.utility_name\"\n",
    "training_session_2 = linker.estimate_parameters_using_expectation_maximisation(training_blocking_rule_2)"
   ]
  },
  {
   "cell_type": "code",
   "execution_count": null,
   "id": "40c40b36-1694-4259-92ad-0bbfb2a8af7f",
   "metadata": {
    "tags": []
   },
   "outputs": [],
   "source": [
    "linker.match_weights_chart()"
   ]
  },
  {
   "cell_type": "code",
   "execution_count": null,
   "id": "11150001-3ada-4328-a0c3-afa5c3d6e6b0",
   "metadata": {
    "tags": []
   },
   "outputs": [],
   "source": [
    "linker.m_u_parameters_chart()"
   ]
  },
  {
   "cell_type": "code",
   "execution_count": null,
   "id": "e0306bdd-94a5-4a59-9e51-81aeb04651b7",
   "metadata": {
    "tags": []
   },
   "outputs": [],
   "source": [
    "# reads like: \"a match threshold of 70% will include 94% of records\"\n",
    "linker.unlinkables_chart()"
   ]
  },
  {
   "cell_type": "code",
   "execution_count": null,
   "id": "3af52c8b-3a95-42e6-bba3-7aa938440b88",
   "metadata": {
    "tags": []
   },
   "outputs": [],
   "source": [
    "n = \"unsupervised_1\""
   ]
  },
  {
   "cell_type": "code",
   "execution_count": null,
   "id": "4b10b220-1492-493b-91da-c8fcb6a6987c",
   "metadata": {
    "tags": []
   },
   "outputs": [],
   "source": [
    "settings = linker.save_model_to_json(f\"./splink_model_settings/model_settings_{n}.json\", overwrite=True)"
   ]
  },
  {
   "cell_type": "markdown",
   "id": "58c6d2e5-cd2a-4fc3-bf88-58b1db854e10",
   "metadata": {},
   "source": [
    "# Make Predictions"
   ]
  },
  {
   "cell_type": "code",
   "execution_count": null,
   "id": "da93e25c-108c-4c98-8d6f-411d5598ddc4",
   "metadata": {
    "tags": []
   },
   "outputs": [],
   "source": [
    "# df_preds = linker.predict(threshold_match_probability=0.5)\n",
    "df_preds = linker.predict()"
   ]
  },
  {
   "cell_type": "code",
   "execution_count": null,
   "id": "a18073d3-de9c-42c5-95f5-602a220c6142",
   "metadata": {
    "tags": []
   },
   "outputs": [],
   "source": [
    "len(df_preds.as_pandas_dataframe())"
   ]
  },
  {
   "cell_type": "code",
   "execution_count": null,
   "id": "33eec334-ac50-4b87-9d0f-cb8b5fe3b565",
   "metadata": {
    "tags": []
   },
   "outputs": [],
   "source": [
    "sorted_preds_df = df_preds.as_pandas_dataframe().sort_values(by=\"match_probability\", ascending=False)"
   ]
  },
  {
   "cell_type": "code",
   "execution_count": null,
   "id": "5c778be4-7191-40db-b96d-1ce19715d841",
   "metadata": {
    "tags": []
   },
   "outputs": [],
   "source": [
    "sorted_preds_df.head(3)"
   ]
  },
  {
   "cell_type": "code",
   "execution_count": null,
   "id": "8ccf0ba5-df5a-42a4-ab78-87e9805ff09d",
   "metadata": {
    "tags": []
   },
   "outputs": [],
   "source": [
    "one_to_one_preds = sorted_preds_df.groupby(\"record_id_r\").first()"
   ]
  },
  {
   "cell_type": "code",
   "execution_count": null,
   "id": "864c35d7-bc4d-4bcd-9832-a9b4b815bae9",
   "metadata": {
    "tags": []
   },
   "outputs": [],
   "source": [
    "cols = [col + \"_l\" for col in matching_cols]\n",
    "cols += [col + \"_r\" for col in matching_cols]\n",
    "extra_cols = [\"plant_id_pudl_l\", \"plant_id_pudl_r\", \"utility_id_pudl_l\", \"utility_id_pudl_r\"]\n",
    "cols.sort()\n",
    "cols = [\"record_id_l\", \"match_weight\", \"match_probability\"] + cols + extra_cols\n",
    "one_to_one_preds = one_to_one_preds[cols].reset_index()"
   ]
  },
  {
   "cell_type": "code",
   "execution_count": null,
   "id": "490b3066-ef6b-4d0c-acbb-4589fc8ae5ca",
   "metadata": {
    "tags": []
   },
   "outputs": [],
   "source": [
    "labels_df = train_df.copy()"
   ]
  },
  {
   "cell_type": "code",
   "execution_count": null,
   "id": "c6718e6a-3a65-499e-9176-83478b4a6d02",
   "metadata": {
    "tags": []
   },
   "outputs": [],
   "source": [
    "n_train_records = len(labels_df)"
   ]
  },
  {
   "cell_type": "code",
   "execution_count": null,
   "id": "f5268bed-d13c-42ea-b379-7714ab0274e2",
   "metadata": {
    "tags": []
   },
   "outputs": [],
   "source": [
    "# how many FERC records had matches above the match threshold\n",
    "predicted_train_matches = labels_df.merge(\n",
    "    one_to_one_preds,\n",
    "    how=\"left\",\n",
    "    on=[\"record_id_r\"],\n",
    "    indicator=True,\n",
    "    suffixes=(\"_true\", \"_pred\"))"
   ]
  },
  {
   "cell_type": "code",
   "execution_count": null,
   "id": "7bfbfed3-810b-421f-93e1-2f42d8097703",
   "metadata": {
    "tags": []
   },
   "outputs": [],
   "source": [
    "# how many FERC train records had matches above the match threshold\n",
    "predicted_train_matches._merge.value_counts()"
   ]
  },
  {
   "cell_type": "code",
   "execution_count": null,
   "id": "983208b3-93f0-4684-91c3-8be951b5a54f",
   "metadata": {
    "tags": []
   },
   "outputs": [],
   "source": [
    "# how many FERC train records were correctly matched\n",
    "correct_filter = (predicted_train_matches.record_id_l_true == predicted_train_matches.record_id_l_pred)\n",
    "correct_matches = predicted_train_matches[correct_filter]\n",
    "len(correct_matches)/n_train_records"
   ]
  },
  {
   "cell_type": "code",
   "execution_count": null,
   "id": "0815e922-ab8c-477e-a550-2e0b5f182cea",
   "metadata": {
    "tags": []
   },
   "outputs": [],
   "source": [
    "# what do the incorrect matches look like\n",
    "incorrect_matches = predicted_train_matches[~correct_filter][[\"record_id_r\", \"record_id_l_true\", \"record_id_l_pred\", \"match_weight\", \"match_probability\"]]\n",
    "incorrect_matches"
   ]
  },
  {
   "cell_type": "markdown",
   "id": "76d52b9e-153d-47df-93d0-1c871d3975ec",
   "metadata": {},
   "source": [
    "Most of the time when records don't match it's because the capacity, installation year, or construction year is a better match for a different record. How to avoid this? Should more columns be included?\n",
    "\n",
    "What percentage of these incorrect matches didn't have the true record in the blocking set?"
   ]
  },
  {
   "cell_type": "code",
   "execution_count": null,
   "id": "72e3cc23-3b99-4900-b0ff-1a4a301e885a",
   "metadata": {
    "tags": []
   },
   "outputs": [],
   "source": [
    "i = 0"
   ]
  },
  {
   "cell_type": "code",
   "execution_count": null,
   "id": "02fd857c-3fa6-447c-9841-faabf7c519d7",
   "metadata": {
    "tags": []
   },
   "outputs": [],
   "source": [
    "rec_pair = incorrect_matches.iloc[i]\n",
    "rec_pair"
   ]
  },
  {
   "cell_type": "code",
   "execution_count": null,
   "id": "6594e89f-6157-4acc-95e3-f08fea0d8252",
   "metadata": {
    "tags": []
   },
   "outputs": [],
   "source": [
    "rec_comparison = sorted_preds_df[(sorted_preds_df.record_id_r == rec_pair.record_id_r) & sorted_preds_df.record_id_l.isin([rec_pair.record_id_l_true, rec_pair.record_id_l_pred])]\n",
    "rec_comparison"
   ]
  },
  {
   "cell_type": "markdown",
   "id": "ee55bae7-6ef3-4a32-abb6-70fe5dd42064",
   "metadata": {},
   "source": [
    "See if there are any notes for that match."
   ]
  },
  {
   "cell_type": "code",
   "execution_count": null,
   "id": "7d6d70dd-626b-44d4-97c1-bf2d5d3fde50",
   "metadata": {
    "tags": []
   },
   "outputs": [],
   "source": [
    "train_full[train_full.record_id_ferc1.eq(rec_pair.record_id_r)]"
   ]
  },
  {
   "cell_type": "code",
   "execution_count": null,
   "id": "94d84c07-a40f-4016-80c1-50ef9ca07b63",
   "metadata": {
    "tags": []
   },
   "outputs": [],
   "source": [
    "linker.waterfall_chart(rec_comparison.to_dict(\"records\"), filter_nulls=False)"
   ]
  },
  {
   "cell_type": "code",
   "execution_count": null,
   "id": "12ffaef3-6690-4ad5-8d60-cb5b5bccad2c",
   "metadata": {
    "tags": []
   },
   "outputs": [],
   "source": [
    "linker.precision_recall_chart_from_labels_table(\"training_labels\")"
   ]
  },
  {
   "cell_type": "markdown",
   "id": "d3464643-6971-483f-af00-541bc05dc63a",
   "metadata": {},
   "source": [
    "Do `utility_id_pudl` and `plant_id_pudl` generally match up?"
   ]
  },
  {
   "cell_type": "code",
   "execution_count": null,
   "id": "95475ed5-5421-414e-9603-1dd87997b42c",
   "metadata": {},
   "outputs": [],
   "source": [
    "consistent_id_df = one_to_one_preds.dropna(subset=[\"utility_id_pudl_l\",\n",
    "                                                   \"utility_id_pudl_r\",\n",
    "                                                   \"plant_id_pudl_l\",\n",
    "                                                   \"plant_id_pudl_r\"\n",
    "                                                  ])"
   ]
  },
  {
   "cell_type": "code",
   "execution_count": null,
   "id": "d484ec2d-a100-4eae-9600-4f31d8ef3a46",
   "metadata": {
    "tags": []
   },
   "outputs": [],
   "source": [
    "(consistent_id_df.plant_id_pudl_l == consistent_id_df.plant_id_pudl_r).value_counts()"
   ]
  },
  {
   "cell_type": "code",
   "execution_count": null,
   "id": "79a2d7cf-0e01-4658-a1a4-842e70313870",
   "metadata": {
    "tags": []
   },
   "outputs": [],
   "source": [
    "(consistent_id_df.utility_id_pudl_l == consistent_id_df.utility_id_pudl_r).value_counts()"
   ]
  },
  {
   "cell_type": "code",
   "execution_count": null,
   "id": "da1983b1-015e-41d1-af44-78fe0598868a",
   "metadata": {},
   "outputs": [],
   "source": []
  }
 ],
 "metadata": {
  "kernelspec": {
   "display_name": "ferc1_eia_match",
   "language": "python",
   "name": "ferc1_eia_match"
  },
  "language_info": {
   "codemirror_mode": {
    "name": "ipython",
    "version": 3
   },
   "file_extension": ".py",
   "mimetype": "text/x-python",
   "name": "python",
   "nbconvert_exporter": "python",
   "pygments_lexer": "ipython3",
   "version": "3.11.4"
  }
 },
 "nbformat": 4,
 "nbformat_minor": 5
}
