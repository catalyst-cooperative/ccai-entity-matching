{
 "cells": [
  {
   "cell_type": "code",
   "execution_count": null,
   "id": "3c3db5a1-b418-4673-b94e-fee3c3f81a40",
   "metadata": {
    "tags": []
   },
   "outputs": [],
   "source": [
    "%load_ext autoreload\n",
    "%autoreload 3"
   ]
  },
  {
   "cell_type": "code",
   "execution_count": null,
   "id": "984f028b-8165-450d-b138-2b1d0b6684c2",
   "metadata": {
    "tags": []
   },
   "outputs": [],
   "source": [
    "import pandas as pd\n",
    "import numpy as np\n",
    "import sqlalchemy as sa\n",
    "\n",
    "from dagster import AssetKey\n",
    "from ferc1_eia_match.candidate_set_creation import DataframeEmbedder, SimilaritySearcher\n",
    "from ferc1_eia_match.name_cleaner import CompanyNameCleaner\n",
    "from ferc1_eia_match import config\n",
    "import pudl\n",
    "from pudl.etl import defs\n",
    "from splink.duckdb.linker import DuckDBLinker\n",
    "import splink.duckdb.comparison_template_library as ctl"
   ]
  },
  {
   "cell_type": "code",
   "execution_count": null,
   "id": "d5e6acd2-ca5e-4487-b39a-c6d0d457ec08",
   "metadata": {
    "tags": []
   },
   "outputs": [],
   "source": [
    "pudl_engine = sa.create_engine(pudl.workspace.setup.PudlPaths().pudl_db)"
   ]
  },
  {
   "cell_type": "markdown",
   "id": "e30f7605-2cf6-4141-b448-9814290f9ca4",
   "metadata": {},
   "source": [
    "# Get and Clean Inputs\n",
    "\n",
    "FERC: get the FERC plant and utility information\n",
    "\n",
    "EIA: get the plant and utility information for unmapped EIA utilities\n",
    "\n",
    "- There's no FERC plant location data and there's no FERC utility address information, so the match should just be done on plant name and utility name"
   ]
  },
  {
   "cell_type": "code",
   "execution_count": null,
   "id": "16c45c30-3b5c-4ffb-aedf-3e94a650346d",
   "metadata": {},
   "outputs": [],
   "source": [
    "ferc_df = pd.read_sql(\"denorm_plants_utilities_ferc1\", pudl_engine)"
   ]
  },
  {
   "cell_type": "code",
   "execution_count": null,
   "id": "f43608f4-8853-4085-a8e7-8c11a051b7cd",
   "metadata": {
    "tags": []
   },
   "outputs": [],
   "source": [
    "eia_orig = pd.read_sql(\"denorm_ownership_eia860\", pudl_engine)\n",
    "unmapped_df = pd.read_csv(\"inputs/missing_utility_id_eia_in_utilities_eia.csv\")"
   ]
  },
  {
   "cell_type": "code",
   "execution_count": null,
   "id": "9909c2bc-d48d-4cd5-ba0c-a11b2c006a9c",
   "metadata": {
    "tags": []
   },
   "outputs": [],
   "source": [
    "eia_df = eia_orig[eia_orig.owner_utility_id_eia.isin(unmapped_df.utility_id_eia)][[\"owner_utility_id_eia\", \"plant_name_eia\", \"plant_id_pudl\", \"owner_name\"]]\n",
    "eia_df = eia_df.reset_index(drop=True)"
   ]
  },
  {
   "cell_type": "code",
   "execution_count": null,
   "id": "829ab4d3-df9b-4da3-841a-897d39f7a6e6",
   "metadata": {
    "tags": []
   },
   "outputs": [],
   "source": [
    "utility_name_cleaner = CompanyNameCleaner()\n",
    "eia_df = utility_name_cleaner.get_clean_df(eia_df, \"owner_name\", \"utility_name\")\n",
    "ferc_df = utility_name_cleaner.get_clean_df(ferc_df, \"utility_name_ferc1\", \"utility_name\")"
   ]
  },
  {
   "cell_type": "code",
   "execution_count": null,
   "id": "b8c21cc0-3427-49d3-b158-04b4cdf27863",
   "metadata": {
    "tags": []
   },
   "outputs": [],
   "source": [
    "# default rules except keep words in parentheses\n",
    "plant_name_cleaner = CompanyNameCleaner(\n",
    "    cleaning_rules_list=[\n",
    "        \"replace_amperstand_between_space_by_AND\",\n",
    "        \"replace_hyphen_between_spaces_by_single_space\",\n",
    "        \"replace_underscore_by_space\",\n",
    "        \"replace_underscore_between_spaces_by_single_space\",\n",
    "        \"remove_text_puctuation_except_dot\",\n",
    "        \"remove_math_symbols\",\n",
    "        \"add_space_before_opening_parentheses\",\n",
    "        \"add_space_after_closing_parentheses\",\n",
    "        \"remove_parentheses\",\n",
    "        \"remove_brackets\",\n",
    "        \"remove_curly_brackets\",\n",
    "        \"enforce_single_space_between_words\",\n",
    "    ]\n",
    ")\n",
    "eia_df = plant_name_cleaner.get_clean_df(eia_df, \"plant_name_eia\", \"plant_name\")\n",
    "ferc_df = plant_name_cleaner.get_clean_df(ferc_df, \"plant_name_ferc1\", \"plant_name\")"
   ]
  },
  {
   "cell_type": "code",
   "execution_count": null,
   "id": "22517ebb-bb39-461c-ad59-a9244653aaff",
   "metadata": {
    "tags": []
   },
   "outputs": [],
   "source": [
    "eia_df.head(3)"
   ]
  },
  {
   "cell_type": "code",
   "execution_count": null,
   "id": "bf2b6fb1-5eb6-4ca4-9a51-143e5ba98d7c",
   "metadata": {
    "tags": []
   },
   "outputs": [],
   "source": [
    "ferc_df.head(3)"
   ]
  },
  {
   "cell_type": "markdown",
   "id": "c33d54cc-ea8a-403f-9059-0c62c114f82b",
   "metadata": {},
   "source": [
    "# Run Blocking"
   ]
  },
  {
   "cell_type": "code",
   "execution_count": null,
   "id": "d8e394ee-6b0a-4c84-b08a-35a250839e25",
   "metadata": {
    "tags": []
   },
   "outputs": [],
   "source": [
    "# set configuration for model\n",
    "embedding_config_dict = {\n",
    "    \"embedding_map\": {\n",
    "        \"plant_name\": {\"embedding_type\": \"tfidf_vectorize\"},\n",
    "        \"utility_name\": {\"embedding_type\": \"tfidf_vectorize\"},\n",
    "    },\n",
    "    \"matching_cols\": [\n",
    "        \"plant_name\",\n",
    "        \"utility_name\",\n",
    "    ],\n",
    "}\n",
    "embedding_config = config.EmbeddingConfig(**embedding_config_dict)"
   ]
  },
  {
   "cell_type": "code",
   "execution_count": null,
   "id": "b5fb7a72-d6cb-496e-ae20-0a7fc15a9f13",
   "metadata": {
    "tags": []
   },
   "outputs": [],
   "source": [
    "embedder = DataframeEmbedder(\n",
    "    left_df = eia_df, \n",
    "    right_df = ferc_df, \n",
    "    embedding_map = embedding_config.embedding_map)"
   ]
  },
  {
   "cell_type": "code",
   "execution_count": null,
   "id": "f73e4c90-a20c-4370-8143-7a5700eb618f",
   "metadata": {
    "tags": []
   },
   "outputs": [],
   "source": [
    "embedder.embed_dataframes()"
   ]
  },
  {
   "cell_type": "code",
   "execution_count": null,
   "id": "38b48fe1-5d2d-4369-b661-b373d5f3ae22",
   "metadata": {
    "tags": []
   },
   "outputs": [],
   "source": [
    "embedder.left_embedding_matrix.shape, embedder.right_embedding_matrix.shape"
   ]
  },
  {
   "cell_type": "code",
   "execution_count": null,
   "id": "c2bf80f3-82ba-47af-abb5-9779e5075602",
   "metadata": {
    "tags": []
   },
   "outputs": [],
   "source": [
    "searcher = SimilaritySearcher(query_embedding_matrix=embedder.left_embedding_matrix,\n",
    "                   menu_embedding_matrix=embedder.right_embedding_matrix,\n",
    "                   query_blocks_dict=embedder.left_blocks_dict,\n",
    "                   menu_blocks_dict=embedder.right_blocks_dict)"
   ]
  },
  {
   "cell_type": "code",
   "execution_count": null,
   "id": "33344f66-d14c-4288-8905-0c006fd62529",
   "metadata": {
    "tags": []
   },
   "outputs": [],
   "source": [
    "k = 10"
   ]
  },
  {
   "cell_type": "code",
   "execution_count": null,
   "id": "a550ff18-a254-4455-8351-d3fbc69396c6",
   "metadata": {
    "tags": []
   },
   "outputs": [],
   "source": [
    "%%time\n",
    "cand_set = searcher.run_candidate_pair_search(k)"
   ]
  },
  {
   "cell_type": "code",
   "execution_count": null,
   "id": "4634ffc2-1050-4e94-90db-2c2d069d3952",
   "metadata": {
    "tags": []
   },
   "outputs": [],
   "source": [
    "cand_set.shape"
   ]
  },
  {
   "cell_type": "code",
   "execution_count": null,
   "id": "cd04e12c-d4a1-4be0-8d7b-50c70a091c19",
   "metadata": {
    "tags": []
   },
   "outputs": [],
   "source": [
    "i = 1"
   ]
  },
  {
   "cell_type": "code",
   "execution_count": null,
   "id": "09ccea6b-5bc2-4ae0-9fe0-c86de8848aad",
   "metadata": {
    "tags": []
   },
   "outputs": [],
   "source": [
    "pd.concat([eia_df.iloc[[i]][[\"utility_name\", \"plant_name\"]],\n",
    "           ferc_df.iloc[cand_set[i]][[\"utility_name\", \"plant_name\"]]])"
   ]
  },
  {
   "cell_type": "code",
   "execution_count": null,
   "id": "8867f422-c8fe-4d0c-a7b8-4aeee3eadb26",
   "metadata": {
    "tags": []
   },
   "outputs": [],
   "source": [
    "u, c = np.unique(cand_set, return_counts=True)"
   ]
  },
  {
   "cell_type": "code",
   "execution_count": null,
   "id": "47360d7f-2549-4263-94b5-fc109d6d23d0",
   "metadata": {
    "tags": []
   },
   "outputs": [],
   "source": [
    "len(eia_df), len(ferc_df), cand_set.shape, len(u)"
   ]
  },
  {
   "cell_type": "markdown",
   "id": "cf7ad4bd-49cf-45ed-af90-dd775f19a6ad",
   "metadata": {
    "tags": []
   },
   "source": [
    "For now, we're just going to jankily block by excluding the FERC records that don't appear in any of blocks. Later, fix the problem by combining blocks whenever a record shows up in multiple blocks."
   ]
  },
  {
   "cell_type": "code",
   "execution_count": null,
   "id": "1ed2049b-eacc-4bbd-8ad8-601951b19417",
   "metadata": {
    "tags": []
   },
   "outputs": [],
   "source": [
    "# eia_df = eia_df.reset_index(names=\"block_num\")\n",
    "# block_nums = np.repeat(np.arange(len(eia_df)), k)\n",
    "# ferc_df.loc[cand_set.flatten().astype(int), \"block_num\"] = block_nums"
   ]
  },
  {
   "cell_type": "code",
   "execution_count": null,
   "id": "5ca94c11-bce6-4f6b-a231-ebaeea16c411",
   "metadata": {
    "tags": []
   },
   "outputs": [],
   "source": [
    "ferc_df = ferc_df.iloc[u]"
   ]
  },
  {
   "cell_type": "markdown",
   "id": "b2ff4609-043d-47ca-a2c4-349b8f83f38f",
   "metadata": {},
   "source": [
    "# Match With Splink\n",
    "\n",
    "TODO: add in blocking with block_num"
   ]
  },
  {
   "cell_type": "code",
   "execution_count": null,
   "id": "6e911631-75dc-4ac6-bf1c-7f0793fa9cec",
   "metadata": {
    "tags": []
   },
   "outputs": [],
   "source": [
    "matching_cols = [\"plant_name\", \"utility_name\"]\n",
    "extra_cols = [\"plant_id_pudl\", \"index\"]"
   ]
  },
  {
   "cell_type": "code",
   "execution_count": null,
   "id": "82c802fb-bf4c-4450-81d6-42b5fbddff56",
   "metadata": {
    "tags": []
   },
   "outputs": [],
   "source": [
    "eia_df = eia_df.reset_index()\n",
    "ferc_df = ferc_df.reset_index()"
   ]
  },
  {
   "cell_type": "code",
   "execution_count": null,
   "id": "d2a89755-dcb6-407c-9d10-c5ce62450b99",
   "metadata": {
    "tags": []
   },
   "outputs": [],
   "source": [
    "settings_dict = {\"link_type\": \"link_only\",\n",
    "                 \"unique_id_column_name\": \"index\",\n",
    "                 \"additional_columns_to_retain\": [\"plant_id_pudl\"]}"
   ]
  },
  {
   "cell_type": "code",
   "execution_count": null,
   "id": "62d6f301-4a42-4769-aa9f-e7b97172dffa",
   "metadata": {
    "tags": []
   },
   "outputs": [],
   "source": [
    "linker = DuckDBLinker(\n",
    "    [eia_df[matching_cols + extra_cols], \n",
    "     ferc_df[matching_cols + extra_cols]], \n",
    "    input_table_aliases = [\"eia_df\", \"ferc_df\"], \n",
    "    settings_dict=settings_dict)"
   ]
  },
  {
   "cell_type": "code",
   "execution_count": null,
   "id": "3833aa6f-a33f-4c3b-bcde-3064d2b51693",
   "metadata": {
    "tags": []
   },
   "outputs": [],
   "source": [
    "linker.profile_columns(matching_cols, top_n=10, bottom_n=5)"
   ]
  },
  {
   "cell_type": "code",
   "execution_count": null,
   "id": "a6a4587b-2d2a-4366-9fb7-33708a37470f",
   "metadata": {
    "tags": []
   },
   "outputs": [],
   "source": [
    "# TODO: try with leveshtein thresholds\n",
    "plant_name_comparison = ctl.name_comparison(\"plant_name\",\n",
    "                                            jaro_winkler_thresholds=[.8, .7, .6],\n",
    "                                            include_exact_match_level=False)\n",
    "utility_name_comparison = ctl.name_comparison(\"utility_name\",\n",
    "                                              jaro_winkler_thresholds=[.9, .7],\n",
    "                                              damerau_levenshtein_thresholds=[4, 5],\n",
    "                                              include_exact_match_level=False)"
   ]
  },
  {
   "cell_type": "code",
   "execution_count": null,
   "id": "ff38106e-a55e-4d75-ae91-c321ab0fa5fa",
   "metadata": {
    "tags": []
   },
   "outputs": [],
   "source": [
    "settings_dict.update({\n",
    "    \"comparisons\": [\n",
    "        plant_name_comparison,\n",
    "        utility_name_comparison,\n",
    "    ],\n",
    "    \"retain_matching_columns\": True,\n",
    "    \"retain_intermediate_calculation_columns\": True,\n",
    "    \"probability_two_random_records_match\": 1/len(eia_df) # is this correct?\n",
    "    }\n",
    ")"
   ]
  },
  {
   "cell_type": "code",
   "execution_count": null,
   "id": "5d2e6fd2-f633-49f3-8646-a338db99ccb7",
   "metadata": {
    "tags": []
   },
   "outputs": [],
   "source": [
    "linker.load_settings(settings_dict)"
   ]
  },
  {
   "cell_type": "code",
   "execution_count": null,
   "id": "59a7e8e9-2488-4b71-a177-bcb02fc55282",
   "metadata": {
    "tags": []
   },
   "outputs": [],
   "source": [
    "%%time\n",
    "linker.estimate_u_using_random_sampling(max_pairs=1e6)"
   ]
  },
  {
   "cell_type": "code",
   "execution_count": null,
   "id": "a1d3c05d-20bb-4383-8af1-3a4c6877bc04",
   "metadata": {
    "tags": []
   },
   "outputs": [],
   "source": [
    "training_blocking_rule_1 = \"jaro_winkler_similarity(l.plant_name, r.plant_name) >= 0.6\"\n",
    "training_session_1 = linker.estimate_parameters_using_expectation_maximisation(training_blocking_rule_1)"
   ]
  },
  {
   "cell_type": "code",
   "execution_count": null,
   "id": "ebfeb37d-1016-4961-949a-2d1bbd0c2dda",
   "metadata": {
    "tags": []
   },
   "outputs": [],
   "source": [
    "training_blocking_rule_2 = \"jaro_winkler_similarity(l.utility_name, r.utility_name) >= 0.8\"\n",
    "training_session_2 = linker.estimate_parameters_using_expectation_maximisation(training_blocking_rule_2)"
   ]
  },
  {
   "cell_type": "code",
   "execution_count": null,
   "id": "b894741d-85af-4ada-9b7b-6f3f5dc00adc",
   "metadata": {
    "tags": []
   },
   "outputs": [],
   "source": [
    "# add more jaro_winkler thresholds in?\n",
    "linker.match_weights_chart()"
   ]
  },
  {
   "cell_type": "code",
   "execution_count": null,
   "id": "e2b0eee3-cc34-46d1-a8ed-04b73dd26ca2",
   "metadata": {
    "tags": []
   },
   "outputs": [],
   "source": [
    "linker.m_u_parameters_chart()"
   ]
  },
  {
   "cell_type": "code",
   "execution_count": null,
   "id": "c59ed2a7-fbb9-4024-9e0a-4bb3efbd89a7",
   "metadata": {
    "tags": []
   },
   "outputs": [],
   "source": [
    "linker.unlinkables_chart()"
   ]
  },
  {
   "cell_type": "code",
   "execution_count": null,
   "id": "d30f5275-cf3e-4b4b-b51b-03f5164d2388",
   "metadata": {
    "tags": []
   },
   "outputs": [],
   "source": [
    "df_preds = linker.predict(threshold_match_probability=.1)"
   ]
  },
  {
   "cell_type": "code",
   "execution_count": null,
   "id": "296fe79a-48b4-4cd6-88e2-e3a8586dacdd",
   "metadata": {
    "tags": []
   },
   "outputs": [],
   "source": [
    "sorted_preds_df = df_preds.as_pandas_dataframe().sort_values(by=\"match_probability\", ascending=False)"
   ]
  },
  {
   "cell_type": "code",
   "execution_count": null,
   "id": "b6338969-82d8-4a8a-94d1-30f0993c3eac",
   "metadata": {
    "tags": []
   },
   "outputs": [],
   "source": [
    "sorted_preds_df"
   ]
  },
  {
   "cell_type": "code",
   "execution_count": null,
   "id": "6d0fe88f-763d-446b-ba69-cae8553f45f3",
   "metadata": {},
   "outputs": [],
   "source": []
  }
 ],
 "metadata": {
  "kernelspec": {
   "display_name": "ferc1_eia_match",
   "language": "python",
   "name": "ferc1_eia_match"
  },
  "language_info": {
   "codemirror_mode": {
    "name": "ipython",
    "version": 3
   },
   "file_extension": ".py",
   "mimetype": "text/x-python",
   "name": "python",
   "nbconvert_exporter": "python",
   "pygments_lexer": "ipython3",
   "version": "3.11.4"
  }
 },
 "nbformat": 4,
 "nbformat_minor": 5
}
