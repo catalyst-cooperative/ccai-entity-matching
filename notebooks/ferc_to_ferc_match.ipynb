{
 "cells": [
  {
   "cell_type": "markdown",
   "id": "8a3f7594-93d2-4b14-a216-847e235b66c8",
   "metadata": {},
   "source": [
    "# FERC to FERC Match"
   ]
  },
  {
   "cell_type": "markdown",
   "id": "0d78f61f-4ccf-4a53-8526-d347010f62a3",
   "metadata": {},
   "source": [
    "A classifier for identifying FERC plant time series in FERC Form 1 data.\n",
    "\n",
    "Input: FERC plant record  \n",
    "Output: The ID of the group of records that it ought to be part of\n",
    "\n",
    "Training data: A list of lists of unique FERC plant record IDs (each record ID is the concatenation of: report year, respondent id, supplement number, and row number). It could also be stored as a dataframe where each column is associated with a year of data(some of which could be empty). Not sure what the best structure would be."
   ]
  },
  {
   "cell_type": "code",
   "execution_count": 1,
   "id": "ca0ab492-4695-4a3f-93db-4d39315c5273",
   "metadata": {
    "tags": []
   },
   "outputs": [],
   "source": [
    "%load_ext autoreload\n",
    "%autoreload 3"
   ]
  },
  {
   "cell_type": "code",
   "execution_count": 129,
   "id": "84e287da-c757-4eb7-a664-557952826d6f",
   "metadata": {
    "tags": []
   },
   "outputs": [],
   "source": [
    "import faiss\n",
    "from matplotlib import pyplot as plt\n",
    "import numpy as np\n",
    "import pandas as pd\n",
    "from sklearn.compose import ColumnTransformer\n",
    "from sklearn.feature_extraction.text import TfidfVectorizer\n",
    "from sklearn.pipeline import Pipeline\n",
    "from sklearn.preprocessing import MinMaxScaler, Normalizer, OneHotEncoder\n",
    "from sklearn.cluster import AgglomerativeClustering\n",
    "from sklearn.decomposition import PCA\n",
    "\n",
    "from pudl.etl import defs\n",
    "from ferc1_eia_match.name_cleaner import CompanyNameCleaner\n",
    "from ferc1_eia_match.candidate_set_creation import DataframeEmbedder\n",
    "from ferc1_eia_match import config"
   ]
  },
  {
   "cell_type": "markdown",
   "id": "145dee3d-d3ec-432b-86c8-6ea94a3af1ef",
   "metadata": {},
   "source": [
    "## Get input data"
   ]
  },
  {
   "cell_type": "code",
   "execution_count": 3,
   "id": "f1537b80-f13c-4c8b-8a37-4f46d751db05",
   "metadata": {
    "tags": []
   },
   "outputs": [
    {
     "name": "stderr",
     "output_type": "stream",
     "text": [
      "INFO:alembic.runtime.migration:Context impl SQLiteImpl.\n",
      "INFO:alembic.runtime.migration:Will assume non-transactional DDL.\n",
      "INFO:alembic.runtime.migration:Context impl SQLiteImpl.\n",
      "INFO:alembic.runtime.migration:Will assume non-transactional DDL.\n",
      "INFO:alembic.runtime.migration:Context impl SQLiteImpl.\n",
      "INFO:alembic.runtime.migration:Will assume non-transactional DDL.\n",
      "INFO:alembic.runtime.migration:Context impl SQLiteImpl.\n",
      "INFO:alembic.runtime.migration:Will assume non-transactional DDL.\n",
      "INFO:alembic.runtime.migration:Running stamp_revision  -> ec80dd91891a\n",
      "INFO:alembic.runtime.migration:Context impl SQLiteImpl.\n",
      "INFO:alembic.runtime.migration:Will assume non-transactional DDL.\n",
      "INFO:alembic.runtime.migration:Running stamp_revision  -> ec80dd91891a\n",
      "INFO:alembic.runtime.migration:Context impl SQLiteImpl.\n",
      "INFO:alembic.runtime.migration:Will assume non-transactional DDL.\n",
      "INFO:alembic.runtime.migration:Running stamp_revision  -> ec80dd91891a\n",
      "INFO:alembic.runtime.migration:Context impl SQLiteImpl.\n",
      "INFO:alembic.runtime.migration:Will assume non-transactional DDL.\n",
      "INFO:alembic.runtime.migration:Running stamp_revision  -> ec80dd91891a\n"
     ]
    }
   ],
   "source": [
    "# use denorm_plants_all_ferc1 instead?\n",
    "plants_df = defs.load_asset_value(\"denorm_plants_steam_ferc1\")"
   ]
  },
  {
   "cell_type": "code",
   "execution_count": 4,
   "id": "28e035fa-af04-40b0-bfb5-5ff8d4ab3966",
   "metadata": {
    "tags": []
   },
   "outputs": [
    {
     "name": "stderr",
     "output_type": "stream",
     "text": [
      "INFO:alembic.runtime.migration:Context impl SQLiteImpl.\n",
      "INFO:alembic.runtime.migration:Will assume non-transactional DDL.\n",
      "INFO:alembic.runtime.migration:Context impl SQLiteImpl.\n",
      "INFO:alembic.runtime.migration:Will assume non-transactional DDL.\n",
      "INFO:alembic.runtime.migration:Context impl SQLiteImpl.\n",
      "INFO:alembic.runtime.migration:Will assume non-transactional DDL.\n",
      "INFO:alembic.runtime.migration:Context impl SQLiteImpl.\n",
      "INFO:alembic.runtime.migration:Will assume non-transactional DDL.\n",
      "INFO:alembic.runtime.migration:Running stamp_revision  -> ec80dd91891a\n",
      "INFO:alembic.runtime.migration:Context impl SQLiteImpl.\n",
      "INFO:alembic.runtime.migration:Will assume non-transactional DDL.\n",
      "INFO:alembic.runtime.migration:Running stamp_revision  -> ec80dd91891a\n",
      "INFO:alembic.runtime.migration:Context impl SQLiteImpl.\n",
      "INFO:alembic.runtime.migration:Will assume non-transactional DDL.\n",
      "INFO:alembic.runtime.migration:Running stamp_revision  -> ec80dd91891a\n",
      "INFO:alembic.runtime.migration:Context impl SQLiteImpl.\n",
      "INFO:alembic.runtime.migration:Will assume non-transactional DDL.\n",
      "INFO:alembic.runtime.migration:Running stamp_revision  -> ec80dd91891a\n"
     ]
    }
   ],
   "source": [
    "fuel_df = defs.load_asset_value(\"denorm_fuel_by_plant_ferc1\")"
   ]
  },
  {
   "cell_type": "code",
   "execution_count": 5,
   "id": "f0a67284-1c56-4808-97d4-dc5f6d70bc90",
   "metadata": {
    "tags": []
   },
   "outputs": [],
   "source": [
    "fuel_cols = list(fuel_df.filter(regex=\".*_fraction_mmbtu$\").columns)"
   ]
  },
  {
   "cell_type": "code",
   "execution_count": 6,
   "id": "09d9b040-4d73-457c-8b0d-aedae7787fb9",
   "metadata": {
    "tags": []
   },
   "outputs": [],
   "source": [
    "plants_df = plants_df.merge(\n",
    "    fuel_df[[\"utility_id_ferc1\", \"plant_name_ferc1\", \"report_year\"] + fuel_cols],\n",
    "    on=[\"utility_id_ferc1\", \"plant_name_ferc1\", \"report_year\"],\n",
    "    how=\"left\",\n",
    ")"
   ]
  },
  {
   "cell_type": "code",
   "execution_count": 7,
   "id": "f1d9abf9-115b-4995-9139-be0f90179de6",
   "metadata": {
    "tags": []
   },
   "outputs": [],
   "source": [
    "utility_name_cleaner = CompanyNameCleaner()\n",
    "# default rules except keep words in parentheses\n",
    "plant_name_cleaner = CompanyNameCleaner(\n",
    "    cleaning_rules_list=[\n",
    "        \"replace_amperstand_between_space_by_AND\",\n",
    "        \"replace_hyphen_between_spaces_by_single_space\",\n",
    "        \"replace_underscore_by_space\",\n",
    "        \"replace_underscore_between_spaces_by_single_space\",\n",
    "        \"remove_text_puctuation_except_dot\",\n",
    "        \"remove_math_symbols\",\n",
    "        \"add_space_before_opening_parentheses\",\n",
    "        \"add_space_after_closing_parentheses\",\n",
    "        \"remove_parentheses\",\n",
    "        \"remove_brackets\",\n",
    "        \"remove_curly_brackets\",\n",
    "        \"enforce_single_space_between_words\",\n",
    "    ]\n",
    ")"
   ]
  },
  {
   "cell_type": "code",
   "execution_count": 8,
   "id": "31385c76-42fc-40bc-83f5-d715c1d1d80e",
   "metadata": {
    "tags": []
   },
   "outputs": [],
   "source": [
    "plants_df = (\n",
    "    plants_df.pipe(\n",
    "        utility_name_cleaner.get_clean_df,\n",
    "        \"utility_name_ferc1\",\n",
    "        \"utility_name\",\n",
    "    )\n",
    "    .pipe(plant_name_cleaner.get_clean_df, \"plant_name_ferc1\", \"plant_name\")\n",
    ")"
   ]
  },
  {
   "cell_type": "markdown",
   "id": "3822216d-648d-4d8a-ab19-298132c64b19",
   "metadata": {},
   "source": [
    "Probably should adapt the DataframeEmbedder class to function with a \"pipeline\"-like structure for all these embedding functions."
   ]
  },
  {
   "cell_type": "markdown",
   "id": "0912dbfd-c150-4cf5-9bf4-2989e36e7a92",
   "metadata": {},
   "source": [
    "Vectorize FERC data:  \n",
    "* plant_name (via TF-IDF, with ngram_min and ngram_max as parameters)\n",
    "* plant_type (OneHot encoded categorical feature)\n",
    "* construction_type (OneHot encoded categorical feature)\n",
    "* capacity_mw (MinMax scaled numerical feature)\n",
    "* construction year (OneHot encoded categorical feature)\n",
    "* utility_id_ferc1 (OneHot encoded categorical feature)\n",
    "* fuel_fraction_mmbtu (several MinMax scaled numerical columns, which are\n",
    "normalized and treated as a single feature.)\n",
    "\n",
    "Note: Integer nulls are filled with 0 in the PUDL module"
   ]
  },
  {
   "cell_type": "code",
   "execution_count": 9,
   "id": "ac501a11-f639-4da4-bf67-3c8dde58bf71",
   "metadata": {
    "tags": []
   },
   "outputs": [],
   "source": [
    "ngram_min=2\n",
    "ngram_max=10\n",
    "plant_name_ferc1_wt=2.0\n",
    "plant_type_wt=2.0\n",
    "construction_type_wt=1.0\n",
    "capacity_mw_wt=1.0\n",
    "construction_year_wt=1.0\n",
    "utility_id_ferc1_wt=1.0\n",
    "fuel_fraction_wt=1.0"
   ]
  },
  {
   "cell_type": "code",
   "execution_count": 10,
   "id": "09fc9fb9-b305-4b20-a794-5be728f2f889",
   "metadata": {
    "tags": []
   },
   "outputs": [],
   "source": [
    "str_cols = [\"plant_type\", \"construction_type\"]\n",
    "num_cols = [\"capacity_mw\", \"construction_year\", \"utility_id_ferc1\"] + fuel_cols"
   ]
  },
  {
   "cell_type": "code",
   "execution_count": 11,
   "id": "ea2dd010-e5f8-4920-b263-47bcb9bccaee",
   "metadata": {
    "tags": []
   },
   "outputs": [],
   "source": [
    "plants_df[str_cols] = plants_df[str_cols].astype(str).fillna(\"\").astype(\"category\")"
   ]
  },
  {
   "cell_type": "code",
   "execution_count": 12,
   "id": "acc3be84-ad56-4951-9d92-19cd87d0ba87",
   "metadata": {
    "tags": []
   },
   "outputs": [],
   "source": [
    "plants_df[num_cols] = plants_df[num_cols].fillna(0)"
   ]
  },
  {
   "cell_type": "code",
   "execution_count": 13,
   "id": "86e4ce2a-72d4-42ba-8b3d-4f5b581cf56e",
   "metadata": {
    "tags": []
   },
   "outputs": [],
   "source": [
    "embedder = ColumnTransformer(\n",
    "    transformers=[\n",
    "        (\n",
    "            \"plant_name_ferc1\",\n",
    "            TfidfVectorizer(\n",
    "                analyzer=\"char\", ngram_range=(ngram_min, ngram_max)\n",
    "            ),\n",
    "            \"plant_name_ferc1\",\n",
    "        ),\n",
    "        (\n",
    "            \"plant_type\",\n",
    "            OneHotEncoder(categories=\"auto\"),\n",
    "            [\"plant_type\"],\n",
    "        ),\n",
    "        (\n",
    "            \"construction_type\",\n",
    "            OneHotEncoder(categories=\"auto\"),\n",
    "            [\"construction_type\"],\n",
    "        ),\n",
    "        (\"capacity_mw\", MinMaxScaler(), [\"capacity_mw\"]),\n",
    "        (\n",
    "            \"construction_year\",\n",
    "            OneHotEncoder(categories=\"auto\"),\n",
    "            [\"construction_year\"],\n",
    "        ),\n",
    "        (\n",
    "            \"utility_id_ferc1\",\n",
    "            OneHotEncoder(categories=\"auto\"),\n",
    "            [\"utility_id_ferc1\"],\n",
    "        ),\n",
    "        (\n",
    "            \"fuel_fraction_mmbtu\",\n",
    "            Pipeline(\n",
    "                [(\"scaler\", MinMaxScaler()), (\"norm\", Normalizer())]\n",
    "            ),\n",
    "            fuel_cols,\n",
    "        ),\n",
    "    ],\n",
    "    transformer_weights={\n",
    "        \"plant_name_ferc1\": plant_name_ferc1_wt,\n",
    "        \"plant_type\": plant_type_wt,\n",
    "        \"construction_type\": construction_type_wt,\n",
    "        \"capacity_mw\": capacity_mw_wt,\n",
    "        \"construction_year\": construction_year_wt,\n",
    "        \"utility_id_ferc1\": utility_id_ferc1_wt,\n",
    "        \"fuel_fraction_mmbtu\": fuel_fraction_wt,\n",
    "    },\n",
    ")"
   ]
  },
  {
   "cell_type": "code",
   "execution_count": 14,
   "id": "32506726-33b7-41ce-bb22-ade3bdc1ad9c",
   "metadata": {
    "tags": []
   },
   "outputs": [],
   "source": [
    "plants_matrix_sparse = embedder.fit_transform(plants_df)"
   ]
  },
  {
   "cell_type": "code",
   "execution_count": 15,
   "id": "e20bd41b-8492-4881-b679-bc55c526b556",
   "metadata": {
    "tags": []
   },
   "outputs": [
    {
     "data": {
      "text/plain": [
       "(30825, 80576)"
      ]
     },
     "execution_count": 15,
     "metadata": {},
     "output_type": "execute_result"
    }
   ],
   "source": [
    "plants_matrix_sparse.shape"
   ]
  },
  {
   "cell_type": "code",
   "execution_count": 16,
   "id": "42d6ebc3-9f90-46d0-9d95-84538053cccb",
   "metadata": {
    "tags": []
   },
   "outputs": [
    {
     "data": {
      "text/plain": [
       "7144"
      ]
     },
     "execution_count": 16,
     "metadata": {},
     "output_type": "execute_result"
    }
   ],
   "source": [
    "plants_df.plant_id_ferc1.max()"
   ]
  },
  {
   "cell_type": "code",
   "execution_count": 111,
   "id": "f3bd7690-9f3c-47f2-bec5-bbd4ca0c018e",
   "metadata": {
    "tags": []
   },
   "outputs": [
    {
     "name": "stdout",
     "output_type": "stream",
     "text": [
      "CPU times: user 7.52 s, sys: 13.1 s, total: 20.6 s\n",
      "Wall time: 23.5 s\n"
     ]
    }
   ],
   "source": [
    "%%time\n",
    "d = plants_matrix_sparse.shape[1]\n",
    "plants_matrix = np.float32(plants_matrix_sparse.todense())"
   ]
  },
  {
   "cell_type": "code",
   "execution_count": 113,
   "id": "04905a4a-b8ed-46e7-9739-0074458afd0a",
   "metadata": {
    "tags": []
   },
   "outputs": [],
   "source": [
    "plants_small = plants_matrix[:2000]"
   ]
  },
  {
   "cell_type": "code",
   "execution_count": 114,
   "id": "9833928c-c3f1-4652-9267-efb3f5886b4f",
   "metadata": {
    "tags": []
   },
   "outputs": [],
   "source": [
    "plants_small_df = plants_df[:2000].copy()"
   ]
  },
  {
   "cell_type": "code",
   "execution_count": 116,
   "id": "08f99aa5-a9ec-4850-a45a-2f76cb77b8a4",
   "metadata": {
    "tags": []
   },
   "outputs": [
    {
     "name": "stdout",
     "output_type": "stream",
     "text": [
      "CPU times: user 17.8 s, sys: 1.06 s, total: 18.9 s\n",
      "Wall time: 20 s\n"
     ]
    }
   ],
   "source": [
    "%%time\n",
    "pca_small = PCA(n_components=500)\n",
    "plants_small_pca = pca_small.fit_transform(np.asarray(plants_small))"
   ]
  },
  {
   "cell_type": "code",
   "execution_count": 79,
   "id": "1237fe4c-ac0e-48b5-86d7-a91622ad789f",
   "metadata": {
    "tags": []
   },
   "outputs": [
    {
     "name": "stdout",
     "output_type": "stream",
     "text": [
      "CPU times: user 9min 52s, sys: 2min 57s, total: 12min 49s\n",
      "Wall time: 24min 26s\n"
     ]
    }
   ],
   "source": [
    "%%time\n",
    "pca = PCA(n_components=500)\n",
    "plants_matrix_pca = pca.fit_transform(plants_matrix)"
   ]
  },
  {
   "cell_type": "code",
   "execution_count": 44,
   "id": "48e18430-973f-47d1-b3d6-63fe630c9e8e",
   "metadata": {
    "tags": []
   },
   "outputs": [],
   "source": [
    "# similarity threshold of .75 is used in the PUDL module, but we need a distance threshold\n",
    "d_threshold = .3"
   ]
  },
  {
   "cell_type": "markdown",
   "id": "0fda48eb-2a56-4091-a94d-e506917bba30",
   "metadata": {},
   "source": [
    "https://scikit-learn.org/stable/auto_examples/cluster/plot_agglomerative_clustering_metrics.html#sphx-glr-auto-examples-cluster-plot-agglomerative-clustering-metrics-py\n",
    "\n",
    "Maybe cosine distance isn't the best metric here even though it's used in the PUDL module\n",
    "\n",
    "What are we optimizing for? \n",
    "- largest possible clusters so there are few straggler records\n",
    "- no overlapping report years within a cluster"
   ]
  },
  {
   "cell_type": "code",
   "execution_count": 76,
   "id": "42640346-0154-4dae-a661-a8cb4a9a1e74",
   "metadata": {
    "tags": []
   },
   "outputs": [
    {
     "name": "stdout",
     "output_type": "stream",
     "text": [
      "CPU times: user 621 ms, sys: 14.4 ms, total: 635 ms\n",
      "Wall time: 657 ms\n"
     ]
    }
   ],
   "source": [
    "%%time\n",
    "# use the distance matrix and pass it into sklearn agglomerative clustering\n",
    "agg_clustering_small = AgglomerativeClustering(n_clusters=None,\n",
    "                                         metric=\"euclidean\",\n",
    "                                         # connectivity=similarities,\n",
    "                                         linkage=\"single\",\n",
    "                                         distance_threshold=d_threshold)\n",
    "labels = agg_clustering_small.fit_predict(np.asarray(plants_small_pca))"
   ]
  },
  {
   "cell_type": "code",
   "execution_count": 77,
   "id": "19d12d97-07a2-4cb9-83ed-92b44905e926",
   "metadata": {
    "tags": []
   },
   "outputs": [],
   "source": [
    "plants_small_df[\"id\"] = labels"
   ]
  },
  {
   "cell_type": "code",
   "execution_count": 78,
   "id": "e5b32f5f-6c7d-4482-a7de-6a4f00efb947",
   "metadata": {
    "tags": []
   },
   "outputs": [
    {
     "data": {
      "text/plain": [
       "1    1946\n",
       "2      15\n",
       "4       6\n",
       "Name: count, dtype: int64"
      ]
     },
     "execution_count": 78,
     "metadata": {},
     "output_type": "execute_result"
    }
   ],
   "source": [
    "# do records with the same record year end up in the same group?\n",
    "# is there a way to build this restriction into the classifier?\n",
    "# could add a \"distance to the rest of the cluster\" metric and choose the record with smaller distance\n",
    "plants_small_df.groupby(by=[\"id\", \"report_year\"]).size().value_counts()"
   ]
  },
  {
   "cell_type": "code",
   "execution_count": 59,
   "id": "d281f1e4-f9b9-4eb4-a108-4223060803a9",
   "metadata": {
    "tags": []
   },
   "outputs": [
    {
     "data": {
      "text/plain": [
       "<Axes: >"
      ]
     },
     "execution_count": 59,
     "metadata": {},
     "output_type": "execute_result"
    },
    {
     "data": {
      "image/png": "[encoded data removed]",
      "text/plain": [
       "<Figure size 640x480 with 1 Axes>"
      ]
     },
     "metadata": {},
     "output_type": "display_data"
    }
   ],
   "source": [
    "plants_small_df.groupby(by=[\"id\"]).size().hist(bins=20)"
   ]
  },
  {
   "cell_type": "code",
   "execution_count": 92,
   "id": "3375c760-b77c-4d1b-ad68-cfd0fd8154b5",
   "metadata": {
    "tags": []
   },
   "outputs": [
    {
     "data": {
      "text/plain": [
       "plant_id_ferc1\n",
       "1     400\n",
       "2      12\n",
       "3       3\n",
       "4       7\n",
       "5      16\n",
       "6       5\n",
       "7       1\n",
       "8       1\n",
       "10      1\n",
       "11      1\n",
       "12      1\n",
       "13      5\n",
       "16      1\n",
       "19      1\n",
       "Name: count, dtype: int64"
      ]
     },
     "execution_count": 92,
     "metadata": {},
     "output_type": "execute_result"
    }
   ],
   "source": [
    "plants_small_df.groupby(\"id\").plant_id_ferc1.nunique().value_counts().sort_index()"
   ]
  },
  {
   "cell_type": "code",
   "execution_count": 80,
   "id": "7d367a71-98dd-4e82-9bb5-2167dc20ede9",
   "metadata": {
    "tags": []
   },
   "outputs": [
    {
     "name": "stdout",
     "output_type": "stream",
     "text": [
      "CPU times: user 4min 1s, sys: 4.42 s, total: 4min 5s\n",
      "Wall time: 4min 27s\n"
     ]
    }
   ],
   "source": [
    "%%time\n",
    "# run on all data\n",
    "agg_clustering = AgglomerativeClustering(n_clusters=None,\n",
    "                                         metric=\"euclidean\",\n",
    "                                         linkage=\"single\",\n",
    "                                         distance_threshold=d_threshold)\n",
    "labels = agg_clustering.fit_predict(np.asarray(plants_matrix_pca))"
   ]
  },
  {
   "cell_type": "code",
   "execution_count": 81,
   "id": "2643fd70-39c6-44b9-82f9-3b182919f9e3",
   "metadata": {
    "tags": []
   },
   "outputs": [],
   "source": [
    "plants_labels_df = plants_df.copy()"
   ]
  },
  {
   "cell_type": "code",
   "execution_count": 82,
   "id": "ca82cbef-8eea-4196-a544-4fc8ddbb2144",
   "metadata": {
    "tags": []
   },
   "outputs": [],
   "source": [
    "plants_labels_df[\"id\"] = labels"
   ]
  },
  {
   "cell_type": "code",
   "execution_count": 83,
   "id": "aef03e5d-0e36-4aba-a62f-552fac822e82",
   "metadata": {
    "tags": []
   },
   "outputs": [
    {
     "data": {
      "text/plain": [
       "1     29534\n",
       "2       522\n",
       "3        38\n",
       "4        15\n",
       "5         4\n",
       "10        1\n",
       "17        1\n",
       "7         1\n",
       "19        1\n",
       "Name: count, dtype: int64"
      ]
     },
     "execution_count": 83,
     "metadata": {},
     "output_type": "execute_result"
    }
   ],
   "source": [
    "# do records with the same record year end up in the same group?\n",
    "# is there a way to build this restriction into the classifier?\n",
    "# could add a \"distance to the rest of the cluster\" metric and choose the record with smaller distance\n",
    "plants_labels_df.groupby(by=[\"id\", \"report_year\"]).size().value_counts()"
   ]
  },
  {
   "cell_type": "code",
   "execution_count": 84,
   "id": "06700110-0ec7-4a8d-9afa-86da6822f98c",
   "metadata": {
    "tags": []
   },
   "outputs": [
    {
     "data": {
      "text/plain": [
       "<Axes: >"
      ]
     },
     "execution_count": 84,
     "metadata": {},
     "output_type": "execute_result"
    },
    {
     "data": {
      "image/png": "[encoded data removed]",
      "text/plain": [
       "<Figure size 640x480 with 1 Axes>"
      ]
     },
     "metadata": {},
     "output_type": "display_data"
    }
   ],
   "source": [
    "plants_labels_df.groupby(by=[\"id\"]).size().hist(bins=20)"
   ]
  },
  {
   "cell_type": "code",
   "execution_count": 93,
   "id": "52f68faa-f863-4784-bd88-010b827a7956",
   "metadata": {
    "tags": []
   },
   "outputs": [
    {
     "data": {
      "text/plain": [
       "7.656482861400894"
      ]
     },
     "execution_count": 93,
     "metadata": {},
     "output_type": "execute_result"
    }
   ],
   "source": [
    "# clusters should probably be larger?\n",
    "plants_labels_df.groupby(\"id\").size().mean()"
   ]
  },
  {
   "cell_type": "code",
   "execution_count": 94,
   "id": "db893abd-2a61-42a2-bfb3-17ab6b34e5cb",
   "metadata": {
    "tags": []
   },
   "outputs": [
    {
     "data": {
      "text/plain": [
       "4025"
      ]
     },
     "execution_count": 94,
     "metadata": {},
     "output_type": "execute_result"
    }
   ],
   "source": [
    "plants_labels_df.id.max()"
   ]
  },
  {
   "cell_type": "code",
   "execution_count": 91,
   "id": "4f89d198-c1c9-4f92-a81b-3a5407175216",
   "metadata": {
    "tags": []
   },
   "outputs": [
    {
     "data": {
      "text/plain": [
       "plant_id_ferc1\n",
       "1     3441\n",
       "2      123\n",
       "3       78\n",
       "4       43\n",
       "5       56\n",
       "6       32\n",
       "7       35\n",
       "8       19\n",
       "9       17\n",
       "10      11\n",
       "Name: count, dtype: int64"
      ]
     },
     "execution_count": 91,
     "metadata": {},
     "output_type": "execute_result"
    }
   ],
   "source": [
    "plants_labels_df.groupby(\"id\").plant_id_ferc1.nunique().value_counts().sort_index().head(10)"
   ]
  },
  {
   "cell_type": "markdown",
   "id": "f73a536a-7f3b-4da1-8786-192f8e14211f",
   "metadata": {},
   "source": [
    "What is the average distance between records in a group?"
   ]
  },
  {
   "cell_type": "code",
   "execution_count": 106,
   "id": "d8073be6-daf6-46ce-8627-41c64f508f14",
   "metadata": {
    "tags": []
   },
   "outputs": [
    {
     "data": {
      "text/plain": [
       "(0, 4025)"
      ]
     },
     "execution_count": 106,
     "metadata": {},
     "output_type": "execute_result"
    }
   ],
   "source": [
    "labels.min(),labels.max()"
   ]
  },
  {
   "cell_type": "code",
   "execution_count": 126,
   "id": "d46741a8-453b-4a56-b6dc-c465b86431fd",
   "metadata": {
    "tags": []
   },
   "outputs": [
    {
     "name": "stdout",
     "output_type": "stream",
     "text": [
      "CPU times: user 1min 37s, sys: 2.07 s, total: 1min 39s\n",
      "Wall time: 1min 38s\n"
     ]
    }
   ],
   "source": [
    "%%time\n",
    "index = faiss.IndexFlatL2(500)\n",
    "index.add(np.float32(plants_matrix_pca))\n",
    "avg_distances = []\n",
    "for i in range(labels.max() + 1):\n",
    "    cluster_idx = np.where(labels == i)\n",
    "    d, _ = index.search(plants_matrix_pca[cluster_idx], len(cluster_idx))\n",
    "    avg_distances.append(d.mean())"
   ]
  },
  {
   "cell_type": "code",
   "execution_count": 147,
   "id": "735ba13d-5575-4951-b04b-ac2b79604b95",
   "metadata": {
    "tags": []
   },
   "outputs": [
    {
     "data": {
      "text/plain": [
       "0.000000e+00    3715\n",
       "1.833989e-08       2\n",
       "1.907349e-08       1\n",
       "2.073205e-08       1\n",
       "2.270653e-08       2\n",
       "                ... \n",
       "5.616082e-06       1\n",
       "5.865097e-06       1\n",
       "5.960464e-06       1\n",
       "6.085350e-06       1\n",
       "6.176177e-06       1\n",
       "Name: count, Length: 212, dtype: int64"
      ]
     },
     "execution_count": 147,
     "metadata": {},
     "output_type": "execute_result"
    }
   ],
   "source": [
    "# the distances are really small, adjust clustering accordingly?\n",
    "pd.Series(avg_distances).value_counts().sort_index()"
   ]
  },
  {
   "cell_type": "markdown",
   "id": "ea181f66-bebd-4f3d-bd67-a0509faaa4df",
   "metadata": {
    "tags": []
   },
   "source": [
    "### Try using FAISS to generate connectivity matrix"
   ]
  },
  {
   "cell_type": "code",
   "execution_count": 20,
   "id": "ed2296c1-a564-4d77-9a15-383ebfdfb73d",
   "metadata": {
    "tags": []
   },
   "outputs": [
    {
     "name": "stdout",
     "output_type": "stream",
     "text": [
      "CPU times: user 194 ms, sys: 130 ms, total: 324 ms\n",
      "Wall time: 368 ms\n"
     ]
    }
   ],
   "source": [
    "%%time\n",
    "faiss.normalize_L2(plants_small)\n",
    "# use the Inner Product Index, which is equivalent to cosine sim for normalized vectors\n",
    "index = faiss.IndexFlatIP(d)\n",
    "index.add(plants_small)"
   ]
  },
  {
   "cell_type": "code",
   "execution_count": 21,
   "id": "1ab9d053-7dd4-41e2-9e7e-fa23a4c9f685",
   "metadata": {
    "tags": []
   },
   "outputs": [
    {
     "name": "stdout",
     "output_type": "stream",
     "text": [
      "CPU times: user 4.37 s, sys: 43.3 ms, total: 4.42 s\n",
      "Wall time: 1.44 s\n"
     ]
    }
   ],
   "source": [
    "%%time\n",
    "# I feel like this shouldn't take this long, maybe something is messed up with threading\n",
    "similarities, neighbors = index.search(plants_small, plants_small.shape[0])"
   ]
  },
  {
   "cell_type": "code",
   "execution_count": 22,
   "id": "936dc3df-394f-40c0-b765-18b4b394b191",
   "metadata": {
    "tags": []
   },
   "outputs": [
    {
     "data": {
      "text/plain": [
       "(1000, 1000)"
      ]
     },
     "execution_count": 22,
     "metadata": {},
     "output_type": "execute_result"
    }
   ],
   "source": [
    "similarities.shape"
   ]
  },
  {
   "cell_type": "code",
   "execution_count": null,
   "id": "7cf1e6a3-4210-42d7-82fb-bc5b70c3140d",
   "metadata": {
    "tags": []
   },
   "outputs": [],
   "source": [
    "np.all(np.abs(similarities-similarities.T) < 1e-8)"
   ]
  },
  {
   "cell_type": "code",
   "execution_count": null,
   "id": "c8c67839-fb64-4db6-891d-8f415fe3ab32",
   "metadata": {
    "tags": []
   },
   "outputs": [],
   "source": [
    "%%time\n",
    "# this doesn't seem to work\n",
    "# use the distance matrix and pass it into sklearn agglomerative clustering\n",
    "agg_clustering = AgglomerativeClustering(n_clusters=None,\n",
    "                                         metric=\"cosine\", # try using \"cosine\", but is that a similarity?\n",
    "                                         connectivity=similarities,\n",
    "                                         linkage=\"single\",\n",
    "                                         distance_threshold=d_threshold)\n",
    "labels = agg_clustering.fit_predict(np.asarray(plants_small))"
   ]
  },
  {
   "cell_type": "markdown",
   "id": "3b85d4e5-d6d4-45ed-8632-ade84ce0b9f3",
   "metadata": {},
   "source": [
    "Graph the results"
   ]
  },
  {
   "cell_type": "code",
   "execution_count": null,
   "id": "a269dac1-5f31-442c-9dea-c641ee6db658",
   "metadata": {},
   "outputs": [],
   "source": []
  },
  {
   "cell_type": "markdown",
   "id": "134ea69d-cd5c-45e0-b4e6-f4bc436aff89",
   "metadata": {},
   "source": [
    "Deal with orphaned records"
   ]
  },
  {
   "cell_type": "code",
   "execution_count": null,
   "id": "8ad684c8-665c-4e2e-b95a-ac2e8cd3bc0b",
   "metadata": {},
   "outputs": [],
   "source": []
  }
 ],
 "metadata": {
  "kernelspec": {
   "display_name": "ferc1_eia_match",
   "language": "python",
   "name": "ferc1_eia_match"
  },
  "language_info": {
   "codemirror_mode": {
    "name": "ipython",
    "version": 3
   },
   "file_extension": ".py",
   "mimetype": "text/x-python",
   "name": "python",
   "nbconvert_exporter": "python",
   "pygments_lexer": "ipython3",
   "version": "3.11.6"
  }
 },
 "nbformat": 4,
 "nbformat_minor": 5
}
