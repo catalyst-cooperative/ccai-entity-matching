{
 "cells": [
  {
   "cell_type": "markdown",
   "id": "8a3f7594-93d2-4b14-a216-847e235b66c8",
   "metadata": {},
   "source": [
    "# FERC to FERC Match"
   ]
  },
  {
   "cell_type": "markdown",
   "id": "0d78f61f-4ccf-4a53-8526-d347010f62a3",
   "metadata": {},
   "source": [
    "A classifier for identifying FERC plant time series in FERC Form 1 data.\n",
    "\n",
    "Input: FERC plant record  \n",
    "Output: The ID of the group of records that it ought to be part of\n",
    "\n",
    "Training data: A list of lists of unique FERC plant record IDs (each record ID is the concatenation of: report year, respondent id, supplement number, and row number). It could also be stored as a dataframe where each column is associated with a year of data(some of which could be empty). Not sure what the best structure would be."
   ]
  },
  {
   "cell_type": "code",
   "execution_count": null,
   "id": "ca0ab492-4695-4a3f-93db-4d39315c5273",
   "metadata": {
    "tags": []
   },
   "outputs": [],
   "source": [
    "%load_ext autoreload\n",
    "%autoreload 3"
   ]
  },
  {
   "cell_type": "code",
   "execution_count": null,
   "id": "84e287da-c757-4eb7-a664-557952826d6f",
   "metadata": {
    "tags": []
   },
   "outputs": [],
   "source": [
    "import faiss\n",
    "import numpy as np\n",
    "import pandas as pd\n",
    "from sklearn.compose import ColumnTransformer\n",
    "from sklearn.feature_extraction.text import TfidfVectorizer\n",
    "from sklearn.pipeline import Pipeline\n",
    "from sklearn.preprocessing import MinMaxScaler, Normalizer, OneHotEncoder\n",
    "\n",
    "from pudl.etl import defs\n",
    "from ferc1_eia_match.name_cleaner import CompanyNameCleaner\n",
    "from ferc1_eia_match.candidate_set_creation import DataframeEmbedder\n",
    "from ferc1_eia_match import config"
   ]
  },
  {
   "cell_type": "markdown",
   "id": "145dee3d-d3ec-432b-86c8-6ea94a3af1ef",
   "metadata": {},
   "source": [
    "## Get input data"
   ]
  },
  {
   "cell_type": "code",
   "execution_count": null,
   "id": "f1537b80-f13c-4c8b-8a37-4f46d751db05",
   "metadata": {
    "tags": []
   },
   "outputs": [],
   "source": [
    "# use denorm_plants_all_ferc1 instead?\n",
    "plants_df = defs.load_asset_value(\"denorm_plants_steam_ferc1\")"
   ]
  },
  {
   "cell_type": "code",
   "execution_count": null,
   "id": "28e035fa-af04-40b0-bfb5-5ff8d4ab3966",
   "metadata": {
    "tags": []
   },
   "outputs": [],
   "source": [
    "fuel_df = defs.load_asset_value(\"denorm_fuel_by_plant_ferc1\")"
   ]
  },
  {
   "cell_type": "code",
   "execution_count": null,
   "id": "f0a67284-1c56-4808-97d4-dc5f6d70bc90",
   "metadata": {
    "tags": []
   },
   "outputs": [],
   "source": [
    "fuel_cols = list(fuel_df.filter(regex=\".*_fraction_mmbtu$\").columns)"
   ]
  },
  {
   "cell_type": "code",
   "execution_count": null,
   "id": "09d9b040-4d73-457c-8b0d-aedae7787fb9",
   "metadata": {
    "tags": []
   },
   "outputs": [],
   "source": [
    "plants_df = plants_df.merge(\n",
    "    fuel_df[[\"utility_id_ferc1\", \"plant_name_ferc1\", \"report_year\"] + fuel_cols],\n",
    "    on=[\"utility_id_ferc1\", \"plant_name_ferc1\", \"report_year\"],\n",
    "    how=\"left\",\n",
    ")"
   ]
  },
  {
   "cell_type": "code",
   "execution_count": null,
   "id": "f1d9abf9-115b-4995-9139-be0f90179de6",
   "metadata": {
    "tags": []
   },
   "outputs": [],
   "source": [
    "utility_name_cleaner = CompanyNameCleaner()\n",
    "# default rules except keep words in parentheses\n",
    "plant_name_cleaner = CompanyNameCleaner(\n",
    "    cleaning_rules_list=[\n",
    "        \"replace_amperstand_between_space_by_AND\",\n",
    "        \"replace_hyphen_between_spaces_by_single_space\",\n",
    "        \"replace_underscore_by_space\",\n",
    "        \"replace_underscore_between_spaces_by_single_space\",\n",
    "        \"remove_text_puctuation_except_dot\",\n",
    "        \"remove_math_symbols\",\n",
    "        \"add_space_before_opening_parentheses\",\n",
    "        \"add_space_after_closing_parentheses\",\n",
    "        \"remove_parentheses\",\n",
    "        \"remove_brackets\",\n",
    "        \"remove_curly_brackets\",\n",
    "        \"enforce_single_space_between_words\",\n",
    "    ]\n",
    ")"
   ]
  },
  {
   "cell_type": "code",
   "execution_count": null,
   "id": "31385c76-42fc-40bc-83f5-d715c1d1d80e",
   "metadata": {
    "tags": []
   },
   "outputs": [],
   "source": [
    "plants_df = (\n",
    "    plants_df.pipe(\n",
    "        utility_name_cleaner.get_clean_df,\n",
    "        \"utility_name_ferc1\",\n",
    "        \"utility_name\",\n",
    "    )\n",
    "    .pipe(plant_name_cleaner.get_clean_df, \"plant_name_ferc1\", \"plant_name\")\n",
    ")"
   ]
  },
  {
   "cell_type": "markdown",
   "id": "3822216d-648d-4d8a-ab19-298132c64b19",
   "metadata": {},
   "source": [
    "Probably should adapt the DataframeEmbedder class to function with a \"pipeline\"-like structure for all these embedding functions."
   ]
  },
  {
   "cell_type": "markdown",
   "id": "0912dbfd-c150-4cf5-9bf4-2989e36e7a92",
   "metadata": {},
   "source": [
    "Vectorize FERC data:  \n",
    "* plant_name (via TF-IDF, with ngram_min and ngram_max as parameters)\n",
    "* plant_type (OneHot encoded categorical feature)\n",
    "* construction_type (OneHot encoded categorical feature)\n",
    "* capacity_mw (MinMax scaled numerical feature)\n",
    "* construction year (OneHot encoded categorical feature)\n",
    "* utility_id_ferc1 (OneHot encoded categorical feature)\n",
    "* fuel_fraction_mmbtu (several MinMax scaled numerical columns, which are\n",
    "normalized and treated as a single feature.)\n",
    "\n",
    "Note: Integer nulls are filled with 0 in the PUDL module"
   ]
  },
  {
   "cell_type": "code",
   "execution_count": null,
   "id": "ac501a11-f639-4da4-bf67-3c8dde58bf71",
   "metadata": {
    "tags": []
   },
   "outputs": [],
   "source": [
    "ngram_min=2\n",
    "ngram_max=10\n",
    "plant_name_ferc1_wt=2.0\n",
    "plant_type_wt=2.0\n",
    "construction_type_wt=1.0\n",
    "capacity_mw_wt=1.0\n",
    "construction_year_wt=1.0\n",
    "utility_id_ferc1_wt=1.0\n",
    "fuel_fraction_wt=1.0"
   ]
  },
  {
   "cell_type": "code",
   "execution_count": null,
   "id": "09fc9fb9-b305-4b20-a794-5be728f2f889",
   "metadata": {
    "tags": []
   },
   "outputs": [],
   "source": [
    "str_cols = [\"plant_type\", \"construction_type\"]\n",
    "num_cols = [\"capacity_mw\", \"construction_year\", \"utility_id_ferc1\"] + fuel_cols"
   ]
  },
  {
   "cell_type": "code",
   "execution_count": null,
   "id": "ea2dd010-e5f8-4920-b263-47bcb9bccaee",
   "metadata": {
    "tags": []
   },
   "outputs": [],
   "source": [
    "plants_df[str_cols] = plants_df[str_cols].astype(str).fillna(\"\").astype(\"category\")"
   ]
  },
  {
   "cell_type": "code",
   "execution_count": null,
   "id": "acc3be84-ad56-4951-9d92-19cd87d0ba87",
   "metadata": {
    "tags": []
   },
   "outputs": [],
   "source": [
    "plants_df[num_cols] = plants_df[num_cols].fillna(0)"
   ]
  },
  {
   "cell_type": "code",
   "execution_count": null,
   "id": "86e4ce2a-72d4-42ba-8b3d-4f5b581cf56e",
   "metadata": {
    "tags": []
   },
   "outputs": [],
   "source": [
    "embedder = ColumnTransformer(\n",
    "    transformers=[\n",
    "        (\n",
    "            \"plant_name_ferc1\",\n",
    "            TfidfVectorizer(\n",
    "                analyzer=\"char\", ngram_range=(ngram_min, ngram_max)\n",
    "            ),\n",
    "            \"plant_name_ferc1\",\n",
    "        ),\n",
    "        (\n",
    "            \"plant_type\",\n",
    "            OneHotEncoder(categories=\"auto\"),\n",
    "            [\"plant_type\"],\n",
    "        ),\n",
    "        (\n",
    "            \"construction_type\",\n",
    "            OneHotEncoder(categories=\"auto\"),\n",
    "            [\"construction_type\"],\n",
    "        ),\n",
    "        (\"capacity_mw\", MinMaxScaler(), [\"capacity_mw\"]),\n",
    "        (\n",
    "            \"construction_year\",\n",
    "            OneHotEncoder(categories=\"auto\"),\n",
    "            [\"construction_year\"],\n",
    "        ),\n",
    "        (\n",
    "            \"utility_id_ferc1\",\n",
    "            OneHotEncoder(categories=\"auto\"),\n",
    "            [\"utility_id_ferc1\"],\n",
    "        ),\n",
    "        (\n",
    "            \"fuel_fraction_mmbtu\",\n",
    "            Pipeline(\n",
    "                [(\"scaler\", MinMaxScaler()), (\"norm\", Normalizer())]\n",
    "            ),\n",
    "            fuel_cols,\n",
    "        ),\n",
    "    ],\n",
    "    transformer_weights={\n",
    "        \"plant_name_ferc1\": plant_name_ferc1_wt,\n",
    "        \"plant_type\": plant_type_wt,\n",
    "        \"construction_type\": construction_type_wt,\n",
    "        \"capacity_mw\": capacity_mw_wt,\n",
    "        \"construction_year\": construction_year_wt,\n",
    "        \"utility_id_ferc1\": utility_id_ferc1_wt,\n",
    "        \"fuel_fraction_mmbtu\": fuel_fraction_wt,\n",
    "    },\n",
    ")"
   ]
  },
  {
   "cell_type": "code",
   "execution_count": null,
   "id": "32506726-33b7-41ce-bb22-ade3bdc1ad9c",
   "metadata": {
    "tags": []
   },
   "outputs": [],
   "source": [
    "plants_matrix_sparse = embedder.fit_transform(plants_df)"
   ]
  },
  {
   "cell_type": "code",
   "execution_count": null,
   "id": "e20bd41b-8492-4881-b679-bc55c526b556",
   "metadata": {
    "tags": []
   },
   "outputs": [],
   "source": [
    "# maybe want to downsample\n",
    "plants_matrix_sparse.shape"
   ]
  },
  {
   "cell_type": "markdown",
   "id": "ff115fa4-9d90-4e13-8872-b3114bc9c004",
   "metadata": {},
   "source": [
    "Run similarity search"
   ]
  },
  {
   "cell_type": "code",
   "execution_count": null,
   "id": "42d6ebc3-9f90-46d0-9d95-84538053cccb",
   "metadata": {
    "tags": []
   },
   "outputs": [],
   "source": [
    "plants_df.plant_id_ferc1.max()"
   ]
  },
  {
   "cell_type": "code",
   "execution_count": null,
   "id": "f3bd7690-9f3c-47f2-bec5-bbd4ca0c018e",
   "metadata": {
    "tags": []
   },
   "outputs": [],
   "source": [
    "%%time\n",
    "d = plants_matrix_sparse.shape[1]\n",
    "plants_matrix = np.float32(plants_matrix_sparse.todense())"
   ]
  },
  {
   "cell_type": "code",
   "execution_count": null,
   "id": "04905a4a-b8ed-46e7-9739-0074458afd0a",
   "metadata": {
    "tags": []
   },
   "outputs": [],
   "source": [
    "plants_small = plants_matrix[:2000]"
   ]
  },
  {
   "cell_type": "code",
   "execution_count": null,
   "id": "9833928c-c3f1-4652-9267-efb3f5886b4f",
   "metadata": {
    "tags": []
   },
   "outputs": [],
   "source": [
    "plants_small_df = plants_df[:2000].copy()"
   ]
  },
  {
   "cell_type": "code",
   "execution_count": null,
   "id": "33b835d0-aa4b-46b9-a9c6-2fccaa40d0ea",
   "metadata": {
    "tags": []
   },
   "outputs": [],
   "source": [
    "from sklearn.cluster import AgglomerativeClustering"
   ]
  },
  {
   "cell_type": "code",
   "execution_count": null,
   "id": "48e18430-973f-47d1-b3d6-63fe630c9e8e",
   "metadata": {
    "tags": []
   },
   "outputs": [],
   "source": [
    "# similarity threshold of .75 is used in the PUDL module, but we need a distance threshold\n",
    "d_threshold = .25"
   ]
  },
  {
   "cell_type": "code",
   "execution_count": null,
   "id": "42640346-0154-4dae-a661-a8cb4a9a1e74",
   "metadata": {
    "tags": []
   },
   "outputs": [],
   "source": [
    "%%time\n",
    "# use the distance matrix and pass it into sklearn agglomerative clustering\n",
    "agg_clustering = AgglomerativeClustering(n_clusters=None,\n",
    "                                         metric=\"cosine\", # try using \"cosine\", but didn't seem to work as well\n",
    "                                         # connectivity=similarities,\n",
    "                                         linkage=\"single\",\n",
    "                                         distance_threshold=d_threshold)\n",
    "labels = agg_clustering.fit_predict(np.asarray(plants_small))"
   ]
  },
  {
   "cell_type": "code",
   "execution_count": null,
   "id": "19d12d97-07a2-4cb9-83ed-92b44905e926",
   "metadata": {
    "tags": []
   },
   "outputs": [],
   "source": [
    "plants_small_df[\"id\"] = labels"
   ]
  },
  {
   "cell_type": "code",
   "execution_count": null,
   "id": "3375c760-b77c-4d1b-ad68-cfd0fd8154b5",
   "metadata": {
    "tags": []
   },
   "outputs": [],
   "source": [
    "plants_small_df.groupby(\"id\").plant_id_ferc1.count().value_counts().sort_index()"
   ]
  },
  {
   "cell_type": "code",
   "execution_count": null,
   "id": "ed2296c1-a564-4d77-9a15-383ebfdfb73d",
   "metadata": {
    "tags": []
   },
   "outputs": [],
   "source": [
    "%%time\n",
    "faiss.normalize_L2(plants_small)\n",
    "# use the Inner Product Index, which is equivalent to cosine sim for normalized vectors\n",
    "index = faiss.IndexFlatIP(d)\n",
    "index.add(plants_small)"
   ]
  },
  {
   "cell_type": "code",
   "execution_count": null,
   "id": "1ab9d053-7dd4-41e2-9e7e-fa23a4c9f685",
   "metadata": {
    "tags": []
   },
   "outputs": [],
   "source": [
    "%%time\n",
    "# I feel like this shouldn't take this long, maybe something is messed up with threading\n",
    "similarities, neighbors = index.search(plants_small, plants_small.shape[0])"
   ]
  },
  {
   "cell_type": "code",
   "execution_count": null,
   "id": "7cf1e6a3-4210-42d7-82fb-bc5b70c3140d",
   "metadata": {
    "tags": []
   },
   "outputs": [],
   "source": [
    "np.all(np.abs(similarities-similarities.T) < 1e-8)"
   ]
  },
  {
   "cell_type": "code",
   "execution_count": null,
   "id": "c8c67839-fb64-4db6-891d-8f415fe3ab32",
   "metadata": {
    "tags": []
   },
   "outputs": [],
   "source": [
    "%%time\n",
    "# this doesn't seem to work\n",
    "# use the distance matrix and pass it into sklearn agglomerative clustering\n",
    "agg_clustering = AgglomerativeClustering(n_clusters=None,\n",
    "                                         metric=\"cosine\", # try using \"cosine\", but is that a similarity?\n",
    "                                         connectivity=similarities,\n",
    "                                         linkage=\"single\",\n",
    "                                         distance_threshold=d_threshold)\n",
    "labels = agg_clustering.fit_predict(np.asarray(plants_small))"
   ]
  },
  {
   "cell_type": "markdown",
   "id": "3b85d4e5-d6d4-45ed-8632-ade84ce0b9f3",
   "metadata": {},
   "source": [
    "Graph the results"
   ]
  },
  {
   "cell_type": "code",
   "execution_count": null,
   "id": "a269dac1-5f31-442c-9dea-c641ee6db658",
   "metadata": {},
   "outputs": [],
   "source": []
  },
  {
   "cell_type": "markdown",
   "id": "134ea69d-cd5c-45e0-b4e6-f4bc436aff89",
   "metadata": {},
   "source": [
    "Deal with orphaned records"
   ]
  },
  {
   "cell_type": "code",
   "execution_count": null,
   "id": "8ad684c8-665c-4e2e-b95a-ac2e8cd3bc0b",
   "metadata": {},
   "outputs": [],
   "source": []
  }
 ],
 "metadata": {
  "kernelspec": {
   "display_name": "ferc1_eia_match",
   "language": "python",
   "name": "ferc1_eia_match"
  },
  "language_info": {
   "codemirror_mode": {
    "name": "ipython",
    "version": 3
   },
   "file_extension": ".py",
   "mimetype": "text/x-python",
   "name": "python",
   "nbconvert_exporter": "python",
   "pygments_lexer": "ipython3",
   "version": "3.11.6"
  }
 },
 "nbformat": 4,
 "nbformat_minor": 5
}
