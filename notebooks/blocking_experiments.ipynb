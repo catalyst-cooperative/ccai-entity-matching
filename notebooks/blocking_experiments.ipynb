{
 "cells": [
  {
   "cell_type": "code",
   "execution_count": null,
   "id": "af52a417-a47f-4515-8b86-b7d7f343ccf1",
   "metadata": {
    "tags": []
   },
   "outputs": [],
   "source": [
    "%load_ext autoreload\n",
    "%autoreload 3"
   ]
  },
  {
   "cell_type": "code",
   "execution_count": null,
   "id": "d0850d54-e165-4fa9-9b14-1938cbdfbc18",
   "metadata": {
    "tags": []
   },
   "outputs": [],
   "source": [
    "import logging\n",
    "\n",
    "import numpy as np\n",
    "import pandas as pd\n",
    "import sqlalchemy as sa\n",
    "\n",
    "import ferc1_eia_match\n",
    "from ferc1_eia_match.candidate_set_creation import DataframeEmbedder, SimilaritySearcher\n",
    "import pudl"
   ]
  },
  {
   "cell_type": "code",
   "execution_count": null,
   "id": "46704aa2-1458-4a8e-8312-b70ac5b9b293",
   "metadata": {
    "tags": []
   },
   "outputs": [],
   "source": [
    "logger = logging.getLogger(__name__)"
   ]
  },
  {
   "cell_type": "code",
   "execution_count": null,
   "id": "a6870ae3-bfa9-4eb5-b1b0-9e1a6d48dd62",
   "metadata": {
    "tags": []
   },
   "outputs": [],
   "source": [
    "pudl_engine = sa.create_engine(pudl.workspace.setup.get_defaults()['pudl_db'])"
   ]
  },
  {
   "cell_type": "code",
   "execution_count": null,
   "id": "7d32e602-91f8-4f88-bbd9-ef49e58e8806",
   "metadata": {
    "tags": []
   },
   "outputs": [],
   "source": [
    "from pudl.etl import defs, default_assets, AssetKey\n",
    "from pudl.helpers import get_asset_group_keys"
   ]
  },
  {
   "cell_type": "code",
   "execution_count": null,
   "id": "fc94e73c-efe9-4f8a-be79-3b210122f6d3",
   "metadata": {
    "tags": []
   },
   "outputs": [],
   "source": [
    "table_name =\"denorm_plants_all_ferc1\"\n",
    "defs.load_asset_value(AssetKey(table_name))"
   ]
  },
  {
   "cell_type": "markdown",
   "id": "4dfe9ddf-fb88-49df-a455-2d7fb592bc41",
   "metadata": {},
   "source": [
    "# EIA and FERC 1 Inputs\n",
    "\n",
    "Generate the FERC and EIA inputs or read in a pickled dataframe."
   ]
  },
  {
   "cell_type": "code",
   "execution_count": null,
   "id": "6983c25d-5e2e-4dae-bfce-90b77e3f6a2e",
   "metadata": {
    "tags": []
   },
   "outputs": [],
   "source": [
    "# set the report years for the experiment\n",
    "start_report_year = 2018\n",
    "end_report_year = 2020"
   ]
  },
  {
   "cell_type": "code",
   "execution_count": null,
   "id": "95622dd5-4c5a-4eff-abd2-2ddf2292da3a",
   "metadata": {
    "tags": []
   },
   "outputs": [],
   "source": [
    "inputs = ferc1_eia_match.inputs.InputManager(\n",
    "    pudl_engine=pudl_engine, start_report_year=start_report_year, end_report_year=end_report_year)"
   ]
  },
  {
   "cell_type": "code",
   "execution_count": null,
   "id": "4f890fac-e31a-4901-a6c0-62cd6aec5b1d",
   "metadata": {},
   "outputs": [],
   "source": [
    "eia_df = inputs.get_eia_input()"
   ]
  },
  {
   "cell_type": "code",
   "execution_count": null,
   "id": "c9a15906-2bb8-499b-bd4e-4dadaf75ad5d",
   "metadata": {},
   "outputs": [],
   "source": [
    "ferc_df = inputs.get_ferc_input()"
   ]
  },
  {
   "cell_type": "markdown",
   "id": "981cc4ae-e62b-4432-be3b-d322fb821cf6",
   "metadata": {},
   "source": [
    "Alternatively, read in pickled dataframes"
   ]
  },
  {
   "cell_type": "code",
   "execution_count": null,
   "id": "2688c515-af2b-4528-b3c8-96c6e878353e",
   "metadata": {
    "tags": []
   },
   "outputs": [],
   "source": [
    "# ferc_df = pd.read_pickle(\"../ferc_18_20.pkl\")\n",
    "# eia_df = pd.read_pickle(\"../plant_parts_18_20.pkl\")"
   ]
  },
  {
   "cell_type": "code",
   "execution_count": null,
   "id": "c6fa3577-018f-496e-9ac9-e5117b48c1fd",
   "metadata": {
    "tags": []
   },
   "outputs": [],
   "source": [
    "# columns in both the EIA and FERC1 dataframe that can be used for similarity search\n",
    "# report_year is a manual blocking column\n",
    "# later, some more complex feature engineering could be done\n",
    "matching_cols = [\"plant_name\",\n",
    "                 \"utility_name\",\n",
    "                 \"installation_year\",\n",
    "                 \"construction_year\",\n",
    "                 \"fuel_type_code_pudl\",\n",
    "                 \"capacity_mw\",\n",
    "                 \"report_year\"]"
   ]
  },
  {
   "cell_type": "code",
   "execution_count": null,
   "id": "509e3011-60e1-42af-b892-574ec4603512",
   "metadata": {
    "tags": []
   },
   "outputs": [],
   "source": [
    "ferc_left = ferc_df[matching_cols].reset_index()\n",
    "eia_right = eia_df[matching_cols].reset_index()"
   ]
  },
  {
   "cell_type": "markdown",
   "id": "1d3d665e-b939-4aee-a4c6-0babf62eb658",
   "metadata": {},
   "source": [
    "# Blocking Experiments\n",
    "\n",
    "Goal: Place all the correctly matching record pairs into the candidate set of matches, while making the size of the candidate set as small as possible. This allows for a more efficient subsequent linkage phase."
   ]
  },
  {
   "cell_type": "markdown",
   "id": "5252800c-e6b7-450c-b6ae-ab2c5ca8beb9",
   "metadata": {},
   "source": [
    "## TF-IDF + Equal Weight Aggregation\n",
    "- Attribute vectorization: TF-IDF\n",
    "- Tuple aggregation: equal weight concatenation\n",
    "- Similarity search: L2 distance and cosine distance (separate)"
   ]
  },
  {
   "cell_type": "code",
   "execution_count": null,
   "id": "5f2f5787-a6cb-4d04-b044-96c109faec24",
   "metadata": {
    "tags": []
   },
   "outputs": [],
   "source": [
    "col_embedding_dict = {\n",
    "    \"plant_name\": \"tfidf\",\n",
    "    \"utility_name\": \"tfidf\",\n",
    "    \"fuel_type_code_pudl\": \"tfidf\",\n",
    "    \"installation_year\": \"min_max_scale\",\n",
    "    \"construction_year\": \"min_max_scale\",\n",
    "    \"capacity_mw\": \"min_max_scale\"\n",
    "}\n",
    "embedder = DataframeEmbedder(left_df=ferc_left, right_df=eia_right, col_embedding_dict=col_embedding_dict)"
   ]
  },
  {
   "cell_type": "code",
   "execution_count": null,
   "id": "ddf074e2-87f6-466b-8692-82d073e76582",
   "metadata": {
    "tags": []
   },
   "outputs": [],
   "source": [
    "embedder.embed_dataframes(blocking_col=\"report_year\")"
   ]
  },
  {
   "cell_type": "code",
   "execution_count": null,
   "id": "6fad88ed-9698-445c-8d0c-973eb2cef5b4",
   "metadata": {
    "tags": []
   },
   "outputs": [],
   "source": [
    "embedder.left_embedding_matrix.shape, embedder.right_embedding_matrix.shape"
   ]
  },
  {
   "cell_type": "code",
   "execution_count": null,
   "id": "7e85859d-ea4f-49d5-ae56-134e90e34fac",
   "metadata": {
    "tags": []
   },
   "outputs": [],
   "source": [
    "# should be a key for each value in blocking_col\n",
    "len(embedder.left_blocks_dict), len(embedder.right_blocks_dict)"
   ]
  },
  {
   "cell_type": "code",
   "execution_count": null,
   "id": "0b5d6381-88d2-4c85-841d-66f0d97c902f",
   "metadata": {
    "tags": []
   },
   "outputs": [],
   "source": [
    "df = pd.DataFrame({\"a\": [1, 2, 1]})\n",
    "type(df.groupby(\"a\").groups[1])"
   ]
  },
  {
   "cell_type": "code",
   "execution_count": null,
   "id": "f8f325dd-18d5-4148-9be9-4008fac52e0e",
   "metadata": {
    "tags": []
   },
   "outputs": [],
   "source": [
    "def run_l2_search(embedder, k):\n",
    "    # an array of the k best right matches for each left record\n",
    "    candidate_set = np.empty((len(embedder.left_df), k))\n",
    "    for block_key in embedder.left_blocks_dict:\n",
    "        print(f\"Conducting search on the {block_key} block\")\n",
    "        left_idx = embedder.left_blocks_dict[block_key].to_numpy()\n",
    "        right_idx = embedder.right_blocks_dict[block_key].to_numpy()\n",
    "        sim_searcher = SimilaritySearcher(\n",
    "            query_embedding_matrix=embedder.left_embedding_matrix[left_idx],\n",
    "            index_embedding_matrix=embedder.right_embedding_matrix[right_idx],\n",
    "        )\n",
    "        block_candidate_set = right_idx[sim_searcher.l2_distance_search(k)]\n",
    "        candidate_set[left_idx] = block_candidate_set\n",
    "    return candidate_set"
   ]
  },
  {
   "cell_type": "code",
   "execution_count": null,
   "id": "2c0c3bb5-5761-4071-8e36-242e32af1ec0",
   "metadata": {
    "tags": []
   },
   "outputs": [],
   "source": [
    "%%time\n",
    "candidate_set = run_l2_search(embedder, k=5)"
   ]
  },
  {
   "cell_type": "code",
   "execution_count": null,
   "id": "9639ac32-9c57-4a1c-a41f-d739189faf4a",
   "metadata": {
    "tags": []
   },
   "outputs": [],
   "source": [
    "%%time\n",
    "# block on report year\n",
    "# this manual blocking will get moved into the SimilaritySearch module later\n",
    "# we want k best matches for each ferc record\n",
    "candidate_set = np.empty((len(ferc_left), k))\n",
    "for year in np.arange(start_report_year, end_report_year + 1):\n",
    "    print(year)\n",
    "    ferc_idx = ferc_left[ferc_left.report_year == year].index.to_numpy()\n",
    "    eia_idx = eia_right[eia_right.report_year == year].index.to_numpy()\n",
    "    year_left = ferc_left_embed[ferc_idx]\n",
    "    year_right = eia_right_embed[eia_idx]\n",
    "    year_candidate_set = SimilaritySearch().l2_search(\n",
    "        query_embeddings=year_left, match_embeddings=year_right, k=k)\n",
    "    # map back from the year index to the full embedding index\n",
    "    mapped_idx_candidate_set = eia_idx[year_candidate_set]\n",
    "    candidate_set[ferc_idx] = mapped_idx_candidate_set"
   ]
  },
  {
   "cell_type": "code",
   "execution_count": null,
   "id": "77390494-54db-44c1-8124-98e005966690",
   "metadata": {
    "tags": []
   },
   "outputs": [],
   "source": [
    "# quick sanity check\n",
    "ferc_left.iloc[0]"
   ]
  },
  {
   "cell_type": "code",
   "execution_count": null,
   "id": "395c1b4a-c8c5-453c-8bd1-87869d30483c",
   "metadata": {
    "tags": []
   },
   "outputs": [],
   "source": [
    "eia_right.iloc[candidate_set[0]]"
   ]
  },
  {
   "cell_type": "markdown",
   "id": "b8f85daf-0fc5-4cde-9d3a-ba0c222fff25",
   "metadata": {},
   "source": [
    "# Measure Performance\n",
    "\n",
    "How many of the training matches does a candidate set capture while minimizing the size of the candidate set?"
   ]
  },
  {
   "cell_type": "code",
   "execution_count": null,
   "id": "f47f1653-2c0e-42c5-9130-c23e59b449be",
   "metadata": {
    "tags": []
   },
   "outputs": [],
   "source": [
    "# read in training data\n",
    "train_df = pd.read_csv(\"../ferc1_eia_train.csv\")"
   ]
  },
  {
   "cell_type": "code",
   "execution_count": null,
   "id": "210f95ab-639d-48f2-a265-5b91ae501829",
   "metadata": {
    "tags": []
   },
   "outputs": [],
   "source": [
    "train_df = train_df[(train_df.record_id_ferc1.isin(ferc_df.index)) & (train_df.record_id_eia.isin(eia_df.index))]"
   ]
  },
  {
   "cell_type": "code",
   "execution_count": null,
   "id": "ccdff55a-fa18-48bc-bd8b-22279788bfbb",
   "metadata": {
    "tags": []
   },
   "outputs": [],
   "source": [
    "len(train_df)"
   ]
  },
  {
   "cell_type": "code",
   "execution_count": null,
   "id": "5998473c-cbb5-45a7-b967-e7ba63ec3c27",
   "metadata": {
    "tags": []
   },
   "outputs": [],
   "source": [
    "# to do: do this without a for loop, use map to go from record ID to index?\n",
    "successes = 0\n",
    "failures = []\n",
    "for _, row in train_df.iterrows():\n",
    "    ferc_idx = ferc_left[ferc_left.record_id_ferc1 == row.record_id_ferc1].index[0]\n",
    "    eia_idx = eia_right[eia_right.record_id_eia == row.record_id_eia].index[0]\n",
    "    if eia_idx in candidate_set[ferc_idx]:\n",
    "        successes += 1\n",
    "    else:\n",
    "        failures.append((ferc_idx, eia_idx))"
   ]
  },
  {
   "cell_type": "code",
   "execution_count": null,
   "id": "eca7b723-e86f-4e4e-b9d4-9166aebaaebc",
   "metadata": {
    "tags": []
   },
   "outputs": [],
   "source": [
    "successes"
   ]
  },
  {
   "cell_type": "code",
   "execution_count": null,
   "id": "83bb91bc-bc84-47fa-91af-482ed5c46090",
   "metadata": {
    "tags": []
   },
   "outputs": [],
   "source": [
    "len(failures)"
   ]
  },
  {
   "cell_type": "code",
   "execution_count": null,
   "id": "63201b06-bf26-4eba-a893-4900aa6fb292",
   "metadata": {
    "tags": []
   },
   "outputs": [],
   "source": [
    "successes/len(train_df)"
   ]
  },
  {
   "cell_type": "markdown",
   "id": "7f557ab2-06e3-455c-8b86-3a3c5f60355b",
   "metadata": {},
   "source": [
    "Is there an over emphasis on string columns? Should FTCP not be embedded in this way?"
   ]
  },
  {
   "cell_type": "code",
   "execution_count": null,
   "id": "40b6d76f-c54d-45f4-8eda-2aa8a6082553",
   "metadata": {
    "tags": []
   },
   "outputs": [],
   "source": [
    "i = 2"
   ]
  },
  {
   "cell_type": "code",
   "execution_count": null,
   "id": "4de700f6-a802-490d-834c-ab5581efc3f5",
   "metadata": {
    "tags": []
   },
   "outputs": [],
   "source": [
    "# take a look at some failures\n",
    "ferc_fail_idx = failures[i][0]\n",
    "eia_correct_idx = failures[i][1]\n",
    "ferc_left.iloc[ferc_fail_idx]"
   ]
  },
  {
   "cell_type": "code",
   "execution_count": null,
   "id": "defa2bd9-35b5-489e-84dd-40118efdf471",
   "metadata": {
    "tags": []
   },
   "outputs": [],
   "source": [
    "eia_right.iloc[eia_correct_idx]"
   ]
  },
  {
   "cell_type": "code",
   "execution_count": null,
   "id": "03365456-e479-49d7-878e-412eee936d37",
   "metadata": {
    "tags": []
   },
   "outputs": [],
   "source": [
    "eia_right.iloc[candidate_set[ferc_fail_idx]]"
   ]
  },
  {
   "cell_type": "code",
   "execution_count": null,
   "id": "7bd47402-bd52-469a-8daf-32fa98fc7fd0",
   "metadata": {},
   "outputs": [],
   "source": []
  }
 ],
 "metadata": {
  "kernelspec": {
   "display_name": "ferc1_eia_match",
   "language": "python",
   "name": "ferc1_eia_match"
  },
  "language_info": {
   "codemirror_mode": {
    "name": "ipython",
    "version": 3
   },
   "file_extension": ".py",
   "mimetype": "text/x-python",
   "name": "python",
   "nbconvert_exporter": "python",
   "pygments_lexer": "ipython3",
   "version": "3.11.3"
  }
 },
 "nbformat": 4,
 "nbformat_minor": 5
}
