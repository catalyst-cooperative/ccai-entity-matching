{
 "cells": [
  {
   "cell_type": "code",
   "execution_count": null,
   "id": "5930ca0c-4d51-4db9-833d-de7648c98e3a",
   "metadata": {},
   "outputs": [],
   "source": [
    "import pandas as pd\n",
    "import zipfile"
   ]
  },
  {
   "cell_type": "code",
   "execution_count": null,
   "id": "96b10983-a89d-4417-8c1a-d88a07046e2f",
   "metadata": {},
   "outputs": [],
   "source": [
    "year = 2020\n",
    "panda_input_name = \"full_inputs\"\n",
    "panda_label_suffix = \"19_20_plant\""
   ]
  },
  {
   "cell_type": "markdown",
   "id": "1adc4371-3262-4451-8d64-fd948918eec7",
   "metadata": {},
   "source": [
    "### Match panda labels to their record IDs\n",
    "\n",
    "The panda labels use columns `id_l` and `id_r` where `id_l` corresponds\n",
    "to the `id` column in the FERC data and `id_r` corresponds to the\n",
    "index in the EIA input data."
   ]
  },
  {
   "cell_type": "code",
   "execution_count": null,
   "id": "9b453d7f-ef48-4317-9a2b-d5c4a6e32530",
   "metadata": {},
   "outputs": [],
   "source": [
    "panda_labels = pd.read_csv(f\"panda_matches/panda_label_{panda_label_suffix}.csv\")"
   ]
  },
  {
   "cell_type": "code",
   "execution_count": null,
   "id": "56807c9e-a46d-46d1-960b-4681224482b8",
   "metadata": {},
   "outputs": [],
   "source": [
    "input_zip = zipfile.ZipFile(f\"panda_inputs/{panda_input_name}.zip\")\n",
    "ferc_input = pd.read_csv(input_zip.open(\"left.csv\"))\n",
    "eia_input = pd.read_csv(input_zip.open(\"right.csv\"))"
   ]
  },
  {
   "cell_type": "code",
   "execution_count": null,
   "id": "77715c26-62ac-4b81-bcdc-562c9994b327",
   "metadata": {},
   "outputs": [],
   "source": [
    "panda_labels = panda_labels.join(ferc_input[\"record_id_ferc1\"], on=\"id_l\")\n",
    "panda_labels = panda_labels.join(eia_input[\"record_id_eia\"], on=\"id_r\")"
   ]
  },
  {
   "cell_type": "code",
   "execution_count": null,
   "id": "d88fb03b-1f4a-4712-8b27-ba9f93a7d9e5",
   "metadata": {},
   "outputs": [],
   "source": [
    "panda_matches = panda_labels[panda_labels.panda_label == 1]\n",
    "panda_matches"
   ]
  },
  {
   "cell_type": "markdown",
   "id": "ada95bd2-e243-4af2-9417-08db05c93dd8",
   "metadata": {},
   "source": [
    "### Find the percentage of labeled training data that Panda finds\n",
    "\n",
    "Note: the input EIA data to Panda is distinct, meaning that only true gran records are included. I'm not sure if the training labels are exclusive to true gran records.\n",
    "\n",
    "Next: do a comparison to the complete training data (not just one year), maybe use `plant_id_pudl`?"
   ]
  },
  {
   "cell_type": "code",
   "execution_count": null,
   "id": "b07320c3-a786-428a-b3b3-6759fa177d8b",
   "metadata": {},
   "outputs": [],
   "source": [
    "training_labels = pd.read_csv(\"train_ferc1_eia.csv\")"
   ]
  },
  {
   "cell_type": "code",
   "execution_count": null,
   "id": "783570ad-c663-4fd7-952c-e05ed4470369",
   "metadata": {},
   "outputs": [],
   "source": [
    "# ensure that there are no duplicate records in the training matches or panda matches\n",
    "len(panda_matches[panda_matches.duplicated(subset=[\"record_id_eia\", \"record_id_ferc1\"])])"
   ]
  },
  {
   "cell_type": "code",
   "execution_count": null,
   "id": "45e2578c-b597-4653-84fc-826957c1c86b",
   "metadata": {},
   "outputs": [],
   "source": [
    "len(training_labels[training_labels.duplicated(subset=[\"record_id_eia\", \"record_id_ferc1\"])])"
   ]
  },
  {
   "cell_type": "code",
   "execution_count": null,
   "id": "947f10b1-a016-47ae-b371-d554cb424652",
   "metadata": {},
   "outputs": [],
   "source": [
    "# get the records in both found_matches and training_labels\n",
    "# found_matches and training_labels must include record_id_eia and record_id_ferc1\n",
    "def get_training_label_recall(found_matches, training_labels):\n",
    "    concat_labels = pd.concat(\n",
    "        [found_matches[[\"record_id_eia\", \"record_id_ferc1\"]], \\\n",
    "        training_labels[[\"record_id_eia\", \"record_id_ferc1\"]]])\n",
    "    finds = concat_labels[concat_labels.duplicated()]\n",
    "    return finds"
   ]
  },
  {
   "cell_type": "code",
   "execution_count": null,
   "id": "2f323edc-3230-476c-8c28-796148aff784",
   "metadata": {},
   "outputs": [],
   "source": [
    "finds = get_training_label_recall(panda_matches, training_labels)"
   ]
  },
  {
   "cell_type": "code",
   "execution_count": null,
   "id": "b57eab90-123e-4031-907f-64ce2ad8ece8",
   "metadata": {},
   "outputs": [],
   "source": [
    "# this is maybe not the complete 2020 training data, need to verify with CG\n",
    "train_labels_year = pd.read_csv(f\"train_ferc1_eia_{year}.csv\")"
   ]
  },
  {
   "cell_type": "code",
   "execution_count": null,
   "id": "0840a5ba-92e5-4f14-9e49-5eeba0a5f4db",
   "metadata": {},
   "outputs": [],
   "source": [
    "# if looking at just individual plant parts then search for records with a substring\n",
    "part = \"gen\"\n",
    "train_labels_year = train_labels_year[train_labels_year.record_id_eia.str.contains(part)]"
   ]
  },
  {
   "cell_type": "code",
   "execution_count": null,
   "id": "eebffffc-3ac9-4a7a-98a0-3ab4ea17b93b",
   "metadata": {},
   "outputs": [],
   "source": [
    "len(finds), len(train_labels_year), len(finds)/len(train_labels_year)"
   ]
  },
  {
   "cell_type": "code",
   "execution_count": null,
   "id": "7fbc1b88-ac66-44cf-9073-bbb755d33af1",
   "metadata": {},
   "outputs": [],
   "source": [
    "# compare to the baseline model matches\n",
    "baseline = pd.read_pickle(\"ferc1_eia_baseline_matches.pkl\")"
   ]
  },
  {
   "cell_type": "code",
   "execution_count": null,
   "id": "f25c7048-466b-4f17-af30-a871ef885df7",
   "metadata": {},
   "outputs": [],
   "source": [
    "baseline_preds = baseline[\n",
    "    (baseline.match_type == \"prediction\") | (baseline.match_type == \"correct prediction\")]"
   ]
  },
  {
   "cell_type": "code",
   "execution_count": null,
   "id": "4b100878-ce71-44f9-9d26-1dbf215e9a67",
   "metadata": {},
   "outputs": [],
   "source": [
    "baseline_finds = get_training_label_recall(panda_matches, baseline_preds)"
   ]
  },
  {
   "cell_type": "code",
   "execution_count": null,
   "id": "09a67e0c-cbf8-4f4d-a254-b59e552eea0d",
   "metadata": {},
   "outputs": [],
   "source": [
    "base_year = len(baseline_preds[baseline_preds.report_year == year])"
   ]
  },
  {
   "cell_type": "code",
   "execution_count": null,
   "id": "09b5806f-52cb-49c6-9f3b-2f2215344ff2",
   "metadata": {},
   "outputs": [],
   "source": [
    "len(baseline_finds), base_year, len(baseline_finds)/base_year"
   ]
  },
  {
   "cell_type": "markdown",
   "id": "b5489fc6-9586-4342-9d7d-eae908efba27",
   "metadata": {},
   "source": [
    "Note that in the next cells it is found that a handful of these training labels aren't included in the candidate set of matches. So this recall percentage is slightly off."
   ]
  },
  {
   "cell_type": "markdown",
   "id": "4fc0d859-98f4-4adf-b06e-19c46bbbf559",
   "metadata": {},
   "source": [
    "### Look at the matches that Panda didn't find"
   ]
  },
  {
   "cell_type": "code",
   "execution_count": null,
   "id": "a17b5a65-620b-4603-9cd1-9afabc6814e4",
   "metadata": {},
   "outputs": [],
   "source": [
    "finds_and_labels = pd.concat([finds, train_labels_year[[\"record_id_eia\", \"record_id_ferc1\"]]])\n",
    "misses = finds_and_labels.drop_duplicates(keep=False)"
   ]
  },
  {
   "cell_type": "code",
   "execution_count": null,
   "id": "b722245d-3953-4be5-84af-287ecbb64373",
   "metadata": {},
   "outputs": [],
   "source": [
    "misses"
   ]
  },
  {
   "cell_type": "markdown",
   "id": "075e94ab-119b-44ec-bef5-86d2f66f8dc0",
   "metadata": {},
   "source": [
    "Look at the Panda soft value for these misses.\n",
    "\n",
    "Since there are some NaNs in the pandas soft label, it seems like these records were not part of the candidate set. "
   ]
  },
  {
   "cell_type": "code",
   "execution_count": null,
   "id": "a47c5d54-7d4e-483d-9fa3-e107e3208e06",
   "metadata": {},
   "outputs": [],
   "source": [
    "misses_soft_label = misses.join(\n",
    "    panda_labels.set_index(\n",
    "        [\"record_id_eia\", \"record_id_ferc1\"])[[\"panda_soft_label\"]],\\\n",
    "    on=[\"record_id_eia\", \"record_id_ferc1\"])\n",
    "misses_soft_label.sort_values(by=\"panda_soft_label\", ascending=False)"
   ]
  },
  {
   "cell_type": "markdown",
   "id": "1f8f0060-45e5-4bff-839d-ac6c5ea5247a",
   "metadata": {},
   "source": [
    "Looking at these NaNs:\n",
    "- One of them (113_4_2020...) is not in the EIA input dataset. Maybe it's not a true gran? It's okay for non true grans to be linked to FERC records. Should we try and get to a place where datasets can be matched without filtering by true gran?\n",
    "- The other NaN values aren't part of the candidate set it seems. I don't remember off the top of my head why some values aren't included in the candidate set."
   ]
  },
  {
   "cell_type": "code",
   "execution_count": null,
   "id": "062959d9-f933-4614-b353-8b66c6e12e4c",
   "metadata": {},
   "outputs": [],
   "source": [
    "eia_input[eia_input.record_id_eia == \"113_4_2020_plant_unit_total_14354\t\"]"
   ]
  },
  {
   "cell_type": "code",
   "execution_count": null,
   "id": "c5e5a477-4b49-4226-ac83-b7708489baa7",
   "metadata": {},
   "outputs": [],
   "source": [
    "# updated recall numbers\n",
    "excluded = len(misses_soft_label[misses_soft_label.panda_soft_label.isnull()])\n",
    "len(finds), len(train_labels_year) - excluded, len(finds)/(len(train_labels_year) - excluded)"
   ]
  },
  {
   "cell_type": "markdown",
   "id": "c300c266-71e4-43ef-9d07-8824ad90e295",
   "metadata": {},
   "source": [
    "Looking at the soft labels from Panda:\n",
    "- These records have a soft label of .5 and the rest have soft labels that are basically 0\n",
    "- I'm not entirely sure how the soft label is created. My understanding is that it represents the combination of the labeling functions. It doesn't seem to be a softmax. "
   ]
  },
  {
   "cell_type": "code",
   "execution_count": null,
   "id": "ee706c0d-566b-49e5-a78c-3ae368e088a1",
   "metadata": {},
   "outputs": [],
   "source": [
    "misses_soft_label[misses_soft_label.panda_soft_label >= .00001]"
   ]
  },
  {
   "cell_type": "markdown",
   "id": "76abf18d-1617-4b8a-9a8d-7dd9e5d03292",
   "metadata": {},
   "source": [
    "### Look at full records"
   ]
  },
  {
   "cell_type": "markdown",
   "id": "743fb712-f580-40b5-87af-5d98f304c644",
   "metadata": {},
   "source": [
    "Look at the full EIA and FERC records for these missed pairs."
   ]
  },
  {
   "cell_type": "code",
   "execution_count": null,
   "id": "1424fa3e-650f-4c6c-8f09-9839f407ab8f",
   "metadata": {},
   "outputs": [],
   "source": [
    "# join on the EIA and FERC data\n",
    "full_records = misses_soft_label.join(\n",
    "    eia_input.set_index(\"record_id_eia\"), on=\"record_id_eia\").join(\n",
    "    ferc_input.set_index(\"record_id_ferc1\"), on=\"record_id_ferc1\", lsuffix=\"_eia\", rsuffix=\"_ferc1\")"
   ]
  },
  {
   "cell_type": "markdown",
   "id": "e2c98d9b-79d6-40f3-91a2-8590d239692c",
   "metadata": {},
   "source": [
    "Or look at the full EIA and FERC records for the matched pairs. How good are the matches?"
   ]
  },
  {
   "cell_type": "code",
   "execution_count": null,
   "id": "ae57a5ca-bf46-414b-a27d-467df02e691e",
   "metadata": {},
   "outputs": [],
   "source": [
    "full_records = panda_labels[panda_labels.panda_label == 1].join(eia_input.set_index(\"record_id_eia\"), on=\"record_id_eia\").join(\n",
    "    ferc_input.set_index(\"record_id_ferc1\"), on=\"record_id_ferc1\", lsuffix=\"_eia\", rsuffix=\"_ferc1\")"
   ]
  },
  {
   "cell_type": "code",
   "execution_count": null,
   "id": "91ee4ae1-613d-454c-b98d-ece62fb1e9ff",
   "metadata": {},
   "outputs": [],
   "source": [
    "# sort the non id columns of the joined dataframe to make easier comparison between columns\n",
    "non_id_df = full_records[full_records.columns.difference([\"record_id_eia\", \"record_id_ferc1\"])]\n",
    "\n",
    "full_records = pd.concat([full_records[[\"record_id_eia\", \"record_id_ferc1\"]],\n",
    "           non_id_df.reindex(sorted(non_id_df.columns), axis=1)], axis=1).sort_values(by=[\"panda_soft_label\"], ascending=False)"
   ]
  },
  {
   "cell_type": "code",
   "execution_count": null,
   "id": "28a8d155-23e7-463d-9087-b2b4c612cf13",
   "metadata": {},
   "outputs": [],
   "source": [
    "full_records = full_records.drop([\"id_r\", \"id_l\"], axis=1)"
   ]
  },
  {
   "cell_type": "code",
   "execution_count": null,
   "id": "caff114f-d1f4-4a93-acd7-fb1fc353c443",
   "metadata": {},
   "outputs": [],
   "source": [
    "full_records.columns"
   ]
  },
  {
   "cell_type": "markdown",
   "id": "83a239a2-1b9f-46de-9b61-f703dc274791",
   "metadata": {},
   "source": [
    "Compare the primary string columns."
   ]
  },
  {
   "cell_type": "code",
   "execution_count": null,
   "id": "ab83be93-7133-4801-b4a0-5a89ef2f360d",
   "metadata": {},
   "outputs": [],
   "source": [
    "full_records[[\n",
    "    \"plant_name_eia\", \"plant_name_ferc1\", \n",
    "    \"utility_name_eia\", \"utility_name_ferc1\", \n",
    "    \"energy_source_code_1\", \"technology_description\",\n",
    "    \"fuel_type_code_pudl_eia\", \"fuel_type_code_pudl_ferc1\"]]"
   ]
  },
  {
   "cell_type": "markdown",
   "id": "76a2f8fa-7d7c-429f-8ef5-8758e587d833",
   "metadata": {},
   "source": [
    "Compare some of the numeric columns.\n",
    "\n",
    "There are a bunch of NaNs in these columns. This likely is contributing to Panda missing these matches."
   ]
  },
  {
   "cell_type": "code",
   "execution_count": null,
   "id": "5be634f2-c8bc-4882-bab4-b6c6a8ff7ebb",
   "metadata": {},
   "outputs": [],
   "source": [
    "full_records[[\n",
    "    'construction_year_eia', 'construction_year_ferc1', \n",
    "    'installation_year_eia', 'installation_year_ferc1']]"
   ]
  },
  {
   "cell_type": "code",
   "execution_count": null,
   "id": "118b76fc-d99f-46c6-a630-cea6eb3251ff",
   "metadata": {},
   "outputs": [],
   "source": [
    "cols = ['capacity_factor_eia',\n",
    "       'capacity_factor_ferc1', \n",
    "       'capacity_mw_eia', \n",
    "       'capacity_mw_ferc1',\n",
    "       'fuel_cost_per_mmbtu_eia', 'fuel_cost_per_mmbtu_ferc1',\n",
    "       'fuel_cost_per_mwh_eia', 'fuel_cost_per_mwh_ferc1',\n",
    "       'fuel_type_code_pudl_eia', 'fuel_type_code_pudl_ferc1',\n",
    "       'heat_rate_mmbtu_mwh_eia', 'heat_rate_mmbtu_mwh_ferc1',\n",
    "       'net_generation_mwh_eia', 'net_generation_mwh_ferc1']\n",
    "full_records[cols]"
   ]
  },
  {
   "cell_type": "markdown",
   "id": "e9f1c8c5-670e-4f52-afce-e555679600c0",
   "metadata": {},
   "source": [
    "### Austen comparisons"
   ]
  },
  {
   "cell_type": "code",
   "execution_count": null,
   "id": "70af2d75-0e85-401d-be1b-0bb584950624",
   "metadata": {},
   "outputs": [],
   "source": [
    "df = pd.read_csv(\"manual_panda_ferc1_eia_compare.csv\")"
   ]
  },
  {
   "cell_type": "code",
   "execution_count": null,
   "id": "6e5da08b-30ed-4f53-b1fc-da46a1ebd364",
   "metadata": {},
   "outputs": [],
   "source": [
    "df"
   ]
  },
  {
   "cell_type": "markdown",
   "id": "669360e5-475a-4274-95c8-7493be045c8f",
   "metadata": {},
   "source": [
    "### Compare PUDL plant IDs and PUDL utility IDs between Panda matches and training records"
   ]
  },
  {
   "cell_type": "code",
   "execution_count": null,
   "id": "4f0c4907-f2f5-49b9-999b-2f07bfdbfaa7",
   "metadata": {},
   "outputs": [],
   "source": [
    "ppl_distinct = pd.read_pickle(\"plant_parts_eia_distinct.pkl.gz\")"
   ]
  },
  {
   "cell_type": "code",
   "execution_count": null,
   "id": "bc1c6e8e-0a10-4468-9c77-f2f23f322497",
   "metadata": {},
   "outputs": [],
   "source": [
    "eia_full = pd.read_pickle(\"full_eia_plant_parts_clean.pkl\")"
   ]
  },
  {
   "cell_type": "code",
   "execution_count": null,
   "id": "9bbd1922-e5ec-4c26-9551-4bdf4a7af03b",
   "metadata": {},
   "outputs": [],
   "source": [
    "# get a full ferc not just the clean version\n",
    "ferc_full = pd.read_pickle(\"full_ferc.pkl\")"
   ]
  },
  {
   "cell_type": "code",
   "execution_count": null,
   "id": "3ffda8ce-3345-4ecc-9eb0-0037880c7fa3",
   "metadata": {},
   "outputs": [],
   "source": [
    "panda_matches = panda_labels[panda_labels.panda_label == 1]"
   ]
  },
  {
   "cell_type": "code",
   "execution_count": null,
   "id": "99a0af2c-241a-4848-a3a7-cf8726b98849",
   "metadata": {},
   "outputs": [],
   "source": [
    "# temporary\n",
    "input_zip = zipfile.ZipFile(\"panda_inputs/2020.zip\")\n",
    "ferc_input = pd.read_csv(input_zip.open(\"left.csv\")).set_index(\"record_id_ferc1\")"
   ]
  },
  {
   "cell_type": "code",
   "execution_count": null,
   "id": "beb332cf-9d45-495d-b505-602ec05c4bae",
   "metadata": {},
   "outputs": [],
   "source": [
    "full_training_labels = training_labels.join(ppl_distinct, on=\"record_id_eia\").join(\n",
    "    ferc_full, on=\"record_id_ferc1\", lsuffix=\"_eia\", rsuffix=\"_ferc1\")"
   ]
  },
  {
   "cell_type": "code",
   "execution_count": null,
   "id": "9b9adf74-9de3-41d0-ac24-343b1e1b6678",
   "metadata": {},
   "outputs": [],
   "source": [
    "panda_plant_util_matches = panda_matches.join(ppl_distinct, on=\"record_id_eia\").join(\n",
    "    ferc_full, on=\"record_id_ferc1\", lsuffix=\"_eia\", rsuffix=\"_ferc1\")"
   ]
  },
  {
   "cell_type": "code",
   "execution_count": null,
   "id": "92672931-957a-4a0f-b801-08a19e5de38f",
   "metadata": {},
   "outputs": [],
   "source": [
    "panda_plant_util_matches"
   ]
  },
  {
   "cell_type": "markdown",
   "id": "5a1eb229-4bbb-4a94-ab01-58c9b07758b8",
   "metadata": {},
   "source": [
    "Check if PUDL plant ID's match up"
   ]
  },
  {
   "cell_type": "code",
   "execution_count": null,
   "id": "9904e0f2-d7a3-462f-941a-87979e630dce",
   "metadata": {},
   "outputs": [],
   "source": [
    "full_training_labels[[\"plant_id_pudl_eia\", \"plant_id_pudl_ferc1\"]]"
   ]
  },
  {
   "cell_type": "code",
   "execution_count": null,
   "id": "7ab4a8c5-ad45-4097-b186-39b210775a11",
   "metadata": {},
   "outputs": [],
   "source": [
    "panda_plant_util_matches[[\"plant_id_pudl_eia\", \"plant_id_pudl_ferc1\"]]"
   ]
  },
  {
   "cell_type": "code",
   "execution_count": null,
   "id": "ca90644d-ff91-4d5b-86b3-9bc483d3e006",
   "metadata": {},
   "outputs": [],
   "source": [
    "panda_plant_util_matches[\n",
    "    panda_plant_util_matches.plant_id_pudl_eia == panda_plant_util_matches.plant_id_pudl_ferc1]"
   ]
  },
  {
   "cell_type": "code",
   "execution_count": null,
   "id": "8b505cb7-514c-4fc5-8889-a7815bf7bac3",
   "metadata": {},
   "outputs": [],
   "source": [
    "panda_plant_util_matches[\n",
    "    panda_plant_util_matches.plant_id_pudl_eia != panda_plant_util_matches.plant_id_pudl_ferc1]"
   ]
  },
  {
   "cell_type": "code",
   "execution_count": null,
   "id": "5c2a5048-c7b6-4153-9b5a-f6d64b62a879",
   "metadata": {},
   "outputs": [],
   "source": [
    "panda_plant_util_matches[\n",
    "    panda_plant_util_matches.plant_id_pudl_eia == panda_plant_util_matches.plant_id_pudl_ferc1].panda_soft_label.mean()"
   ]
  },
  {
   "cell_type": "code",
   "execution_count": null,
   "id": "29f07927-3d78-4b8a-845f-317666d6cf2c",
   "metadata": {},
   "outputs": [],
   "source": [
    "panda_plant_util_matches[\n",
    "    panda_plant_util_matches.plant_id_pudl_eia != panda_plant_util_matches.plant_id_pudl_ferc1].panda_soft_label.mean()"
   ]
  },
  {
   "cell_type": "markdown",
   "id": "03b1bcfc-8595-4de5-860b-39d3b6bba3eb",
   "metadata": {},
   "source": [
    "Check if PUDL plant and utility ID's match up"
   ]
  },
  {
   "cell_type": "code",
   "execution_count": null,
   "id": "d335545b-c171-46a8-9404-dcd1171e9946",
   "metadata": {},
   "outputs": [],
   "source": [
    "panda_plant_util_matches[\n",
    "    [\"plant_id_pudl_eia\", \"plant_id_pudl_ferc1\", \"utility_id_pudl_eia\", \"utility_id_pudl_ferc1\"]]"
   ]
  },
  {
   "cell_type": "code",
   "execution_count": null,
   "id": "0696101a-f267-40e2-851e-cd7a5c7838f2",
   "metadata": {},
   "outputs": [],
   "source": [
    "panda_plant_util_matches[\n",
    "    panda_plant_util_matches.utility_id_pudl_eia == panda_plant_util_matches.utility_id_pudl_ferc1]"
   ]
  },
  {
   "cell_type": "code",
   "execution_count": null,
   "id": "e715b4fe-3c17-42d4-b515-864692d50542",
   "metadata": {},
   "outputs": [],
   "source": [
    "panda_plant_util_matches[\n",
    "    panda_plant_util_matches.utility_id_pudl_eia == panda_plant_util_matches.utility_id_pudl_ferc1].panda_soft_label.mean()"
   ]
  },
  {
   "cell_type": "code",
   "execution_count": null,
   "id": "cfb0c103-c843-460d-974a-db898ea91f46",
   "metadata": {},
   "outputs": [],
   "source": [
    "panda_plant_util_matches[\n",
    "    panda_plant_util_matches.utility_id_pudl_eia != panda_plant_util_matches.utility_id_pudl_ferc1].panda_soft_label.mean()"
   ]
  },
  {
   "cell_type": "markdown",
   "id": "0bdadb5a-3c64-4176-a0cd-938ba3c0d3e2",
   "metadata": {},
   "source": [
    "### Do the plant parts aggregate to the correct plant\n",
    "Do different EIA records of the same plant aggregate to the same FERC record or different?\n",
    "\n",
    "Not entirely sure what I wanted to achieve here. Come back to this sometime."
   ]
  },
  {
   "cell_type": "code",
   "execution_count": null,
   "id": "24e550d4-0274-4f28-bd0d-59387354dc08",
   "metadata": {},
   "outputs": [],
   "source": [
    "gens = pd.read_csv(\"panda_matches/panda_label_19_20_gens.csv\")\n",
    "gens_matches = gens[gens.panda_label == 1]"
   ]
  },
  {
   "cell_type": "code",
   "execution_count": null,
   "id": "5df1d6ce-80bc-46ea-aae0-0c80d14398eb",
   "metadata": {},
   "outputs": [],
   "source": [
    "plants = pd.read_csv(\"panda_matches/panda_label_19_20_plant.csv\")\n",
    "plants_matches = plants[plants.panda_label == 1]"
   ]
  },
  {
   "cell_type": "code",
   "execution_count": null,
   "id": "fb5bc07e-90d3-423c-8d78-1e08bb276f00",
   "metadata": {},
   "outputs": [],
   "source": [
    "eia_full = pd.read_pickle(\"full_eia_plant_parts_clean.pkl\")\n",
    "# get a full ferc not just the clean version\n",
    "ferc_full = pd.read_pickle(\"full_ferc.pkl\")"
   ]
  },
  {
   "cell_type": "code",
   "execution_count": null,
   "id": "bc1aacfb-7f33-4e74-b573-1337dc5b6671",
   "metadata": {},
   "outputs": [],
   "source": [
    "full_gens = gens_matches.join(eia_full, on=\"record_id_eia\").join(\n",
    "    ferc_full, on=\"record_id_ferc1\", lsuffix=\"_eia\", rsuffix=\"_ferc1\")"
   ]
  },
  {
   "cell_type": "code",
   "execution_count": null,
   "id": "12a7afc8-c3ca-455e-8062-66bd64b031d9",
   "metadata": {},
   "outputs": [],
   "source": [
    "full_plants = plants_matches.join(eia_full, on=\"record_id_eia\").join(\n",
    "    ferc_full, on=\"record_id_ferc1\", lsuffix=\"_eia\", rsuffix=\"_ferc1\")"
   ]
  },
  {
   "cell_type": "code",
   "execution_count": null,
   "id": "37f6c5f8-7d31-4444-87d3-7d3ee3c1a21f",
   "metadata": {},
   "outputs": [],
   "source": [
    "full_plants.plant_id_pudl.is_unique"
   ]
  },
  {
   "cell_type": "code",
   "execution_count": null,
   "id": "50ed6bf6-f70b-4fb1-8815-44de80684d4f",
   "metadata": {},
   "outputs": [],
   "source": [
    "full_plants[full_plants.duplicated(subset=[\"plant_id_pudl\", \"report_date\"], keep=False)].sort_values(by=\"plant_id_pudl\")"
   ]
  },
  {
   "cell_type": "code",
   "execution_count": null,
   "id": "8130930e-7220-4e10-b6f6-cbf0cb9ff0c2",
   "metadata": {},
   "outputs": [],
   "source": [
    "plant_gen = pd.concat([full_plants, full_gens])"
   ]
  },
  {
   "cell_type": "code",
   "execution_count": null,
   "id": "3d045e3d-d389-431a-882a-b1718763981e",
   "metadata": {},
   "outputs": [],
   "source": [
    "# not sure what I wanted to do here. Use .agg and do something?\n",
    "plant_gen[[\"plant_id_pudl\", \"report_date\", \"record_id_ferc1\"]].groupby([\"plant_id_pudl\", \"report_date\", \"record_id_ferc1\"]).value_counts()"
   ]
  },
  {
   "cell_type": "code",
   "execution_count": null,
   "id": "143dae3a-0f08-486c-a5a8-6a8a24b5a0ca",
   "metadata": {},
   "outputs": [],
   "source": []
  }
 ],
 "metadata": {
  "kernelspec": {
   "display_name": "pudl-dev",
   "language": "python",
   "name": "pudl-dev"
  },
  "language_info": {
   "codemirror_mode": {
    "name": "ipython",
    "version": 3
   },
   "file_extension": ".py",
   "mimetype": "text/x-python",
   "name": "python",
   "nbconvert_exporter": "python",
   "pygments_lexer": "ipython3",
   "version": "3.10.6"
  }
 },
 "nbformat": 4,
 "nbformat_minor": 5
}
