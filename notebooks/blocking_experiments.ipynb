{
 "cells": [
  {
   "cell_type": "code",
   "execution_count": 1,
   "id": "af52a417-a47f-4515-8b86-b7d7f343ccf1",
   "metadata": {
    "tags": []
   },
   "outputs": [],
   "source": [
    "%load_ext autoreload\n",
    "%autoreload 3"
   ]
  },
  {
   "cell_type": "code",
   "execution_count": 2,
   "id": "d0850d54-e165-4fa9-9b14-1938cbdfbc18",
   "metadata": {
    "tags": []
   },
   "outputs": [],
   "source": [
    "import logging\n",
    "import os\n",
    "import time\n",
    "\n",
    "import numpy as np\n",
    "import pandas as pd\n",
    "from sklearn.decomposition import PCA\n",
    "from sklearn.feature_extraction.text import TfidfVectorizer\n",
    "from sklearn.preprocessing import FunctionTransformer, MinMaxScaler\n",
    "import sqlalchemy as sa\n",
    "\n",
    "import ferc1_eia_match\n",
    "from ferc1_eia_match import config\n",
    "from ferc1_eia_match.metrics import blocking\n",
    "from ferc1_eia_match.candidate_set_creation import DataframeEmbedder, SimilaritySearcher\n",
    "import pudl"
   ]
  },
  {
   "cell_type": "code",
   "execution_count": 3,
   "id": "46704aa2-1458-4a8e-8312-b70ac5b9b293",
   "metadata": {
    "tags": []
   },
   "outputs": [],
   "source": [
    "logger = logging.getLogger(__name__)"
   ]
  },
  {
   "cell_type": "code",
   "execution_count": 4,
   "id": "a6870ae3-bfa9-4eb5-b1b0-9e1a6d48dd62",
   "metadata": {
    "tags": []
   },
   "outputs": [],
   "source": [
    "pudl_engine = sa.create_engine(pudl.workspace.setup.PudlPaths().pudl_db)"
   ]
  },
  {
   "cell_type": "markdown",
   "id": "4dfe9ddf-fb88-49df-a455-2d7fb592bc41",
   "metadata": {},
   "source": [
    "# EIA and FERC 1 Inputs\n",
    "\n",
    "Generate the FERC and EIA inputs or read in a pickled dataframe."
   ]
  },
  {
   "cell_type": "code",
   "execution_count": 79,
   "id": "6983c25d-5e2e-4dae-bfce-90b77e3f6a2e",
   "metadata": {
    "tags": []
   },
   "outputs": [],
   "source": [
    "# set configuration for model\n",
    "model_config = {\n",
    "    \"inputs\": {\n",
    "        \"start_year\": 2011,\n",
    "        \"end_year\": 2021,\n",
    "    },\n",
    "    \"embedding\": {\n",
    "        \"column_transformers\": [\n",
    "            (\"plant_name\", TfidfVectorizer(), \"plant_name\"),\n",
    "            (\"utility_name\", TfidfVectorizer(), \"utility_name\"),\n",
    "            (\"fuel_type_code_pudl\", TfidfVectorizer(), \"fuel_type_code_pudl\"),\n",
    "            (\"installation_year\", MinMaxScaler(), [\"installation_year\"]),\n",
    "            (\"construction_year\", MinMaxScaler(), [\"construction_year\"]),\n",
    "            (\"capacity_mw\", MinMaxScaler(), [\"capacity_mw\"]),\n",
    "        ],\n",
    "        \"matching_cols\": [\n",
    "            \"plant_name\",\n",
    "            \"utility_name\",\n",
    "            \"installation_year\",\n",
    "            \"construction_year\",\n",
    "            \"fuel_type_code_pudl\",\n",
    "            \"capacity_mw\",\n",
    "            \"report_year\"\n",
    "        ],\n",
    "        \"blocking_col\": \"report_year\"\n",
    "    },\n",
    "    \"similarity_search\": {\"distance_metric\": \"l2_distance_search\"},\n",
    "}\n",
    "model_config = config.Model(**model_config)"
   ]
  },
  {
   "cell_type": "code",
   "execution_count": 80,
   "id": "95622dd5-4c5a-4eff-abd2-2ddf2292da3a",
   "metadata": {
    "tags": []
   },
   "outputs": [],
   "source": [
    "inputs = ferc1_eia_match.inputs.InputManager(\n",
    "    pudl_engine=pudl_engine,\n",
    "    start_report_year=model_config.inputs.start_year,\n",
    "    end_report_year=model_config.inputs.end_year)"
   ]
  },
  {
   "cell_type": "code",
   "execution_count": 81,
   "id": "c9a15906-2bb8-499b-bd4e-4dadaf75ad5d",
   "metadata": {
    "tags": []
   },
   "outputs": [
    {
     "name": "stderr",
     "output_type": "stream",
     "text": [
      "INFO:ferc1_eia_match.inputs:Creating FERC plants input.\n"
     ]
    }
   ],
   "source": [
    "ferc_df = inputs.get_ferc_input()"
   ]
  },
  {
   "cell_type": "code",
   "execution_count": null,
   "id": "4f890fac-e31a-4901-a6c0-62cd6aec5b1d",
   "metadata": {
    "tags": []
   },
   "outputs": [],
   "source": [
    "eia_df = inputs.get_eia_input()"
   ]
  },
  {
   "cell_type": "markdown",
   "id": "0eb0cc91-e0a8-4a42-bd79-44a9586cc54d",
   "metadata": {},
   "source": [
    "TODO: more feature engineering - use something besides fuel_type_code_pudl?"
   ]
  },
  {
   "cell_type": "code",
   "execution_count": 9,
   "id": "509e3011-60e1-42af-b892-574ec4603512",
   "metadata": {
    "tags": []
   },
   "outputs": [],
   "source": [
    "ferc_left = ferc_df[model_config.embedding.matching_cols].reset_index()\n",
    "eia_right = eia_df[[\"record_id_eia\"] + model_config.embedding.matching_cols]"
   ]
  },
  {
   "cell_type": "markdown",
   "id": "1d3d665e-b939-4aee-a4c6-0babf62eb658",
   "metadata": {},
   "source": [
    "# Blocking Experiments\n",
    "\n",
    "Goal: Place all the correctly matching record pairs into the candidate set of matches, while making the size of the candidate set as small as possible. This allows for a more efficient subsequent linkage phase."
   ]
  },
  {
   "cell_type": "markdown",
   "id": "5252800c-e6b7-450c-b6ae-ab2c5ca8beb9",
   "metadata": {},
   "source": [
    "## Conduct Experiment\n",
    "Example:\n",
    "- Column vectorization: TF-IDF\n",
    "- Tuple aggregation: equal weight concatenation\n",
    "- Similarity search: L2 distance"
   ]
  },
  {
   "cell_type": "code",
   "execution_count": 41,
   "id": "16f19169-8687-4fc5-baab-1b50e2c3e8eb",
   "metadata": {
    "tags": []
   },
   "outputs": [],
   "source": [
    "embedder = DataframeEmbedder(left_df=ferc_left,\n",
    "                             right_df=eia_right,\n",
    "                             column_transformers=model_config.embedding.column_transformers,\n",
    "                             blocking_col=model_config.embedding.blocking_col)"
   ]
  },
  {
   "cell_type": "code",
   "execution_count": 42,
   "id": "ddf074e2-87f6-466b-8692-82d073e76582",
   "metadata": {
    "tags": []
   },
   "outputs": [],
   "source": [
    "embedder.embed_dataframes()"
   ]
  },
  {
   "cell_type": "code",
   "execution_count": 45,
   "id": "6fad88ed-9698-445c-8d0c-973eb2cef5b4",
   "metadata": {
    "tags": []
   },
   "outputs": [
    {
     "data": {
      "text/plain": [
       "((20466, 16567), (454198, 16567))"
      ]
     },
     "execution_count": 45,
     "metadata": {},
     "output_type": "execute_result"
    }
   ],
   "source": [
    "# probably makes sense to try PCA\n",
    "embedder.left_embedding_matrix.shape, embedder.right_embedding_matrix.shape"
   ]
  },
  {
   "cell_type": "code",
   "execution_count": 46,
   "id": "7e85859d-ea4f-49d5-ae56-134e90e34fac",
   "metadata": {
    "tags": []
   },
   "outputs": [
    {
     "data": {
      "text/plain": [
       "(11, 11)"
      ]
     },
     "execution_count": 46,
     "metadata": {},
     "output_type": "execute_result"
    }
   ],
   "source": [
    "# there should be a key for each unique value in blocking_col\n",
    "# does it make sense that there's FERC data for 1994-2000 but no EIA data?\n",
    "len(embedder.left_blocks_dict), len(embedder.right_blocks_dict)"
   ]
  },
  {
   "cell_type": "markdown",
   "id": "6e0d3a3e-7abe-402d-8a43-683808233edc",
   "metadata": {},
   "source": [
    "Seems like the full embedding matrices can't fit into memory for the similarity search step (or maybe that's just my computer), try using PCA?"
   ]
  },
  {
   "cell_type": "code",
   "execution_count": 21,
   "id": "b3556719-1c42-4a04-9e89-7e64b39f5c81",
   "metadata": {
    "tags": []
   },
   "outputs": [],
   "source": [
    "left_m = np.asarray(embedder.left_embedding_matrix.todense())"
   ]
  },
  {
   "cell_type": "code",
   "execution_count": null,
   "id": "45398f69-4dbb-4b6e-bd1f-ba1cb517eab3",
   "metadata": {
    "tags": []
   },
   "outputs": [],
   "source": [
    "left_m = PCA(copy=False, n_components=None).fit_transform(left_m)"
   ]
  },
  {
   "cell_type": "code",
   "execution_count": null,
   "id": "ecbef55a-86e0-4c6f-9f6c-9f2e71d040d7",
   "metadata": {
    "tags": []
   },
   "outputs": [],
   "source": [
    "right_m = PCA(copy=False, n_components=None).fit_transform(left_m)"
   ]
  },
  {
   "cell_type": "code",
   "execution_count": 47,
   "id": "8aa6f63c-c0e3-4822-b326-94b49df3b940",
   "metadata": {
    "tags": []
   },
   "outputs": [],
   "source": [
    "searcher = SimilaritySearcher(query_embedding_matrix=embedder.left_embedding_matrix,\n",
    "                   menu_embedding_matrix=embedder.right_embedding_matrix,\n",
    "                   query_blocks_dict=embedder.left_blocks_dict,\n",
    "                   menu_blocks_dict=embedder.right_blocks_dict)"
   ]
  },
  {
   "cell_type": "code",
   "execution_count": 48,
   "id": "044bb0fd-3d1d-4746-91e8-4c09e9e88c62",
   "metadata": {
    "tags": []
   },
   "outputs": [],
   "source": [
    "k = 10"
   ]
  },
  {
   "cell_type": "code",
   "execution_count": 49,
   "id": "5d77cce2-334e-4e62-9013-cf8ed4216483",
   "metadata": {
    "tags": []
   },
   "outputs": [
    {
     "name": "stdout",
     "output_type": "stream",
     "text": [
      "Conducting search for candidate pairs on the 2016 block\n",
      "Conducting search for candidate pairs on the 2017 block\n",
      "Conducting search for candidate pairs on the 2018 block\n",
      "Conducting search for candidate pairs on the 2019 block\n",
      "Conducting search for candidate pairs on the 2020 block\n",
      "Conducting search for candidate pairs on the 2021 block\n",
      "Conducting search for candidate pairs on the 2011 block\n",
      "Conducting search for candidate pairs on the 2012 block\n",
      "Conducting search for candidate pairs on the 2013 block\n",
      "Conducting search for candidate pairs on the 2014 block\n",
      "Conducting search for candidate pairs on the 2015 block\n"
     ]
    }
   ],
   "source": [
    "# generate candidate set\n",
    "candidate_set, distances = searcher.run_candidate_pair_search(k=k)"
   ]
  },
  {
   "cell_type": "code",
   "execution_count": null,
   "id": "45ba6445-38ed-453f-9ae2-293617e1c277",
   "metadata": {
    "tags": []
   },
   "outputs": [],
   "source": [
    "train_df = pudl.analysis.ferc1_eia_record_linkage.prep_train_connections(eia_df,\n",
    "                                                                         start_report_year,\n",
    "                                                                         end_report_year)"
   ]
  },
  {
   "cell_type": "code",
   "execution_count": null,
   "id": "33cb5a7f-de46-44c1-b183-4e0aa2981968",
   "metadata": {
    "tags": []
   },
   "outputs": [],
   "source": [
    "# run experiment\n",
    "ks = [5, 10, 15, 20, 25, 30, 40, 50]\n",
    "blocking.measure_blocking(searcher.run_candidate_pair_search, ks, train_df, ferc_left, eia_right, model_config, mlruns=\"../mlruns\")"
   ]
  },
  {
   "cell_type": "code",
   "execution_count": 50,
   "id": "dd5e321e-164d-4f47-a4cc-6e2a4efd76a7",
   "metadata": {
    "tags": []
   },
   "outputs": [],
   "source": [
    "u, c = np.unique(candidate_set, return_counts=True)"
   ]
  },
  {
   "cell_type": "code",
   "execution_count": 58,
   "id": "a62942df-5864-475b-8228-2afebcaad03c",
   "metadata": {
    "tags": []
   },
   "outputs": [
    {
     "data": {
      "text/plain": [
       "(54415, 883801, (20466, 5), 72321)"
      ]
     },
     "execution_count": 58,
     "metadata": {},
     "output_type": "execute_result"
    }
   ],
   "source": [
    "len(ferc_df), len(eia_df), candidate_set.shape, len(u)"
   ]
  },
  {
   "cell_type": "markdown",
   "id": "7daf2516-eabe-4b59-bf06-e0f4f0a007b9",
   "metadata": {},
   "source": [
    "# Create candidate dataframe"
   ]
  },
  {
   "cell_type": "code",
   "execution_count": 78,
   "id": "1fff95e0-4cb8-4cc2-8a62-0b72ef13de0e",
   "metadata": {
    "tags": []
   },
   "outputs": [],
   "source": [
    "# this can be reused/generalized from the FERC to FERC classifier\n",
    "# but for now, copy and pasting until that gets merged in\n",
    "def revert_filled_in_string_nulls(df: pd.DataFrame) -> pd.DataFrame:\n",
    "    \"\"\"Revert the filled nulls from string columns.\n",
    "    Many columns that are used for the classification in\n",
    "    :func:`plants_steam_assign_plant_ids` have many nulls. The classifier can't handle\n",
    "    nulls well, so we filled in nulls with empty strings for string columns. This\n",
    "    function replaces empty strings with null values for specific columns that are known\n",
    "    to contain empty strings introduced for the classifier.\n",
    "    \"\"\"\n",
    "    for col in [\n",
    "        \"plant_type\",\n",
    "        \"construction_type\",\n",
    "        \"fuel_type_code_pudl\",\n",
    "        \"primary_fuel_by_cost\",\n",
    "        \"primary_fuel_by_mmbtu\",\n",
    "    ]:\n",
    "        if col in df.columns:\n",
    "            # the replace to_replace={column_name: {\"\", pd.NA}} mysteriously doesn't work.\n",
    "            df[col] = df[col].replace(\n",
    "                to_replace=[\"\"],\n",
    "                value=pd.NA,\n",
    "            )\n",
    "    return df\n",
    "\n",
    "# not sure it's actually a good idea to replace all 0's with nulls\n",
    "def revert_filled_in_float_nulls(df: pd.DataFrame) -> pd.DataFrame:\n",
    "    \"\"\"Revert the filled nulls from float columns.\n",
    "    Many columns that are used for the classification in\n",
    "    :func:`plants_steam_assign_plant_ids` have many nulls. The classifier can't handle\n",
    "    nulls well, so we filled in nulls with zeros for float columns. This function\n",
    "    replaces zeros with nulls for all float columns.\n",
    "    \"\"\"\n",
    "    float_cols = list(df.select_dtypes(include=[float]))\n",
    "    if float_cols:\n",
    "        df.loc[:, float_cols] = df.loc[:, float_cols].replace(0, np.nan)\n",
    "    return df"
   ]
  },
  {
   "cell_type": "code",
   "execution_count": null,
   "id": "bcd827df-7c29-474b-bcac-ef075d6c4ec7",
   "metadata": {},
   "outputs": [],
   "source": [
    "ferc_df = revert_filled_in_string_nulls(ferc_df)\n",
    "eia_df = revert_filled_in_float_nulls(eia_df)"
   ]
  },
  {
   "cell_type": "code",
   "execution_count": 56,
   "id": "8f350762-93cd-4003-8981-8f1063861811",
   "metadata": {},
   "outputs": [],
   "source": [
    "ferc_cands = ferc_df.reset_index(names=\"block_num\")"
   ]
  },
  {
   "cell_type": "code",
   "execution_count": 59,
   "id": "2c288ae7-716d-4d15-b4d3-64d7cb0e0491",
   "metadata": {},
   "outputs": [
    {
     "name": "stderr",
     "output_type": "stream",
     "text": [
      "/var/folders/cs/pq2nw6_x49l0mx3k8h6lps440000gn/T/ipykernel_5661/2452331968.py:3: SettingWithCopyWarning: \n",
      "A value is trying to be set on a copy of a slice from a DataFrame.\n",
      "Try using .loc[row_indexer,col_indexer] = value instead\n",
      "\n",
      "See the caveats in the documentation: https://pandas.pydata.org/pandas-docs/stable/user_guide/indexing.html#returning-a-view-versus-a-copy\n",
      "  eia_cands.loc[:, \"block_num\"] = block_nums\n"
     ]
    }
   ],
   "source": [
    "eia_cands = eia_df.iloc[candidate_set.flatten()]\n",
    "block_nums = np.repeat(np.arange(len(ferc_df)), k)\n",
    "eia_cands.loc[:, \"block_num\"] = block_nums"
   ]
  },
  {
   "cell_type": "code",
   "execution_count": 63,
   "id": "0583c74c-0663-4e26-9632-2f0fc1971a1b",
   "metadata": {
    "tags": []
   },
   "outputs": [],
   "source": [
    "eia_cands.to_parquet(\"inputs/eia_candidates_11_21_k_5.parquet\")"
   ]
  },
  {
   "cell_type": "code",
   "execution_count": 64,
   "id": "2f41e2ba-3f3b-4f26-8ecb-f688c706f31c",
   "metadata": {
    "tags": []
   },
   "outputs": [],
   "source": [
    "ferc_cands.to_parquet(\"inputs/ferc_candidates_11_21_k_5.parquet\")"
   ]
  },
  {
   "cell_type": "markdown",
   "id": "d031258e-7fd6-4236-ad67-af02964b38ee",
   "metadata": {},
   "source": [
    "# Cross Validation"
   ]
  },
  {
   "cell_type": "markdown",
   "id": "ea799f10-7256-4b39-9e21-6d77c9b048a0",
   "metadata": {},
   "source": [
    "The time goes down at k=10 because FAISS switches similarity search implementations to a multithreaded version."
   ]
  },
  {
   "cell_type": "markdown",
   "id": "7f557ab2-06e3-455c-8b86-3a3c5f60355b",
   "metadata": {},
   "source": [
    "What type of records are we not getting correct?\n",
    "\n",
    "Problems/Fixes:\n",
    "- Often they have one or more column that are null.\n",
    "- There are clues for FTCP in the name - \"southwestern diesel\", try to impute in that way\n",
    "  - Easy idea is to search for a FTCP in the name - \"moline conventional hydro (4 units @ 900kw each)\"\n",
    "- No white space around special characters - \"south carolina electric&gas company\"\n",
    "- If one of `installation_year` or `construction_year` is missing, fill in with the other? Makes more sense than imputing from an average\n",
    "- strip apostrophes? \"queen's creek\" "
   ]
  },
  {
   "cell_type": "code",
   "execution_count": null,
   "id": "40b6d76f-c54d-45f4-8eda-2aa8a6082553",
   "metadata": {
    "tags": []
   },
   "outputs": [],
   "source": [
    "wrong_idx = np.where(~pair_is_correct)[0]"
   ]
  },
  {
   "cell_type": "code",
   "execution_count": null,
   "id": "a356f1ca-652c-4ef9-99cd-7ad37ff75ba0",
   "metadata": {
    "tags": []
   },
   "outputs": [],
   "source": [
    "len(wrong_idx)"
   ]
  },
  {
   "cell_type": "code",
   "execution_count": null,
   "id": "c8fd4e10-c358-4b93-8408-e65942cb0076",
   "metadata": {
    "tags": []
   },
   "outputs": [],
   "source": [
    "i = 20"
   ]
  },
  {
   "cell_type": "code",
   "execution_count": null,
   "id": "501628a0-b5fe-45fe-81e0-19621bab0a70",
   "metadata": {
    "tags": []
   },
   "outputs": [],
   "source": [
    "train_rec = train_df_with_idx.iloc[wrong_idx[i]]"
   ]
  },
  {
   "cell_type": "code",
   "execution_count": null,
   "id": "b2bf27ea-9965-4b04-812f-07c9b5f13788",
   "metadata": {
    "tags": []
   },
   "outputs": [],
   "source": [
    "train_rec.notes"
   ]
  },
  {
   "cell_type": "code",
   "execution_count": null,
   "id": "0b63444d-b448-46bd-a0b9-2b9bf7ca3f9a",
   "metadata": {
    "tags": []
   },
   "outputs": [],
   "source": [
    "ferc_left.iloc[[train_rec.ferc_index]]"
   ]
  },
  {
   "cell_type": "code",
   "execution_count": null,
   "id": "502ebe9b-0ec3-4acd-bee8-eedb7dfeea03",
   "metadata": {
    "tags": []
   },
   "outputs": [],
   "source": [
    "eia_right.iloc[[train_rec.eia_index]]"
   ]
  },
  {
   "cell_type": "code",
   "execution_count": null,
   "id": "f7fbd435-955f-4b94-abdc-9d1971f2bd69",
   "metadata": {
    "tags": []
   },
   "outputs": [],
   "source": [
    "eia_cands = candidate_set[train_rec.ferc_index]\n",
    "eia_right.iloc[eia_cands]"
   ]
  }
 ],
 "metadata": {
  "kernelspec": {
   "display_name": "Python 3 (ipykernel)",
   "language": "python",
   "name": "python3"
  },
  "language_info": {
   "codemirror_mode": {
    "name": "ipython",
    "version": 3
   },
   "file_extension": ".py",
   "mimetype": "text/x-python",
   "name": "python",
   "nbconvert_exporter": "python",
   "pygments_lexer": "ipython3",
   "version": "3.11.6"
  }
 },
 "nbformat": 4,
 "nbformat_minor": 5
}
