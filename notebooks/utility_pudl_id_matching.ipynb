{
 "cells": [
  {
   "cell_type": "code",
   "execution_count": null,
   "id": "3c3db5a1-b418-4673-b94e-fee3c3f81a40",
   "metadata": {
    "tags": []
   },
   "outputs": [],
   "source": [
    "%load_ext autoreload\n",
    "%autoreload 3"
   ]
  },
  {
   "cell_type": "code",
   "execution_count": null,
   "id": "984f028b-8165-450d-b138-2b1d0b6684c2",
   "metadata": {
    "tags": []
   },
   "outputs": [],
   "source": [
    "from matplotlib import pyplot as plt\n",
    "import pandas as pd\n",
    "import numpy as np\n",
    "import sqlalchemy as sa\n",
    "\n",
    "from dagster import AssetKey\n",
    "from ferc1_eia_match.candidate_set_creation import DataframeEmbedder, SimilaritySearcher\n",
    "from ferc1_eia_match.name_cleaner import CompanyNameCleaner\n",
    "from ferc1_eia_match import config\n",
    "import pudl\n",
    "from pudl.etl import defs\n",
    "from splink.duckdb.linker import DuckDBLinker\n",
    "import splink.duckdb.comparison_template_library as ctl"
   ]
  },
  {
   "cell_type": "code",
   "execution_count": null,
   "id": "d5e6acd2-ca5e-4487-b39a-c6d0d457ec08",
   "metadata": {
    "tags": []
   },
   "outputs": [],
   "source": [
    "pudl_engine = sa.create_engine(pudl.workspace.setup.PudlPaths().pudl_db)"
   ]
  },
  {
   "cell_type": "markdown",
   "id": "e30f7605-2cf6-4141-b448-9814290f9ca4",
   "metadata": {},
   "source": [
    "# Get and Clean Inputs\n",
    "\n",
    "FERC: get the FERC plant and utility information\n",
    "\n",
    "EIA: get the plant and utility information for unmapped EIA utilities\n",
    "\n",
    "- There's no FERC plant location data and there's no FERC utility address information, so the match should just be done on plant name and utility name\n",
    "\n",
    "TODO: more string cleaning on null values"
   ]
  },
  {
   "cell_type": "code",
   "execution_count": null,
   "id": "16c45c30-3b5c-4ffb-aedf-3e94a650346d",
   "metadata": {
    "tags": []
   },
   "outputs": [],
   "source": [
    "ferc_df = pd.read_sql(\"denorm_plants_utilities_ferc1\", pudl_engine)"
   ]
  },
  {
   "cell_type": "code",
   "execution_count": null,
   "id": "98d43eb8-5737-4972-9e07-3bf7e94a4efb",
   "metadata": {
    "tags": []
   },
   "outputs": [],
   "source": [
    "eia_df = pd.read_sql(\"denorm_plants_utilities_eia\", pudl_engine)"
   ]
  },
  {
   "cell_type": "code",
   "execution_count": null,
   "id": "38e0fb05-e1b0-42bb-b0d3-d9c0909f5112",
   "metadata": {
    "tags": []
   },
   "outputs": [],
   "source": [
    "# TODO: is this already handled by the company name cleaner?\n",
    "eia_df = eia_df.fillna({\"utility_name_eia\": \"\", \"plant_name_eia\": \"\"})\n",
    "ferc_df = ferc_df.fillna({\"utility_name_ferc1\": \"\", \"plant_name_ferc1\": \"\"})"
   ]
  },
  {
   "cell_type": "code",
   "execution_count": null,
   "id": "829ab4d3-df9b-4da3-841a-897d39f7a6e6",
   "metadata": {
    "tags": []
   },
   "outputs": [],
   "source": [
    "utility_name_cleaner = CompanyNameCleaner()\n",
    "eia_df = utility_name_cleaner.get_clean_df(eia_df, \"utility_name_eia\", \"utility_name\")\n",
    "ferc_df = utility_name_cleaner.get_clean_df(ferc_df, \"utility_name_ferc1\", \"utility_name\")"
   ]
  },
  {
   "cell_type": "code",
   "execution_count": null,
   "id": "b8c21cc0-3427-49d3-b158-04b4cdf27863",
   "metadata": {
    "tags": []
   },
   "outputs": [],
   "source": [
    "# default rules except keep words in parentheses\n",
    "plant_name_cleaner = CompanyNameCleaner(\n",
    "    cleaning_rules_list=[\n",
    "        \"replace_amperstand_between_space_by_AND\",\n",
    "        \"replace_hyphen_between_spaces_by_single_space\",\n",
    "        \"replace_underscore_by_space\",\n",
    "        \"replace_underscore_between_spaces_by_single_space\",\n",
    "        \"remove_text_puctuation_except_dot\",\n",
    "        \"remove_math_symbols\",\n",
    "        \"add_space_before_opening_parentheses\",\n",
    "        \"add_space_after_closing_parentheses\",\n",
    "        \"remove_parentheses\",\n",
    "        \"remove_brackets\",\n",
    "        \"remove_curly_brackets\",\n",
    "        \"enforce_single_space_between_words\",\n",
    "    ]\n",
    ")\n",
    "eia_df = plant_name_cleaner.get_clean_df(eia_df, \"plant_name_eia\", \"plant_name\")\n",
    "ferc_df = plant_name_cleaner.get_clean_df(ferc_df, \"plant_name_ferc1\", \"plant_name\")"
   ]
  },
  {
   "cell_type": "code",
   "execution_count": null,
   "id": "af88f25c-47fd-4dc5-aa0d-a19aebc2353a",
   "metadata": {
    "tags": []
   },
   "outputs": [],
   "source": [
    "# TODO: figure out what to actually do with nulls\n",
    "replace = [\"u.f.\", \"n o n e\", \"o\", \"0\", \"1\", \"\", \".\", \"n/a\"]\n",
    "eia_df = eia_df.replace(replace, pd.NA)\n",
    "ferc_df = ferc_df.replace(replace, pd.NA)"
   ]
  },
  {
   "cell_type": "code",
   "execution_count": null,
   "id": "4d371590-04f0-4f8c-8eca-afa98e8e8ee0",
   "metadata": {
    "tags": []
   },
   "outputs": [],
   "source": [
    "eia_df = eia_df.drop_duplicates(subset=[\"plant_name\", \"utility_name\", \"plant_id_pudl\", \"utility_id_pudl\"])\n",
    "eia_df = eia_df.reset_index(drop=True)"
   ]
  },
  {
   "cell_type": "code",
   "execution_count": null,
   "id": "80b3f3d3-ae75-4756-89c5-f78f0e7cc4af",
   "metadata": {
    "tags": []
   },
   "outputs": [],
   "source": [
    "ferc_df = ferc_df.drop_duplicates(subset=[\"plant_name\", \"utility_name\", \"plant_id_pudl\", \"utility_id_pudl\"])\n",
    "ferc_df = ferc_df.reset_index(drop=True)"
   ]
  },
  {
   "cell_type": "code",
   "execution_count": null,
   "id": "ec5ca6f0-f174-4257-9e91-a0133f0742b3",
   "metadata": {
    "tags": []
   },
   "outputs": [],
   "source": [
    "eia_df.head(3)"
   ]
  },
  {
   "cell_type": "code",
   "execution_count": null,
   "id": "bf2b6fb1-5eb6-4ca4-9a51-143e5ba98d7c",
   "metadata": {
    "tags": []
   },
   "outputs": [],
   "source": [
    "ferc_df.head(3)"
   ]
  },
  {
   "cell_type": "markdown",
   "id": "c33d54cc-ea8a-403f-9059-0c62c114f82b",
   "metadata": {},
   "source": [
    "# Run Blocking"
   ]
  },
  {
   "cell_type": "code",
   "execution_count": null,
   "id": "d8e394ee-6b0a-4c84-b08a-35a250839e25",
   "metadata": {
    "tags": []
   },
   "outputs": [],
   "source": [
    "# set configuration for model\n",
    "embedding_config_dict = {\n",
    "    \"embedding_map\": {\n",
    "        \"plant_name\": {\"embedding_type\": \"tfidf_vectorize\"},\n",
    "        \"utility_name\": {\"embedding_type\": \"tfidf_vectorize\"},\n",
    "    },\n",
    "    \"matching_cols\": [\n",
    "        \"plant_name\",\n",
    "        \"utility_name\",\n",
    "    ],\n",
    "}\n",
    "embedding_config = config.EmbeddingConfig(**embedding_config_dict)"
   ]
  },
  {
   "cell_type": "code",
   "execution_count": null,
   "id": "b5fb7a72-d6cb-496e-ae20-0a7fc15a9f13",
   "metadata": {
    "tags": []
   },
   "outputs": [],
   "source": [
    "embedder = DataframeEmbedder(\n",
    "    left_df = eia_df, \n",
    "    right_df = ferc_df, \n",
    "    embedding_map = embedding_config.embedding_map)"
   ]
  },
  {
   "cell_type": "code",
   "execution_count": null,
   "id": "f73e4c90-a20c-4370-8143-7a5700eb618f",
   "metadata": {
    "tags": []
   },
   "outputs": [],
   "source": [
    "embedder.embed_dataframes()"
   ]
  },
  {
   "cell_type": "code",
   "execution_count": null,
   "id": "38b48fe1-5d2d-4369-b661-b373d5f3ae22",
   "metadata": {
    "tags": []
   },
   "outputs": [],
   "source": [
    "embedder.left_embedding_matrix.shape, embedder.right_embedding_matrix.shape"
   ]
  },
  {
   "cell_type": "code",
   "execution_count": null,
   "id": "c2bf80f3-82ba-47af-abb5-9779e5075602",
   "metadata": {
    "tags": []
   },
   "outputs": [],
   "source": [
    "searcher = SimilaritySearcher(query_embedding_matrix=embedder.left_embedding_matrix,\n",
    "                   menu_embedding_matrix=embedder.right_embedding_matrix,\n",
    "                   query_blocks_dict=embedder.left_blocks_dict,\n",
    "                   menu_blocks_dict=embedder.right_blocks_dict)"
   ]
  },
  {
   "cell_type": "code",
   "execution_count": null,
   "id": "33344f66-d14c-4288-8905-0c006fd62529",
   "metadata": {
    "tags": []
   },
   "outputs": [],
   "source": [
    "k = 1"
   ]
  },
  {
   "cell_type": "code",
   "execution_count": null,
   "id": "a550ff18-a254-4455-8351-d3fbc69396c6",
   "metadata": {
    "tags": []
   },
   "outputs": [],
   "source": [
    "%%time\n",
    "cand_set, distances = searcher.run_candidate_pair_search(k)"
   ]
  },
  {
   "cell_type": "code",
   "execution_count": null,
   "id": "4634ffc2-1050-4e94-90db-2c2d069d3952",
   "metadata": {
    "tags": []
   },
   "outputs": [],
   "source": [
    "cand_set.shape"
   ]
  },
  {
   "cell_type": "code",
   "execution_count": null,
   "id": "cd04e12c-d4a1-4be0-8d7b-50c70a091c19",
   "metadata": {
    "tags": []
   },
   "outputs": [],
   "source": [
    "i = 1"
   ]
  },
  {
   "cell_type": "code",
   "execution_count": null,
   "id": "09ccea6b-5bc2-4ae0-9fe0-c86de8848aad",
   "metadata": {
    "tags": []
   },
   "outputs": [],
   "source": [
    "cols = [\"utility_name\", \"plant_name\", \"utility_id_pudl\", \"plant_id_pudl\"]\n",
    "pd.concat([eia_df.iloc[[i]][cols],\n",
    "           ferc_df.iloc[cand_set[i]][cols]])"
   ]
  },
  {
   "cell_type": "code",
   "execution_count": null,
   "id": "e3be2e65-23d2-4121-b653-31082ce31544",
   "metadata": {
    "tags": []
   },
   "outputs": [],
   "source": [
    "distances[i]"
   ]
  },
  {
   "cell_type": "code",
   "execution_count": null,
   "id": "92c69f73-fb8e-4595-9b22-3ef17e5f1d86",
   "metadata": {
    "tags": []
   },
   "outputs": [],
   "source": [
    "rename_d = {\"plant_id_pudl\": \"plant_id_pudl_right\",\n",
    "            \"utility_id_pudl\": \"utility_id_pudl_right\",\n",
    "            \"utility_name\": \"utility_name_right\",\n",
    "            \"plant_name\": \"plant_name_right\"}\n",
    "result = pd.concat([eia_df[cols],\n",
    "                    ferc_df[cols].iloc[cand_set.squeeze()].rename(columns=rename_d).reset_index(drop=True)],\n",
    "                    axis=1)"
   ]
  },
  {
   "cell_type": "code",
   "execution_count": null,
   "id": "1bdcfd6f-309e-4c0f-a1a2-a18421e23260",
   "metadata": {
    "tags": []
   },
   "outputs": [],
   "source": [
    "result[\"distance\"] = distances"
   ]
  },
  {
   "cell_type": "code",
   "execution_count": null,
   "id": "bbe49d85-7e9a-4365-9850-091ab10ba48b",
   "metadata": {
    "tags": []
   },
   "outputs": [],
   "source": [
    "util_mask = (result.utility_id_pudl == result.utility_id_pudl_right)\n",
    "plant_mask = (result.plant_id_pudl == result.plant_id_pudl_right)\n",
    "correct = result[util_mask & plant_mask]"
   ]
  },
  {
   "cell_type": "code",
   "execution_count": null,
   "id": "fdc094e6-c74a-42fa-acf8-5a269906f49a",
   "metadata": {
    "tags": []
   },
   "outputs": [],
   "source": [
    "# use 1.5 as thresh?\n",
    "plt.hist(correct.distance, bins=20)\n",
    "plt.show()"
   ]
  },
  {
   "cell_type": "code",
   "execution_count": null,
   "id": "8867f422-c8fe-4d0c-a7b8-4aeee3eadb26",
   "metadata": {
    "tags": []
   },
   "outputs": [],
   "source": [
    "u, c = np.unique(cand_set, return_counts=True)"
   ]
  },
  {
   "cell_type": "code",
   "execution_count": null,
   "id": "47360d7f-2549-4263-94b5-fc109d6d23d0",
   "metadata": {
    "tags": []
   },
   "outputs": [],
   "source": [
    "len(eia_df), len(ferc_df), cand_set.shape, len(u)"
   ]
  },
  {
   "cell_type": "code",
   "execution_count": null,
   "id": "1ed2049b-eacc-4bbd-8ad8-601951b19417",
   "metadata": {
    "tags": []
   },
   "outputs": [],
   "source": [
    "eia_cands = eia_df.reset_index(names=\"block_num\")"
   ]
  },
  {
   "cell_type": "code",
   "execution_count": null,
   "id": "51a6cd7a-3dad-4372-8426-e46ef4531b6a",
   "metadata": {
    "tags": []
   },
   "outputs": [],
   "source": [
    "ferc_cands = ferc_df.iloc[cand_set.flatten()]\n",
    "block_nums = np.repeat(np.arange(len(eia_df)), k)\n",
    "ferc_cands.loc[:, \"block_num\"] = block_nums"
   ]
  },
  {
   "cell_type": "markdown",
   "id": "b2ff4609-043d-47ca-a2c4-349b8f83f38f",
   "metadata": {},
   "source": [
    "# Match With Splink"
   ]
  },
  {
   "cell_type": "code",
   "execution_count": null,
   "id": "6e911631-75dc-4ac6-bf1c-7f0793fa9cec",
   "metadata": {
    "tags": []
   },
   "outputs": [],
   "source": [
    "matching_cols = [\"plant_name\", \"utility_name\"]\n",
    "extra_cols = [\"plant_id_pudl\", \"utility_id_pudl\", \"index\", \"block_num\"]"
   ]
  },
  {
   "cell_type": "code",
   "execution_count": null,
   "id": "82c802fb-bf4c-4450-81d6-42b5fbddff56",
   "metadata": {
    "tags": []
   },
   "outputs": [],
   "source": [
    "eia_left = eia_cands.reset_index()\n",
    "ferc_right = ferc_cands.reset_index()"
   ]
  },
  {
   "cell_type": "code",
   "execution_count": null,
   "id": "7a8466c5-56e0-4755-be0a-f503d608c072",
   "metadata": {
    "tags": []
   },
   "outputs": [],
   "source": [
    "eia_left"
   ]
  },
  {
   "cell_type": "code",
   "execution_count": null,
   "id": "d2a89755-dcb6-407c-9d10-c5ce62450b99",
   "metadata": {
    "tags": []
   },
   "outputs": [],
   "source": [
    "settings_dict = {\"link_type\": \"link_only\",\n",
    "                 \"unique_id_column_name\": \"index\",\n",
    "                 \"additional_columns_to_retain\": [\"plant_id_pudl\", \"utility_id_pudl\"]}"
   ]
  },
  {
   "cell_type": "code",
   "execution_count": null,
   "id": "62d6f301-4a42-4769-aa9f-e7b97172dffa",
   "metadata": {
    "tags": []
   },
   "outputs": [],
   "source": [
    "linker = DuckDBLinker(\n",
    "    [eia_left[matching_cols + extra_cols], \n",
    "     ferc_right[matching_cols + extra_cols]], \n",
    "    input_table_aliases = [\"eia_df\", \"ferc_df\"], \n",
    "    settings_dict=settings_dict)"
   ]
  },
  {
   "cell_type": "code",
   "execution_count": null,
   "id": "3833aa6f-a33f-4c3b-bcde-3064d2b51693",
   "metadata": {
    "tags": []
   },
   "outputs": [],
   "source": [
    "linker.profile_columns(matching_cols, top_n=10, bottom_n=5)"
   ]
  },
  {
   "cell_type": "code",
   "execution_count": null,
   "id": "a6a4587b-2d2a-4366-9fb7-33708a37470f",
   "metadata": {
    "tags": []
   },
   "outputs": [],
   "source": [
    "# TODO: try with leveshtein thresholds\n",
    "plant_name_comparison = ctl.name_comparison(\"plant_name\", \n",
    "                                            damerau_levenshtein_thresholds=[], \n",
    "                                            jaro_winkler_thresholds=[.9, .8, .7])\n",
    "utility_name_comparison = ctl.name_comparison(\"utility_name\", \n",
    "                                              damerau_levenshtein_thresholds=[], \n",
    "                                              jaro_winkler_thresholds=[.9, .8], \n",
    "                                              term_frequency_adjustments=True)"
   ]
  },
  {
   "cell_type": "markdown",
   "id": "88642d8d-a554-4bd4-b758-7fb3a513a272",
   "metadata": {},
   "source": [
    "From docs: \"For linkages in DuckDB on a standard laptop, we suggest using blocking rules that create no more than about 20 million comparisons. For Spark and Athena, try starting with fewer than a a billion comparisons, before scaling up.\""
   ]
  },
  {
   "cell_type": "code",
   "execution_count": null,
   "id": "93fd7547-0c83-47bc-bfcf-3c3ac9785032",
   "metadata": {
    "tags": []
   },
   "outputs": [],
   "source": [
    "blocking_rule = \"l.block_num = r.block_num\"\n",
    "count = linker.count_num_comparisons_from_blocking_rule(blocking_rule)\n",
    "print(f\"Number of comparisons generated by '{blocking_rule}': {count:,.0f}\")"
   ]
  },
  {
   "cell_type": "code",
   "execution_count": null,
   "id": "ff38106e-a55e-4d75-ae91-c321ab0fa5fa",
   "metadata": {
    "tags": []
   },
   "outputs": [],
   "source": [
    "settings_dict.update({\n",
    "    \"comparisons\": [\n",
    "        plant_name_comparison,\n",
    "        utility_name_comparison,\n",
    "    ],\n",
    "    \"blocking_rules_to_generate_predictions\": [\n",
    "        blocking_rule\n",
    "    ],\n",
    "    \"retain_matching_columns\": True,\n",
    "    \"retain_intermediate_calculation_columns\": False,\n",
    "    \"probability_two_random_records_match\": 1/len(eia_df) # is this correct?\n",
    "    }\n",
    ")"
   ]
  },
  {
   "cell_type": "code",
   "execution_count": null,
   "id": "5d2e6fd2-f633-49f3-8646-a338db99ccb7",
   "metadata": {
    "tags": []
   },
   "outputs": [],
   "source": [
    "linker.load_settings(settings_dict)"
   ]
  },
  {
   "cell_type": "code",
   "execution_count": null,
   "id": "59a7e8e9-2488-4b71-a177-bcb02fc55282",
   "metadata": {
    "tags": []
   },
   "outputs": [],
   "source": [
    "%%time\n",
    "linker.estimate_u_using_random_sampling(max_pairs=1e7)"
   ]
  },
  {
   "cell_type": "code",
   "execution_count": null,
   "id": "a1d3c05d-20bb-4383-8af1-3a4c6877bc04",
   "metadata": {
    "tags": []
   },
   "outputs": [],
   "source": [
    "training_blocking_rule_1 = \"jaro_winkler_similarity(l.plant_name, r.plant_name) >= 0.9\"\n",
    "training_session_1 = linker.estimate_parameters_using_expectation_maximisation(training_blocking_rule_1)"
   ]
  },
  {
   "cell_type": "code",
   "execution_count": null,
   "id": "ebfeb37d-1016-4961-949a-2d1bbd0c2dda",
   "metadata": {
    "tags": []
   },
   "outputs": [],
   "source": [
    "training_blocking_rule_2 = \"jaro_winkler_similarity(l.utility_name, r.utility_name) >= 0.9\"\n",
    "training_session_2 = linker.estimate_parameters_using_expectation_maximisation(training_blocking_rule_2)"
   ]
  },
  {
   "cell_type": "code",
   "execution_count": null,
   "id": "b894741d-85af-4ada-9b7b-6f3f5dc00adc",
   "metadata": {
    "tags": []
   },
   "outputs": [],
   "source": [
    "# add more jaro_winkler thresholds in?\n",
    "linker.match_weights_chart()"
   ]
  },
  {
   "cell_type": "code",
   "execution_count": null,
   "id": "e2b0eee3-cc34-46d1-a8ed-04b73dd26ca2",
   "metadata": {
    "tags": []
   },
   "outputs": [],
   "source": [
    "linker.m_u_parameters_chart()"
   ]
  },
  {
   "cell_type": "code",
   "execution_count": null,
   "id": "04b1711c-420c-414d-9574-3a78c477d0eb",
   "metadata": {
    "tags": []
   },
   "outputs": [],
   "source": [
    "n = 0"
   ]
  },
  {
   "cell_type": "code",
   "execution_count": null,
   "id": "3892cc1e-cbae-40f9-80b0-30dce552f3e3",
   "metadata": {
    "tags": []
   },
   "outputs": [],
   "source": [
    "settings = linker.save_model_to_json(f\"./splink_model_settings/pudl_id_model_settings_{n}.json\", overwrite=False)"
   ]
  },
  {
   "cell_type": "code",
   "execution_count": null,
   "id": "d30f5275-cf3e-4b4b-b51b-03f5164d2388",
   "metadata": {
    "tags": []
   },
   "outputs": [],
   "source": [
    "df_preds = linker.predict()"
   ]
  },
  {
   "cell_type": "code",
   "execution_count": null,
   "id": "296fe79a-48b4-4cd6-88e2-e3a8586dacdd",
   "metadata": {
    "tags": []
   },
   "outputs": [],
   "source": [
    "sorted_preds_df = df_preds.as_pandas_dataframe().sort_values(by=\"match_probability\", ascending=False)"
   ]
  },
  {
   "cell_type": "code",
   "execution_count": null,
   "id": "b6338969-82d8-4a8a-94d1-30f0993c3eac",
   "metadata": {
    "tags": []
   },
   "outputs": [],
   "source": [
    "plant_id_match = (sorted_preds_df.plant_id_pudl_l == sorted_preds_df.plant_id_pudl_r)\n",
    "utility_id_match = (sorted_preds_df.utility_id_pudl_l == sorted_preds_df.utility_id_pudl_r)\n",
    "matches = sorted_preds_df[plant_id_match & utility_id_match]\n",
    "plant_matches = sorted_preds_df[plant_id_match]\n",
    "utility_matches = sorted_preds_df[utility_id_match]"
   ]
  },
  {
   "cell_type": "code",
   "execution_count": null,
   "id": "a66d26aa-9de6-49da-b790-878a51ab0ab1",
   "metadata": {
    "tags": []
   },
   "outputs": [],
   "source": [
    "# really should look at how many of the blocks have a correct match\n",
    "len(matches)/len(eia_df), len(plant_matches)/len(eia_df), len(utility_matches)/len(eia_df)"
   ]
  },
  {
   "cell_type": "code",
   "execution_count": null,
   "id": "6d0fe88f-763d-446b-ba69-cae8553f45f3",
   "metadata": {},
   "outputs": [],
   "source": [
    "matches.head(1)"
   ]
  },
  {
   "cell_type": "code",
   "execution_count": null,
   "id": "470fea46-700c-4139-931a-946a339c5cbf",
   "metadata": {
    "tags": []
   },
   "outputs": [],
   "source": [
    "plt.hist(matches.match_probability, bins=30)\n",
    "plt.show()"
   ]
  },
  {
   "cell_type": "markdown",
   "id": "a47afff4-f246-4b55-bc79-f679f9dd9a16",
   "metadata": {},
   "source": [
    "# Use model to predict on owner utilities\n",
    "\n",
    "This is just an example and no longer relevant because the EIA owner utilities didn't seem to have a good match. If you were to use the model to predict on new utilities, you'd loosely follow this. First clean and run blocking, then predict with splink model. "
   ]
  },
  {
   "cell_type": "code",
   "execution_count": null,
   "id": "5e7464c0-f9fd-42bf-9f53-48c7842c33de",
   "metadata": {
    "tags": []
   },
   "outputs": [],
   "source": [
    "eia_own_left = eia_own.reset_index()\n",
    "# temporarily need to fill in utility_id_pudl\n",
    "eia_own_left[\"utility_id_pudl\"] = 0"
   ]
  },
  {
   "cell_type": "markdown",
   "id": "da46fcfe-20c9-415b-b92a-41fffeb52eae",
   "metadata": {},
   "source": [
    "Run blocking - use same embedding config"
   ]
  },
  {
   "cell_type": "code",
   "execution_count": null,
   "id": "89d0dd02-ea42-4705-9fec-f299e0ae2f7e",
   "metadata": {
    "tags": []
   },
   "outputs": [],
   "source": [
    "embedder = DataframeEmbedder(\n",
    "    left_df = eia_own_left, \n",
    "    right_df = ferc_df, \n",
    "    embedding_map = embedding_config.embedding_map)"
   ]
  },
  {
   "cell_type": "code",
   "execution_count": null,
   "id": "75b8dc85-cace-47c5-8880-3bf3d9ceec15",
   "metadata": {
    "tags": []
   },
   "outputs": [],
   "source": [
    "embedder.embed_dataframes()"
   ]
  },
  {
   "cell_type": "code",
   "execution_count": null,
   "id": "2395391c-cccd-4fdb-9f2a-5515542b2085",
   "metadata": {
    "tags": []
   },
   "outputs": [],
   "source": [
    "embedder.left_embedding_matrix.shape, embedder.right_embedding_matrix.shape"
   ]
  },
  {
   "cell_type": "code",
   "execution_count": null,
   "id": "4c9a90f6-1b04-48d8-9a2c-365088e5a778",
   "metadata": {
    "tags": []
   },
   "outputs": [],
   "source": [
    "searcher = SimilaritySearcher(query_embedding_matrix=embedder.left_embedding_matrix,\n",
    "                   menu_embedding_matrix=embedder.right_embedding_matrix,\n",
    "                   query_blocks_dict=embedder.left_blocks_dict,\n",
    "                   menu_blocks_dict=embedder.right_blocks_dict)"
   ]
  },
  {
   "cell_type": "code",
   "execution_count": null,
   "id": "54c2ec40-f496-44a6-9fb0-f304bcaa894c",
   "metadata": {
    "tags": []
   },
   "outputs": [],
   "source": [
    "k = 1"
   ]
  },
  {
   "cell_type": "code",
   "execution_count": null,
   "id": "9663b115-81fd-49ec-b03c-b5fe13571750",
   "metadata": {
    "tags": []
   },
   "outputs": [],
   "source": [
    "%%time\n",
    "cand_set, distances = searcher.run_candidate_pair_search(k)"
   ]
  },
  {
   "cell_type": "code",
   "execution_count": null,
   "id": "245e6cb7-2e72-4be4-862d-4cbf32a02eeb",
   "metadata": {
    "tags": []
   },
   "outputs": [],
   "source": [
    "distances.shape"
   ]
  },
  {
   "cell_type": "code",
   "execution_count": null,
   "id": "99664ae5-ea46-4464-8ecf-27b2f807b08f",
   "metadata": {
    "tags": []
   },
   "outputs": [],
   "source": [
    "cand_set.shape"
   ]
  },
  {
   "cell_type": "code",
   "execution_count": null,
   "id": "cd390356-da3d-4bdf-997c-c0db59a02423",
   "metadata": {
    "tags": []
   },
   "outputs": [],
   "source": [
    "i = 0"
   ]
  },
  {
   "cell_type": "code",
   "execution_count": null,
   "id": "a5cc0e9f-2ecf-4629-853b-1d878bfd7ef6",
   "metadata": {
    "tags": []
   },
   "outputs": [],
   "source": [
    "pd.concat([eia_own_left.iloc[[i]][[\"utility_name\", \"plant_name\"]],\n",
    "           ferc_df.iloc[cand_set[i]][[\"utility_name\", \"plant_name\"]]])"
   ]
  },
  {
   "cell_type": "code",
   "execution_count": null,
   "id": "17275843-df85-4dbe-81d3-ececaf40271b",
   "metadata": {
    "tags": []
   },
   "outputs": [],
   "source": [
    "distances[i]"
   ]
  },
  {
   "cell_type": "code",
   "execution_count": null,
   "id": "2b9c855a-73c6-407c-9271-3d377904d39a",
   "metadata": {
    "tags": []
   },
   "outputs": [],
   "source": [
    "cols = [\"utility_name\", \"plant_name\", \"utility_id_pudl\", \"plant_id_pudl\"]\n",
    "rename_d = {\"plant_id_pudl\": \"plant_id_pudl_right\",\n",
    "            \"utility_id_pudl\": \"utility_id_pudl_right\",\n",
    "            \"utility_name\": \"utility_name_right\",\n",
    "            \"plant_name\": \"plant_name_right\"}\n",
    "result = pd.concat([eia_own_left[cols],\n",
    "                    ferc_df[cols].iloc[cand_set.squeeze()].rename(columns=rename_d).reset_index(drop=True)],\n",
    "                    axis=1)"
   ]
  },
  {
   "cell_type": "code",
   "execution_count": null,
   "id": "81052ec8-7da1-4c9e-8d22-f6d6aee0616d",
   "metadata": {
    "tags": []
   },
   "outputs": [],
   "source": [
    "result[\"distance\"] = distances"
   ]
  },
  {
   "cell_type": "code",
   "execution_count": null,
   "id": "31269042-3e51-4ef2-8a89-556aaac2be05",
   "metadata": {
    "tags": []
   },
   "outputs": [],
   "source": [
    "result[result.distance <= 2].to_csv(\"owner_util_prelim_match.csv\")"
   ]
  },
  {
   "cell_type": "code",
   "execution_count": null,
   "id": "29c6639b-d6c2-461b-9452-757f1dfc01d6",
   "metadata": {
    "tags": []
   },
   "outputs": [],
   "source": [
    "eia_cands = eia_own_left.reset_index(names=\"block_num\")"
   ]
  },
  {
   "cell_type": "code",
   "execution_count": null,
   "id": "bd863630-da79-4b66-843c-5ac2cb5185a9",
   "metadata": {
    "tags": []
   },
   "outputs": [],
   "source": [
    "ferc_cands = ferc_df.iloc[cand_set.flatten()]\n",
    "block_nums = np.repeat(np.arange(len(eia_own_left)), k)\n",
    "ferc_cands.loc[:, \"block_num\"] = block_nums"
   ]
  },
  {
   "cell_type": "markdown",
   "id": "78b6a5a4-165c-4db1-9fac-46e9286cbde9",
   "metadata": {},
   "source": [
    "Load linker"
   ]
  },
  {
   "cell_type": "code",
   "execution_count": null,
   "id": "5985d928-b52b-46b7-a0a6-632431ace1bc",
   "metadata": {
    "tags": []
   },
   "outputs": [],
   "source": [
    "eia_own_left = eia_cands\n",
    "ferc_own_right = ferc_cands.reset_index()"
   ]
  },
  {
   "cell_type": "code",
   "execution_count": null,
   "id": "a8bdb9f8-8091-47b8-83ac-6acbc083919b",
   "metadata": {
    "tags": []
   },
   "outputs": [],
   "source": [
    "own_linker = DuckDBLinker([eia_own_left[matching_cols + extra_cols],\n",
    "                          ferc_own_right[matching_cols + extra_cols]])\n",
    "own_linker.load_settings(f\"./splink_model_settings/pudl_id_model_settings_{n}.json\")"
   ]
  },
  {
   "cell_type": "code",
   "execution_count": null,
   "id": "83c743a9-2483-43b8-b76c-7291cabbbc06",
   "metadata": {
    "tags": []
   },
   "outputs": [],
   "source": [
    "df = own_linker.predict()"
   ]
  },
  {
   "cell_type": "code",
   "execution_count": null,
   "id": "3c1f34f0-f28c-4fe2-b644-0def4ec57ca0",
   "metadata": {
    "tags": []
   },
   "outputs": [],
   "source": [
    "sorted_preds = df.as_pandas_dataframe().sort_values(by=\"match_probability\", ascending=False)"
   ]
  }
 ],
 "metadata": {
  "kernelspec": {
   "display_name": "ferc1_eia_match",
   "language": "python",
   "name": "ferc1_eia_match"
  },
  "language_info": {
   "codemirror_mode": {
    "name": "ipython",
    "version": 3
   },
   "file_extension": ".py",
   "mimetype": "text/x-python",
   "name": "python",
   "nbconvert_exporter": "python",
   "pygments_lexer": "ipython3",
   "version": "3.11.4"
  }
 },
 "nbformat": 4,
 "nbformat_minor": 5
}
