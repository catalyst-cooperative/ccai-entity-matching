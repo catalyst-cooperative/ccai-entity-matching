{
 "cells": [
  {
   "cell_type": "code",
   "execution_count": 1,
   "id": "0931ec31-2ab1-4da5-99df-685a100c593c",
   "metadata": {},
   "outputs": [],
   "source": [
    "%load_ext autoreload\n",
    "%autoreload 3"
   ]
  },
  {
   "cell_type": "code",
   "execution_count": 7,
   "id": "d2dc88c5-25be-4e4a-bcb4-92b4ba9da40a",
   "metadata": {},
   "outputs": [],
   "source": [
    "import pandas as pd\n",
    "import pudl\n",
    "import sqlalchemy as sa\n",
    "from pathlib import Path"
   ]
  },
  {
   "cell_type": "code",
   "execution_count": 3,
   "id": "cd9485c0-cbbb-4cec-92ae-a3d1cbb7ca42",
   "metadata": {},
   "outputs": [],
   "source": [
    "pudl_engine = sa.create_engine(pudl.workspace.setup.get_defaults()['pudl_db'])\n",
    "pudl_out = pudl.output.pudltabl.PudlTabl(pudl_engine)"
   ]
  },
  {
   "cell_type": "markdown",
   "id": "b98fd8fe-becc-4a13-8298-7cd484751a04",
   "metadata": {},
   "source": [
    "### Generate Plant Parts List"
   ]
  },
  {
   "cell_type": "code",
   "execution_count": 5,
   "id": "0b6a154a-6da3-49bd-9bf0-39b4c11cf0a7",
   "metadata": {},
   "outputs": [],
   "source": [
    "# make ppl distinct for Panda\n",
    "# this was adapted from the RMI repo\n",
    "# takes as input a non-distinct (includes non true grans) ppl\n",
    "def get_plant_parts_distinct(plant_parts_eia):\n",
    "    \"\"\"Get the EIA plant-parts with only the unique granularities.\"\"\"\n",
    "    # We want only the records of the EIA plant-parts that are \"true\n",
    "    # granularies\" and those which are not duplicates based on their\n",
    "    # ownership  so the model doesn't get confused as to which option to\n",
    "    # pick if there are many records with duplicate data\n",
    "    plant_parts_eia = plant_parts_eia.assign(\n",
    "        plant_id_report_year_util_id=lambda x: x.plant_id_report_year\n",
    "        + \"_\"\n",
    "        + x.utility_id_pudl.map(str)\n",
    "    ).astype({\"installation_year\": \"float\"})\n",
    "    plant_parts_distinct = plant_parts_eia[\n",
    "        (plant_parts_eia[\"true_gran\"]) & (~plant_parts_eia[\"ownership_dupe\"])\n",
    "    ]\n",
    "    return plant_parts_distinct"
   ]
  },
  {
   "cell_type": "code",
   "execution_count": null,
   "id": "8c566866-8030-4572-9263-44d68036b3d4",
   "metadata": {},
   "outputs": [],
   "source": [
    "plant_parts_eia = pudl_out.plant_parts_eia()"
   ]
  },
  {
   "cell_type": "code",
   "execution_count": null,
   "id": "9c9276f1-87f0-4a37-8e1f-abca9254c63e",
   "metadata": {},
   "outputs": [],
   "source": [
    "# a little patch because there was one duplicate record due to a bug in ppl generation\n",
    "# need to check with CG to see if this got fixed\n",
    "plant_parts_eia = plant_parts_eia[ ~plant_parts_eia.index.duplicated(keep=\"first\")]\n",
    "plant_parts_eia_distinct = get_plant_parts_distinct(plant_parts_eia)"
   ]
  },
  {
   "cell_type": "code",
   "execution_count": 2,
   "id": "924d3366-a4f1-477d-ac51-da10883d2c98",
   "metadata": {},
   "outputs": [],
   "source": [
    "# it's not necessary to remove columns any more to save on memory\n",
    "# but these columns seemed non essential for Panda matching\n",
    "ppl_cols_to_remove = [\n",
    "    'appro_part_label',\n",
    "    'appro_record_id_eia',\n",
    "    'operational_status',\n",
    "    'operational_status_pudl',\n",
    "    'ownership_dupe',\n",
    "    'retirement_date',\n",
    "    'planned_retirement_date',\n",
    "    'true_gran'\n",
    "]"
   ]
  },
  {
   "cell_type": "markdown",
   "id": "3bf49ea6-b03d-443a-913a-6139b3e0e93a",
   "metadata": {},
   "source": [
    "### Add on utility name\n",
    "\n",
    "If the latest version of the plant parts list is being used then construction year and installation year should already be included."
   ]
  },
  {
   "cell_type": "code",
   "execution_count": 4,
   "id": "65b91612-d33c-42dd-a396-a8f6127ed7b0",
   "metadata": {},
   "outputs": [],
   "source": [
    "# currently df is intended to be the distinct plant parts list\n",
    "def preprocess(df, pudl_engine):\n",
    "    # join on utility_name_eia\n",
    "    eia_util = pd.read_sql(\"utilities_eia\", pudl_engine)\n",
    "    eia_util = eia_util.set_index('utility_id_eia')['utility_name_eia']\n",
    "    non_null_df = df[~(df.utility_id_eia.isnull())]\n",
    "    non_null_df = non_null_df.merge(eia_util, how=\"left\", left_on='utility_id_eia', right_index=True, validate=\"m:1\")\n",
    "    df_util = pd.concat([non_null_df, df[df.utility_id_eia.isnull()]])\n",
    "    df = df_util.reindex(df.index)\n",
    "    \n",
    "    return df_util"
   ]
  },
  {
   "cell_type": "markdown",
   "id": "50d00ee5-7b3d-4808-b9d8-74e8e0eea579",
   "metadata": {},
   "source": [
    "### Separate the plant parts list by year\n",
    "\n",
    "Currently Panda has a memory issue so inputs are broken out by year"
   ]
  },
  {
   "cell_type": "code",
   "execution_count": 1,
   "id": "1bbda50d-ad2a-4b73-9a12-a05d0cc22401",
   "metadata": {},
   "outputs": [],
   "source": [
    "def separate_ppl_by_year(ppl_distinct, output_dir):\n",
    "    dir_path = Path(output_dir)\n",
    "    for year in ppl_distinct.report_year.unique():\n",
    "        (dir_path / f\"ferc_eia_{year}\").mkdir(parents=True, exist_ok=True)\n",
    "        df = ppl_distinct[ppl_distinct.report_year == year]\n",
    "        df.to_csv(f\"{output_dir}/ferc_eia_{year}/right.csv\")"
   ]
  }
 ],
 "metadata": {
  "kernelspec": {
   "display_name": "pudl-dev",
   "language": "python",
   "name": "pudl-dev"
  },
  "language_info": {
   "codemirror_mode": {
    "name": "ipython",
    "version": 3
   },
   "file_extension": ".py",
   "mimetype": "text/x-python",
   "name": "python",
   "nbconvert_exporter": "python",
   "pygments_lexer": "ipython3",
   "version": "3.10.4"
  }
 },
 "nbformat": 4,
 "nbformat_minor": 5
}
