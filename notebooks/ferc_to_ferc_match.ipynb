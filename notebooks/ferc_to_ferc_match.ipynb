{
 "cells": [
  {
   "cell_type": "markdown",
   "id": "8a3f7594-93d2-4b14-a216-847e235b66c8",
   "metadata": {},
   "source": [
    "# FERC to FERC Match"
   ]
  },
  {
   "cell_type": "markdown",
   "id": "0d78f61f-4ccf-4a53-8526-d347010f62a3",
   "metadata": {},
   "source": [
    "A classifier for identifying FERC plant time series in FERC Form 1 data.\n",
    "\n",
    "Input: FERC plant record  \n",
    "Output: The ID of the group of records that it ought to be part of\n",
    "\n",
    "Training data: A list of lists of unique FERC plant record IDs (each record ID is the concatenation of: report year, respondent id, supplement number, and row number). It could also be stored as a dataframe where each column is associated with a year of data(some of which could be empty). Not sure what the best structure would be."
   ]
  },
  {
   "cell_type": "code",
   "execution_count": null,
   "id": "ca0ab492-4695-4a3f-93db-4d39315c5273",
   "metadata": {
    "tags": []
   },
   "outputs": [],
   "source": [
    "%load_ext autoreload\n",
    "%autoreload 3"
   ]
  },
  {
   "cell_type": "code",
   "execution_count": null,
   "id": "84e287da-c757-4eb7-a664-557952826d6f",
   "metadata": {
    "tags": []
   },
   "outputs": [],
   "source": [
    "import faiss\n",
    "from matplotlib import pyplot as plt\n",
    "import numpy as np\n",
    "import pandas as pd\n",
    "from sklearn.compose import ColumnTransformer\n",
    "from sklearn.feature_extraction.text import TfidfVectorizer\n",
    "from sklearn.pipeline import Pipeline\n",
    "from sklearn.preprocessing import MinMaxScaler, Normalizer, OneHotEncoder\n",
    "from sklearn.cluster import AgglomerativeClustering\n",
    "from sklearn.metrics import pairwise_distances\n",
    "from sklearn.decomposition import PCA\n",
    "\n",
    "from pudl.etl import defs\n",
    "from ferc1_eia_match.name_cleaner import CompanyNameCleaner\n",
    "from ferc1_eia_match.candidate_set_creation import DataframeEmbedder\n",
    "from ferc1_eia_match import config\n",
    "from ferc1_eia_match.metrics import ferc_to_ferc"
   ]
  },
  {
   "cell_type": "markdown",
   "id": "145dee3d-d3ec-432b-86c8-6ea94a3af1ef",
   "metadata": {},
   "source": [
    "## Get input data"
   ]
  },
  {
   "cell_type": "code",
   "execution_count": null,
   "id": "f1537b80-f13c-4c8b-8a37-4f46d751db05",
   "metadata": {
    "tags": []
   },
   "outputs": [],
   "source": [
    "# use denorm_plants_all_ferc1 instead?\n",
    "plants_df = defs.load_asset_value(\"denorm_plants_steam_ferc1\")"
   ]
  },
  {
   "cell_type": "code",
   "execution_count": null,
   "id": "28e035fa-af04-40b0-bfb5-5ff8d4ab3966",
   "metadata": {
    "tags": []
   },
   "outputs": [],
   "source": [
    "fuel_df = defs.load_asset_value(\"denorm_fuel_by_plant_ferc1\")"
   ]
  },
  {
   "cell_type": "code",
   "execution_count": null,
   "id": "f0a67284-1c56-4808-97d4-dc5f6d70bc90",
   "metadata": {
    "tags": []
   },
   "outputs": [],
   "source": [
    "fuel_cols = list(fuel_df.filter(regex=\".*_fraction_mmbtu$\").columns)"
   ]
  },
  {
   "cell_type": "code",
   "execution_count": null,
   "id": "09d9b040-4d73-457c-8b0d-aedae7787fb9",
   "metadata": {
    "tags": []
   },
   "outputs": [],
   "source": [
    "plants_df = plants_df.merge(\n",
    "    fuel_df[[\"utility_id_ferc1\", \"plant_name_ferc1\", \"report_year\"] + fuel_cols],\n",
    "    on=[\"utility_id_ferc1\", \"plant_name_ferc1\", \"report_year\"],\n",
    "    how=\"left\",\n",
    ")"
   ]
  },
  {
   "cell_type": "code",
   "execution_count": null,
   "id": "f1d9abf9-115b-4995-9139-be0f90179de6",
   "metadata": {
    "tags": []
   },
   "outputs": [],
   "source": [
    "utility_name_cleaner = CompanyNameCleaner()\n",
    "# default rules except keep words in parentheses\n",
    "plant_name_cleaner = CompanyNameCleaner(\n",
    "    cleaning_rules_list=[\n",
    "        \"replace_amperstand_between_space_by_AND\",\n",
    "        \"replace_hyphen_between_spaces_by_single_space\",\n",
    "        \"replace_underscore_by_space\",\n",
    "        \"replace_underscore_between_spaces_by_single_space\",\n",
    "        \"remove_text_puctuation_except_dot\",\n",
    "        \"remove_math_symbols\",\n",
    "        \"add_space_before_opening_parentheses\",\n",
    "        \"add_space_after_closing_parentheses\",\n",
    "        \"remove_parentheses\",\n",
    "        \"remove_brackets\",\n",
    "        \"remove_curly_brackets\",\n",
    "        \"enforce_single_space_between_words\",\n",
    "    ]\n",
    ")"
   ]
  },
  {
   "cell_type": "code",
   "execution_count": null,
   "id": "31385c76-42fc-40bc-83f5-d715c1d1d80e",
   "metadata": {
    "tags": []
   },
   "outputs": [],
   "source": [
    "plants_df = (\n",
    "    plants_df.pipe(\n",
    "        utility_name_cleaner.get_clean_df,\n",
    "        \"utility_name_ferc1\",\n",
    "        \"utility_name\",\n",
    "    )\n",
    "    .pipe(plant_name_cleaner.get_clean_df, \"plant_name_ferc1\", \"plant_name\")\n",
    ")"
   ]
  },
  {
   "cell_type": "markdown",
   "id": "3822216d-648d-4d8a-ab19-298132c64b19",
   "metadata": {},
   "source": [
    "Probably should adapt the DataframeEmbedder class to function with a \"pipeline\"-like structure for all these embedding functions."
   ]
  },
  {
   "cell_type": "markdown",
   "id": "0912dbfd-c150-4cf5-9bf4-2989e36e7a92",
   "metadata": {},
   "source": [
    "Vectorize FERC data:  \n",
    "* plant_name (via TF-IDF, with ngram_min and ngram_max as parameters)\n",
    "* plant_type (OneHot encoded categorical feature)\n",
    "* construction_type (OneHot encoded categorical feature)\n",
    "* capacity_mw (MinMax scaled numerical feature)\n",
    "* construction year (OneHot encoded categorical feature)\n",
    "* utility_id_ferc1 (OneHot encoded categorical feature)\n",
    "* fuel_fraction_mmbtu (several MinMax scaled numerical columns, which are\n",
    "normalized and treated as a single feature.)\n",
    "\n",
    "Note: Integer nulls are filled with 0 in the PUDL module"
   ]
  },
  {
   "cell_type": "code",
   "execution_count": null,
   "id": "ac501a11-f639-4da4-bf67-3c8dde58bf71",
   "metadata": {
    "tags": []
   },
   "outputs": [],
   "source": [
    "ngram_min=2\n",
    "ngram_max=10\n",
    "plant_name_ferc1_wt=2.0\n",
    "plant_type_wt=2.0\n",
    "construction_type_wt=1.0\n",
    "capacity_mw_wt=1.0\n",
    "construction_year_wt=1.0\n",
    "utility_id_ferc1_wt=1.0\n",
    "fuel_fraction_wt=1.0"
   ]
  },
  {
   "cell_type": "code",
   "execution_count": null,
   "id": "09fc9fb9-b305-4b20-a794-5be728f2f889",
   "metadata": {
    "tags": []
   },
   "outputs": [],
   "source": [
    "str_cols = [\"plant_type\", \"construction_type\"]\n",
    "num_cols = [\"capacity_mw\", \"construction_year\", \"utility_id_ferc1\"] + fuel_cols"
   ]
  },
  {
   "cell_type": "code",
   "execution_count": null,
   "id": "ea2dd010-e5f8-4920-b263-47bcb9bccaee",
   "metadata": {
    "tags": []
   },
   "outputs": [],
   "source": [
    "plants_df[str_cols] = plants_df[str_cols].astype(str).fillna(\"\").astype(\"category\")"
   ]
  },
  {
   "cell_type": "code",
   "execution_count": null,
   "id": "acc3be84-ad56-4951-9d92-19cd87d0ba87",
   "metadata": {
    "tags": []
   },
   "outputs": [],
   "source": [
    "plants_df[num_cols] = plants_df[num_cols].fillna(0)"
   ]
  },
  {
   "cell_type": "code",
   "execution_count": null,
   "id": "86e4ce2a-72d4-42ba-8b3d-4f5b581cf56e",
   "metadata": {
    "tags": []
   },
   "outputs": [],
   "source": [
    "embedder = ColumnTransformer(\n",
    "    transformers=[\n",
    "        (\n",
    "            \"plant_name_ferc1\",\n",
    "            TfidfVectorizer(\n",
    "                analyzer=\"char\", ngram_range=(ngram_min, ngram_max)\n",
    "            ),\n",
    "            \"plant_name_ferc1\",\n",
    "        ),\n",
    "        (\n",
    "            \"plant_type\",\n",
    "            OneHotEncoder(categories=\"auto\"),\n",
    "            [\"plant_type\"],\n",
    "        ),\n",
    "        (\n",
    "            \"construction_type\",\n",
    "            OneHotEncoder(categories=\"auto\"),\n",
    "            [\"construction_type\"],\n",
    "        ),\n",
    "        (\"capacity_mw\", MinMaxScaler(), [\"capacity_mw\"]),\n",
    "        (\n",
    "            \"construction_year\",\n",
    "            OneHotEncoder(categories=\"auto\"),\n",
    "            [\"construction_year\"],\n",
    "        ),\n",
    "        (\n",
    "            \"utility_id_ferc1\",\n",
    "            OneHotEncoder(categories=\"auto\"),\n",
    "            [\"utility_id_ferc1\"],\n",
    "        ),\n",
    "        (\n",
    "            \"fuel_fraction_mmbtu\",\n",
    "            Pipeline(\n",
    "                [(\"scaler\", MinMaxScaler()), (\"norm\", Normalizer())]\n",
    "            ),\n",
    "            fuel_cols,\n",
    "        ),\n",
    "    ],\n",
    "    transformer_weights={\n",
    "        \"plant_name_ferc1\": plant_name_ferc1_wt,\n",
    "        \"plant_type\": plant_type_wt,\n",
    "        \"construction_type\": construction_type_wt,\n",
    "        \"capacity_mw\": capacity_mw_wt,\n",
    "        \"construction_year\": construction_year_wt,\n",
    "        \"utility_id_ferc1\": utility_id_ferc1_wt,\n",
    "        \"fuel_fraction_mmbtu\": fuel_fraction_wt,\n",
    "    },\n",
    ")"
   ]
  },
  {
   "cell_type": "code",
   "execution_count": null,
   "id": "32506726-33b7-41ce-bb22-ade3bdc1ad9c",
   "metadata": {
    "tags": []
   },
   "outputs": [],
   "source": [
    "plants_matrix_sparse = embedder.fit_transform(plants_df)"
   ]
  },
  {
   "cell_type": "code",
   "execution_count": null,
   "id": "e20bd41b-8492-4881-b679-bc55c526b556",
   "metadata": {
    "tags": []
   },
   "outputs": [],
   "source": [
    "plants_matrix_sparse.shape"
   ]
  },
  {
   "cell_type": "code",
   "execution_count": null,
   "id": "f3bd7690-9f3c-47f2-bec5-bbd4ca0c018e",
   "metadata": {
    "tags": []
   },
   "outputs": [],
   "source": [
    "%%time\n",
    "d = plants_matrix_sparse.shape[1]\n",
    "plants_matrix = np.float32(plants_matrix_sparse.todense())"
   ]
  },
  {
   "cell_type": "code",
   "execution_count": null,
   "id": "04905a4a-b8ed-46e7-9739-0074458afd0a",
   "metadata": {
    "tags": []
   },
   "outputs": [],
   "source": [
    "plants_small = plants_matrix[:2000]"
   ]
  },
  {
   "cell_type": "code",
   "execution_count": null,
   "id": "9833928c-c3f1-4652-9267-efb3f5886b4f",
   "metadata": {
    "tags": []
   },
   "outputs": [],
   "source": [
    "plants_small_df = plants_df[:2000].copy()\n"
   ]
  },
  {
   "cell_type": "code",
   "execution_count": null,
   "id": "eb317e4d-9035-4881-b2ff-368a68a625af",
   "metadata": {
    "tags": []
   },
   "outputs": [],
   "source": [
    "d = 500"
   ]
  },
  {
   "cell_type": "code",
   "execution_count": null,
   "id": "08f99aa5-a9ec-4850-a45a-2f76cb77b8a4",
   "metadata": {
    "tags": []
   },
   "outputs": [],
   "source": [
    "%%time\n",
    "pca_small = PCA(n_components=d)\n",
    "plants_small_pca = pca_small.fit_transform(np.asarray(plants_small))"
   ]
  },
  {
   "cell_type": "code",
   "execution_count": null,
   "id": "1237fe4c-ac0e-48b5-86d7-a91622ad789f",
   "metadata": {
    "tags": []
   },
   "outputs": [],
   "source": [
    "%%time\n",
    "pca = PCA(n_components=d)\n",
    "plants_matrix_pca = pca.fit_transform(np.asarray(plants_matrix))"
   ]
  },
  {
   "cell_type": "code",
   "execution_count": null,
   "id": "0edf6edd-393b-4ede-913b-ee8a82635953",
   "metadata": {
    "tags": []
   },
   "outputs": [],
   "source": [
    "dist_matrix_small = pairwise_distances(plants_small_pca, metric='euclidean')"
   ]
  },
  {
   "cell_type": "code",
   "execution_count": null,
   "id": "c612d52c-5be2-47d2-a420-03152fb97578",
   "metadata": {
    "tags": []
   },
   "outputs": [],
   "source": [
    "dist_matrix = pairwise_distances(plants_matrix_pca, metric='euclidean')"
   ]
  },
  {
   "cell_type": "code",
   "execution_count": null,
   "id": "936dc3df-394f-40c0-b765-18b4b394b191",
   "metadata": {
    "tags": []
   },
   "outputs": [],
   "source": [
    "dist_matrix_small.shape, dist_matrix.shape"
   ]
  },
  {
   "cell_type": "code",
   "execution_count": null,
   "id": "ac9c83c8-44a2-4c94-9bd3-8a832ac81f17",
   "metadata": {
    "tags": []
   },
   "outputs": [],
   "source": [
    "dist_matrix_small.mean(), dist_matrix_small.max(), dist_matrix.mean(), dist_matrix.max()"
   ]
  },
  {
   "cell_type": "code",
   "execution_count": null,
   "id": "aa1e1b25-27b5-4532-9497-245521e05809",
   "metadata": {
    "tags": []
   },
   "outputs": [],
   "source": [
    "# TODO: would be nice to get rid of the for loop\n",
    "def penalize_same_report_year(df, dist_matrix, penalty=10):\n",
    "    report_years = range(df.report_year.min(), df.report_year.max()+1)\n",
    "    for yr in report_years:\n",
    "        # get the indices of all the record pairs that have matching report years\n",
    "        yr_idx = df[df.report_year == yr].index\n",
    "        yr_match_pairs_idx = np.array(np.meshgrid(yr_idx, yr_idx)).T.reshape(-1, 2)\n",
    "        mat = np.full(dist_matrix.shape, 0)\n",
    "        idx_x = yr_match_pairs_idx[:, 0]\n",
    "        idx_y = yr_match_pairs_idx[:, 1]\n",
    "        mat[idx_x, idx_y] = penalty\n",
    "        # distance from node to itself should still be 0\n",
    "        np.fill_diagonal(mat, 0)\n",
    "        dist_matrix += mat\n",
    "    return dist_matrix"
   ]
  },
  {
   "cell_type": "code",
   "execution_count": null,
   "id": "a4d4b5ad-4af1-46c7-8885-099db941c667",
   "metadata": {
    "tags": []
   },
   "outputs": [],
   "source": [
    "dist_matrix_w_penalty_small = penalize_same_report_year(plants_small_df, dist_matrix_small.copy())"
   ]
  },
  {
   "cell_type": "code",
   "execution_count": null,
   "id": "16542a40-55ce-4e23-9d00-beaefd44a742",
   "metadata": {
    "tags": []
   },
   "outputs": [],
   "source": [
    "dist_matrix_w_penalty = penalize_same_report_year(plants_df, dist_matrix.copy())"
   ]
  },
  {
   "cell_type": "code",
   "execution_count": null,
   "id": "48e18430-973f-47d1-b3d6-63fe630c9e8e",
   "metadata": {
    "tags": []
   },
   "outputs": [],
   "source": [
    "# similarity threshold of .75 is used in the PUDL module, but we need a distance threshold\n",
    "d_threshold = .5"
   ]
  },
  {
   "cell_type": "markdown",
   "id": "0fda48eb-2a56-4091-a94d-e506917bba30",
   "metadata": {},
   "source": [
    "https://scikit-learn.org/stable/auto_examples/cluster/plot_agglomerative_clustering_metrics.html#sphx-glr-auto-examples-cluster-plot-agglomerative-clustering-metrics-py\n",
    "\n",
    "Maybe cosine distance isn't the best metric here even though it's used in the PUDL module\n",
    "\n",
    "What are we optimizing for? \n",
    "- largest possible clusters so there are few straggler records\n",
    "- no overlapping report years within a cluster\n",
    "\n",
    "Options for ensuring report year doesn't overlap:\n",
    "- calculate a distance matrix, for all record pairs with the same report year make the distance bigger. Make metric = 'precomputed' for the model and pass distance metric into clustering model\n",
    "- add a dimension to the post-PCA vector? not sure how this would work without training data"
   ]
  },
  {
   "cell_type": "code",
   "execution_count": null,
   "id": "c8c302f5-58f0-44a2-8c0b-e4361dbc9020",
   "metadata": {
    "tags": []
   },
   "outputs": [],
   "source": [
    "%%time\n",
    "# use the distance matrix and pass it into sklearn agglomerative clustering\n",
    "agg_clustering_small = AgglomerativeClustering(n_clusters=None,\n",
    "                                         metric=\"precomputed\",\n",
    "                                         linkage=\"average\",\n",
    "                                         distance_threshold=d_threshold,\n",
    "                                         compute_distances=True)\n",
    "labels_small = agg_clustering_small.fit_predict(np.asarray(dist_matrix_w_penalty))"
   ]
  },
  {
   "cell_type": "code",
   "execution_count": null,
   "id": "83d7f54a-107a-42b4-8fd4-b9cb4992779b",
   "metadata": {
    "tags": []
   },
   "outputs": [],
   "source": [
    "agg_clustering_small.distances_.mean()"
   ]
  },
  {
   "cell_type": "code",
   "execution_count": null,
   "id": "19d12d97-07a2-4cb9-83ed-92b44905e926",
   "metadata": {
    "tags": []
   },
   "outputs": [],
   "source": [
    "plants_small_df[\"id\"] = labels_small\n",
    "ferc_to_ferc.measure_matching(plants_small_df, d_threshold, run_tags={\"dataset\": \"small\"})"
   ]
  },
  {
   "cell_type": "code",
   "execution_count": null,
   "id": "e5b32f5f-6c7d-4482-a7de-6a4f00efb947",
   "metadata": {
    "tags": []
   },
   "outputs": [],
   "source": [
    "# do records with the same record year end up in the same group?\n",
    "# is there a way to build this restriction into the classifier?\n",
    "# could add a \"distance to the rest of the cluster\" metric and choose the record with smaller distance\n",
    "plants_small_df.groupby(by=[\"id\", \"report_year\"]).size().value_counts().sort_index()\n"
   ]
  },
  {
   "cell_type": "code",
   "execution_count": null,
   "id": "d281f1e4-f9b9-4eb4-a108-4223060803a9",
   "metadata": {
    "tags": []
   },
   "outputs": [],
   "source": [
    "plants_small_df.groupby(by=[\"id\"]).size().hist(bins=20)"
   ]
  },
  {
   "cell_type": "code",
   "execution_count": null,
   "id": "8c30e592-17a8-4d3c-9a86-c515cb525f17",
   "metadata": {
    "tags": []
   },
   "outputs": [],
   "source": [
    "plants_small_df.groupby(by=[\"id\"]).size().mean()"
   ]
  },
  {
   "cell_type": "code",
   "execution_count": null,
   "id": "3375c760-b77c-4d1b-ad68-cfd0fd8154b5",
   "metadata": {
    "tags": []
   },
   "outputs": [],
   "source": [
    "plants_small_df.groupby(\"id\").plant_id_ferc1.nunique().value_counts().sort_index()"
   ]
  },
  {
   "cell_type": "code",
   "execution_count": null,
   "id": "7d367a71-98dd-4e82-9bb5-2167dc20ede9",
   "metadata": {
    "tags": []
   },
   "outputs": [],
   "source": [
    "%%time\n",
    "# use the distance matrix to pass into agglomerative clustering\n",
    "agg_clustering = AgglomerativeClustering(n_clusters=None,\n",
    "                                         metric=\"precomputed\",\n",
    "                                         linkage=\"average\",\n",
    "                                         distance_threshold=d_threshold,\n",
    "                                         compute_distances=True)\n",
    "labels = agg_clustering.fit_predict(np.asarray(dist_matrix_w_penalty))"
   ]
  },
  {
   "cell_type": "code",
   "execution_count": null,
   "id": "2643fd70-39c6-44b9-82f9-3b182919f9e3",
   "metadata": {
    "tags": []
   },
   "outputs": [],
   "source": [
    "plants_labels_df = plants_df.copy()"
   ]
  },
  {
   "cell_type": "code",
   "execution_count": null,
   "id": "ca82cbef-8eea-4196-a544-4fc8ddbb2144",
   "metadata": {
    "tags": []
   },
   "outputs": [],
   "source": [
    "plants_labels_df[\"id\"] = labels\n",
    "ferc_to_ferc.measure_matching(plants_small_df, d_threshold, run_tags={\"dataset\": \"full\"})"
   ]
  },
  {
   "cell_type": "code",
   "execution_count": null,
   "id": "aef03e5d-0e36-4aba-a62f-552fac822e82",
   "metadata": {
    "tags": []
   },
   "outputs": [],
   "source": [
    "# do records with the same record year end up in the same group?\n",
    "# is there a way to build this restriction into the classifier?\n",
    "# could add a \"distance to the rest of the cluster\" metric and choose the record with smaller distance\n",
    "plants_labels_df.groupby(by=[\"id\", \"report_year\"]).size().value_counts()"
   ]
  },
  {
   "cell_type": "code",
   "execution_count": null,
   "id": "06700110-0ec7-4a8d-9afa-86da6822f98c",
   "metadata": {
    "tags": []
   },
   "outputs": [],
   "source": [
    "plants_labels_df.groupby(by=[\"id\"]).size().hist(bins=20)"
   ]
  },
  {
   "cell_type": "code",
   "execution_count": null,
   "id": "52f68faa-f863-4784-bd88-010b827a7956",
   "metadata": {
    "tags": []
   },
   "outputs": [],
   "source": [
    "plants_labels_df.groupby(\"id\").size().mean()"
   ]
  },
  {
   "cell_type": "code",
   "execution_count": null,
   "id": "db893abd-2a61-42a2-bfb3-17ab6b34e5cb",
   "metadata": {
    "tags": []
   },
   "outputs": [],
   "source": [
    "plants_labels_df.id.max()"
   ]
  },
  {
   "cell_type": "code",
   "execution_count": null,
   "id": "4f89d198-c1c9-4f92-a81b-3a5407175216",
   "metadata": {
    "tags": []
   },
   "outputs": [],
   "source": [
    "plants_labels_df.groupby(\"id\").plant_id_ferc1.nunique().value_counts().sort_index().head(10)"
   ]
  },
  {
   "cell_type": "markdown",
   "id": "f73a536a-7f3b-4da1-8786-192f8e14211f",
   "metadata": {},
   "source": [
    "What is the average distance between records in a group?"
   ]
  },
  {
   "cell_type": "code",
   "execution_count": null,
   "id": "d8073be6-daf6-46ce-8627-41c64f508f14",
   "metadata": {
    "tags": []
   },
   "outputs": [],
   "source": [
    "labels.min(),labels.max()"
   ]
  },
  {
   "cell_type": "markdown",
   "id": "3b85d4e5-d6d4-45ed-8632-ade84ce0b9f3",
   "metadata": {},
   "source": [
    "Graph the results"
   ]
  },
  {
   "cell_type": "code",
   "execution_count": null,
   "id": "a269dac1-5f31-442c-9dea-c641ee6db658",
   "metadata": {},
   "outputs": [],
   "source": []
  },
  {
   "cell_type": "markdown",
   "id": "134ea69d-cd5c-45e0-b4e6-f4bc436aff89",
   "metadata": {},
   "source": [
    "Deal with orphaned records"
   ]
  },
  {
   "cell_type": "code",
   "execution_count": null,
   "id": "8ad684c8-665c-4e2e-b95a-ac2e8cd3bc0b",
   "metadata": {},
   "outputs": [],
   "source": []
  }
 ],
 "metadata": {
  "kernelspec": {
   "display_name": "Python 3 (ipykernel)",
   "language": "python",
   "name": "python3"
  },
  "language_info": {
   "codemirror_mode": {
    "name": "ipython",
    "version": 3
   },
   "file_extension": ".py",
   "mimetype": "text/x-python",
   "name": "python",
   "nbconvert_exporter": "python",
   "pygments_lexer": "ipython3",
   "version": "3.11.6"
  }
 },
 "nbformat": 4,
 "nbformat_minor": 5
}
