{
 "cells": [
  {
   "cell_type": "code",
   "execution_count": null,
   "id": "0931ec31-2ab1-4da5-99df-685a100c593c",
   "metadata": {},
   "outputs": [],
   "source": [
    "%load_ext autoreload\n",
    "%autoreload 3"
   ]
  },
  {
   "cell_type": "code",
   "execution_count": null,
   "id": "d2dc88c5-25be-4e4a-bcb4-92b4ba9da40a",
   "metadata": {},
   "outputs": [],
   "source": [
    "import pandas as pd\n",
    "import pudl\n",
    "import sqlalchemy as sa\n",
    "from pathlib import Path\n",
    "import zipfile"
   ]
  },
  {
   "cell_type": "code",
   "execution_count": null,
   "id": "cd9485c0-cbbb-4cec-92ae-a3d1cbb7ca42",
   "metadata": {},
   "outputs": [],
   "source": [
    "pudl_engine = sa.create_engine(pudl.workspace.setup.get_defaults()['pudl_db'])\n",
    "pudl_out = pudl.output.pudltabl.PudlTabl(pudl_engine)"
   ]
  },
  {
   "cell_type": "markdown",
   "id": "b98fd8fe-becc-4a13-8298-7cd484751a04",
   "metadata": {},
   "source": [
    "### Generate Plant Parts List"
   ]
  },
  {
   "cell_type": "code",
   "execution_count": null,
   "id": "a5ccfd5c-98c3-4cb0-8d25-009ce606dabd",
   "metadata": {},
   "outputs": [],
   "source": [
    "# if you have it, read in pickled dataframe\n",
    "plant_parts_eia = pd.read_pickle(\"plant_parts_eia_distinct.pkl.gz\")"
   ]
  },
  {
   "cell_type": "code",
   "execution_count": null,
   "id": "0b6a154a-6da3-49bd-9bf0-39b4c11cf0a7",
   "metadata": {},
   "outputs": [],
   "source": [
    "# make ppl distinct for Panda\n",
    "# this was adapted from the RMI repo\n",
    "# takes as input a non-distinct (includes non true grans) ppl\n",
    "def get_plant_parts_distinct(plant_parts_eia):\n",
    "    \"\"\"Get the EIA plant-parts with only the unique granularities.\"\"\"\n",
    "    # We want only the records of the EIA plant-parts that are \"true\n",
    "    # granularies\" and those which are not duplicates based on their\n",
    "    # ownership  so the model doesn't get confused as to which option to\n",
    "    # pick if there are many records with duplicate data\n",
    "    plant_parts_eia = plant_parts_eia.assign(\n",
    "        plant_id_report_year_util_id=lambda x: x.plant_id_report_year\n",
    "        + \"_\"\n",
    "        + x.utility_id_pudl.map(str)\n",
    "    ).astype({\"installation_year\": \"float\"})\n",
    "    plant_parts_distinct = plant_parts_eia[\n",
    "        (plant_parts_eia[\"true_gran\"]) & (~plant_parts_eia[\"ownership_dupe\"])\n",
    "    ]\n",
    "    return plant_parts_distinct"
   ]
  },
  {
   "cell_type": "code",
   "execution_count": null,
   "id": "8c566866-8030-4572-9263-44d68036b3d4",
   "metadata": {},
   "outputs": [],
   "source": [
    "plant_parts_eia = pudl_out.plant_parts_eia()"
   ]
  },
  {
   "cell_type": "code",
   "execution_count": null,
   "id": "9c9276f1-87f0-4a37-8e1f-abca9254c63e",
   "metadata": {},
   "outputs": [],
   "source": [
    "# a little patch because there was one duplicate record due to a bug in ppl generation\n",
    "plant_parts_eia = plant_parts_eia[~plant_parts_eia.index.duplicated(keep=\"first\")]\n",
    "plant_parts_eia_distinct = get_plant_parts_distinct(plant_parts_eia)"
   ]
  },
  {
   "cell_type": "code",
   "execution_count": null,
   "id": "924d3366-a4f1-477d-ac51-da10883d2c98",
   "metadata": {},
   "outputs": [],
   "source": [
    "# it's not necessary to remove columns any more to save on memory\n",
    "# but these columns seemed non essential for Panda matching\n",
    "ppl_cols_to_remove = {\n",
    "    'appro_part_label',\n",
    "    'appro_record_id_eia',\n",
    "    'operational_status',\n",
    "    'operational_status_pudl',\n",
    "    'ownership_dupe',\n",
    "    'retirement_date',\n",
    "    'planned_retirement_date',\n",
    "    'true_gran',\n",
    "    'ownership',\n",
    "    'fraction_owned',\n",
    "    'record_count'\n",
    "}\n",
    "ppl_cols_to_keep = set(plant_parts_eia.columns) - ppl_cols_to_remove\n",
    "plant_parts_eia = plant_parts_eia[list(ppl_cols_to_keep)]"
   ]
  },
  {
   "cell_type": "markdown",
   "id": "d32362f3-464e-4744-a81d-67174c39c92b",
   "metadata": {},
   "source": [
    "### Generate FERC side\n",
    "- Currently this function is taken from the RMI repo: `connect_ferc1_to_eia.InputManager.get_all_ferc1`\n",
    "- Could add `pudl_rmi` to environment and import this"
   ]
  },
  {
   "cell_type": "code",
   "execution_count": null,
   "id": "ba8181ac-eadc-441e-bae5-48a28c8f2eac",
   "metadata": {},
   "outputs": [],
   "source": [
    "def get_ferc_plants(pudl_out):\n",
    "    fbp_cols_to_use = [\n",
    "        \"report_year\",\n",
    "        \"utility_id_ferc1\",\n",
    "        \"plant_name_ferc1\",\n",
    "        \"utility_id_pudl\",\n",
    "        \"fuel_cost\",\n",
    "        \"fuel_mmbtu\",\n",
    "        \"primary_fuel_by_mmbtu\",\n",
    "    ]\n",
    "    plants_ferc1_df = (\n",
    "        pudl_out.plants_all_ferc1()\n",
    "        .merge(\n",
    "            pudl_out.fbp_ferc1()[fbp_cols_to_use],\n",
    "            on=[\n",
    "                \"report_year\",\n",
    "                \"utility_id_ferc1\",\n",
    "                \"utility_id_pudl\",\n",
    "                \"plant_name_ferc1\",\n",
    "            ],\n",
    "            how=\"left\",\n",
    "        )\n",
    "        .pipe(pudl.helpers.convert_cols_dtypes, \"ferc1\")\n",
    "        .assign(\n",
    "            installation_year=lambda x: (\n",
    "                x.installation_year.astype(\"float\")\n",
    "            ),  # need for comparison vectors\n",
    "            plant_id_report_year=lambda x: (\n",
    "                x.plant_id_pudl.map(str) + \"_\" + x.report_year.map(str)\n",
    "            ),\n",
    "            plant_id_report_year_util_id=lambda x: (\n",
    "                x.plant_id_report_year + \"_\" + x.utility_id_pudl.map(str)\n",
    "            ),\n",
    "            fuel_cost_per_mmbtu=lambda x: (x.fuel_cost / x.fuel_mmbtu),\n",
    "            heat_rate_mmbtu_mwh=lambda x: (x.fuel_mmbtu / x.net_generation_mwh),\n",
    "        )\n",
    "        .rename(\n",
    "            columns={\n",
    "                \"record_id\": \"record_id_ferc1\",\n",
    "                \"opex_plants\": \"opex_plant\",\n",
    "                \"fuel_cost\": \"total_fuel_cost\",\n",
    "                \"fuel_mmbtu\": \"total_mmbtu\",\n",
    "                \"opex_fuel_per_mwh\": \"fuel_cost_per_mwh\",\n",
    "                \"primary_fuel_by_mmbtu\": \"fuel_type_code_pudl\",\n",
    "            }\n",
    "        )\n",
    "        .set_index(\"record_id_ferc1\")\n",
    "    )\n",
    "    return plants_ferc1_df"
   ]
  },
  {
   "cell_type": "code",
   "execution_count": null,
   "id": "b83c54e0-706f-468b-9a52-fa2edf7aa91b",
   "metadata": {},
   "outputs": [],
   "source": [
    "ferc_df = get_ferc_plants(pudl_out)"
   ]
  },
  {
   "cell_type": "code",
   "execution_count": null,
   "id": "79f62ef3-d07e-4414-b726-fa8fb5037d04",
   "metadata": {},
   "outputs": [],
   "source": [
    "# these columns are useful for matching with EIA\n",
    "ferc_df = ferc_df[[\n",
    "   'report_year', 'utility_id_pudl',\n",
    "   'utility_name_ferc1', 'plant_id_pudl', 'plant_name_ferc1',\n",
    "   'capacity_factor', 'capacity_mw', 'construction_type',\n",
    "   'construction_year', 'installation_year', 'net_generation_mwh',\n",
    "   'fuel_cost_per_mwh', 'plant_capability_mw', 'plant_type',\n",
    "   'fuel_cost_per_mmbtu', 'fuel_type',\n",
    "   'total_fuel_cost', 'total_mmbtu',\n",
    "   'fuel_type_code_pudl', 'plant_id_report_year',\n",
    "   'plant_id_report_year_util_id', 'heat_rate_mmbtu_mwh'\n",
    "]]"
   ]
  },
  {
   "cell_type": "code",
   "execution_count": null,
   "id": "fdf7d3c1-8706-4ee4-b085-48ee9b502354",
   "metadata": {},
   "outputs": [],
   "source": [
    "ferc_df.to_pickle(\"full_ferc.pkl\")"
   ]
  },
  {
   "cell_type": "markdown",
   "id": "3bf49ea6-b03d-443a-913a-6139b3e0e93a",
   "metadata": {},
   "source": [
    "### Add on utility name to EIA side\n",
    "\n",
    "If the latest version of the plant parts list is being used then construction year and installation year should already be included."
   ]
  },
  {
   "cell_type": "code",
   "execution_count": null,
   "id": "65b91612-d33c-42dd-a396-a8f6127ed7b0",
   "metadata": {},
   "outputs": [],
   "source": [
    "# currently df is intended to be the distinct plant parts list\n",
    "def add_utility_name(df, pudl_engine):\n",
    "    # join on utility_name_eia\n",
    "    eia_util = pd.read_sql(\"utilities_eia\", pudl_engine)\n",
    "    eia_util = eia_util.set_index('utility_id_eia')['utility_name_eia']\n",
    "    non_null_df = df[~(df.utility_id_eia.isnull())]\n",
    "    non_null_df = non_null_df.merge(eia_util, how=\"left\", left_on='utility_id_eia', right_index=True, validate=\"m:1\")\n",
    "    df_util = pd.concat([non_null_df, df[df.utility_id_eia.isnull()]])\n",
    "    df = df_util.reindex(df.index)\n",
    "    \n",
    "    return df_util"
   ]
  },
  {
   "cell_type": "code",
   "execution_count": null,
   "id": "d6369e9d-87e9-4dbd-83d7-2d69e6fdad2c",
   "metadata": {},
   "outputs": [],
   "source": [
    "plant_parts_eia = add_utility_name(plant_parts_eia, pudl_engine)"
   ]
  },
  {
   "cell_type": "markdown",
   "id": "50d00ee5-7b3d-4808-b9d8-74e8e0eea579",
   "metadata": {},
   "source": [
    "### Separate the plant parts list by year\n",
    "\n",
    "Currently Panda has a memory issue so inputs are broken out by year"
   ]
  },
  {
   "cell_type": "code",
   "execution_count": null,
   "id": "1bbda50d-ad2a-4b73-9a12-a05d0cc22401",
   "metadata": {},
   "outputs": [],
   "source": [
    "def separate_ppl_by_year(ppl_distinct, output_dir):\n",
    "    dir_path = Path(output_dir)\n",
    "    for year in ppl_distinct.report_year.unique():\n",
    "        (dir_path / f\"ferc_eia_{year}\").mkdir(parents=True, exist_ok=True)\n",
    "        df = ppl_distinct[ppl_distinct.report_year == year]\n",
    "        df.to_csv(f\"{output_dir}/ferc_eia_{year}/right.csv\")"
   ]
  },
  {
   "cell_type": "markdown",
   "id": "ca23b6b1-6e90-441e-9eb6-553b6dd86047",
   "metadata": {
    "tags": []
   },
   "source": [
    "### Prep inputs for just one plant part"
   ]
  },
  {
   "cell_type": "code",
   "execution_count": null,
   "id": "214cefd4-e8bc-4ad3-a334-a23715fbbe3e",
   "metadata": {},
   "outputs": [],
   "source": [
    "part = \"plant\""
   ]
  },
  {
   "cell_type": "code",
   "execution_count": null,
   "id": "3eb118f3-a5d6-4c74-9845-c721c6662b79",
   "metadata": {},
   "outputs": [],
   "source": [
    "plant_part_df = plant_parts_eia[plant_parts_eia.plant_part == part]"
   ]
  },
  {
   "cell_type": "code",
   "execution_count": null,
   "id": "5b36d83f-51be-4489-a052-264b8a47d20b",
   "metadata": {},
   "outputs": [],
   "source": [
    "# when breaking up the ppl into individual parts there are columns that are almost fully null\n",
    "# depending on the part, let's drop these columns from the FERC and EIA side\n",
    "def drop_null_cols(eia_df, ferc_df, threshold=.1):\n",
    "    percent_null = eia_df.isnull().sum() / len(eia_df)\n",
    "    print(percent_null)\n",
    "    cols_to_drop = set(percent_null[percent_null >= threshold].index)\n",
    "    eia_cols_to_keep = list(set(eia_df.columns) - cols_to_drop)\n",
    "    ferc_cols_to_keep = list(set(ferc_df.columns) - cols_to_drop)\n",
    "    return eia_df[eia_cols_to_keep], ferc_df[ferc_cols_to_keep]"
   ]
  },
  {
   "cell_type": "code",
   "execution_count": null,
   "id": "feccd41b-9fad-466c-9b73-c5ddaa09d097",
   "metadata": {},
   "outputs": [],
   "source": [
    "small_part_df, small_ferc_df = drop_null_cols(plant_part_df, ferc_df, threshold=.8)"
   ]
  },
  {
   "cell_type": "code",
   "execution_count": null,
   "id": "c6fe2e4d-8fb9-47d3-80e7-4a3858a82add",
   "metadata": {},
   "outputs": [],
   "source": [
    "# drop the plant part column as it's filtered by plant part anyways\n",
    "small_part_df = small_part_df.drop(columns=[\"plant_part\"], axis=1)\n",
    "# little patch: not sure why installation_year is a float right now\n",
    "small_part_df = small_part_df.astype({\"installation_year\": \"Int64\"})"
   ]
  },
  {
   "cell_type": "code",
   "execution_count": null,
   "id": "ba0dd9de-e6be-4fa1-b909-560d481f9a5d",
   "metadata": {},
   "outputs": [],
   "source": [
    "# random, not sure where to put this\n",
    "# rename matching columns to be the same name, might help Panda?\n",
    "plant_part_df = plant_part_df.rename(columns={\"plant_name_eia\": \"plant_name\",\n",
    "                                \"utility_name_eia\": \"utility_name\"})\n",
    "ferc_df = ferc_df.rename(columns={\"plant_name_ferc1\": \"plant_name\",\n",
    "                        \"utility_name_ferc1\": \"utility_name\"})"
   ]
  },
  {
   "cell_type": "code",
   "execution_count": null,
   "id": "87837c61-8eef-43e1-83d2-5f111721881f",
   "metadata": {},
   "outputs": [],
   "source": [
    "plant_part_df = plant_part_df.drop(\n",
    "    [\"plant_part_id_eia\", \"unit_id_pudl\", \"utility_id_pudl\", \"plant_id_pudl\"], axis=1)"
   ]
  },
  {
   "cell_type": "code",
   "execution_count": null,
   "id": "174555e3-5635-4acf-8036-39030c9694c5",
   "metadata": {},
   "outputs": [],
   "source": [
    "ferc_df = ferc_df.drop(\n",
    "    [\"utility_id_pudl\"], axis=1)"
   ]
  },
  {
   "cell_type": "code",
   "execution_count": null,
   "id": "704b7cbb-a3c4-4005-9ba0-d92b692a569f",
   "metadata": {},
   "outputs": [],
   "source": [
    "years = [2019, 2020]\n",
    "zip_dfs_for_panda(\n",
    "    ferc_df[ferc_df.report_year.isin(years)], \n",
    "    plant_part_df[plant_part_df.report_year.isin(years)], \"19_20_plant\")"
   ]
  },
  {
   "cell_type": "code",
   "execution_count": null,
   "id": "f20041c9-651c-4991-b0ba-65634caa329c",
   "metadata": {},
   "outputs": [],
   "source": [
    "plant_parts_eia.to_pickle(\"full_eia_plant_parts_clean.pkl\")\n",
    "ferc_df.to_pickle(\"full_ferc_clean.pkl\")"
   ]
  },
  {
   "cell_type": "code",
   "execution_count": null,
   "id": "fd043257-5f6a-4f36-a8d5-9a8176bbf823",
   "metadata": {},
   "outputs": [],
   "source": [
    "ferc_df.columns"
   ]
  },
  {
   "cell_type": "markdown",
   "id": "e979394e-b4d9-4e1f-931e-6b7b11d143db",
   "metadata": {},
   "source": [
    "### Zip up FERC and EIA to be ready for Panda import"
   ]
  },
  {
   "cell_type": "code",
   "execution_count": null,
   "id": "064e44d7-b143-480c-aa3e-5862a11a1d65",
   "metadata": {},
   "outputs": [],
   "source": [
    "def zip_dfs_for_panda(ferc_df, eia_df, zip_name):\n",
    "    with zipfile.ZipFile(f\"panda_inputs/{zip_name}.zip\", \"w\") as csv_zip:\n",
    "        csv_zip.writestr(\"left.csv\", pd.DataFrame(ferc_df).to_csv())\n",
    "        csv_zip.writestr(\"right.csv\", pd.DataFrame(eia_df).to_csv())"
   ]
  },
  {
   "cell_type": "code",
   "execution_count": null,
   "id": "520776ec-a087-4469-acd5-3852071a6d75",
   "metadata": {},
   "outputs": [],
   "source": [
    "# temp: put this here, need to take out a bunch of cols to get under memory limit\n",
    "eia_drop_cols = [\n",
    "    \"capacity_eoy_mw\",\n",
    "    \"energy_source_code_1\",\n",
    "    \"ferc_acct_name\", \n",
    "    \"generator_id\",\n",
    "    \"operating_year\",\n",
    "    \"plant_id_eia\",\n",
    "    \"plant_name_new\",\n",
    "    \"plant_part_id_eia\",\n",
    "    \"report_date\",\n",
    "    \"utility_id_eia\"\n",
    "]\n",
    "ferc_drop_cols = [\n",
    "    \"construction_type\",\n",
    "    \"plant_capability_mw\",\n",
    "    \"total_cost_of_plant\"\n",
    "]\n",
    "small_part_df = small_part_df.drop(eia_drop_cols, axis=1)\n",
    "small_ferc_df = small_ferc_df.drop(ferc_drop_cols, axis=1)"
   ]
  },
  {
   "cell_type": "code",
   "execution_count": null,
   "id": "1873616a-74bd-42fc-95d9-497f94ceb69d",
   "metadata": {},
   "outputs": [],
   "source": [
    "smaller_part_df = small_part_df[small_part_df.report_year == 2020]\n",
    "smaller_ferc_df = small_ferc_df[small_ferc_df.report_year == 2020]"
   ]
  },
  {
   "cell_type": "code",
   "execution_count": null,
   "id": "ae29df71-1f29-49d0-8636-36fef40b9b14",
   "metadata": {},
   "outputs": [],
   "source": [
    "zip_dfs_for_panda(smaller_ferc_df, smaller_part_df, f\"2020_{part}\")"
   ]
  },
  {
   "cell_type": "markdown",
   "id": "8d483cb9-0331-4d93-8bd1-18b13e331b8d",
   "metadata": {},
   "source": [
    "### Look at full records for training data matches"
   ]
  },
  {
   "cell_type": "code",
   "execution_count": null,
   "id": "60b5e779-bfad-4cfa-b895-b9757b2f2447",
   "metadata": {},
   "outputs": [],
   "source": [
    "training_labels = pd.read_csv(\"train_ferc1_eia.csv\")"
   ]
  },
  {
   "cell_type": "code",
   "execution_count": null,
   "id": "d8c42c74-eb74-454e-8712-e321650af126",
   "metadata": {},
   "outputs": [],
   "source": [
    "full_records = training_labels[[\"record_id_eia\", \"record_id_ferc1\", \"notes\"]].join(\n",
    "    plant_parts_eia, on=\"record_id_eia\").join(ferc_df, on=\"record_id_ferc1\", rsuffix=\"_ferc\")"
   ]
  },
  {
   "cell_type": "code",
   "execution_count": null,
   "id": "2bffb18a-c703-4833-8f12-4d0a46f3d1c7",
   "metadata": {},
   "outputs": [],
   "source": [
    "full_records = full_records.reindex(sorted(full_records.columns), axis=1)"
   ]
  },
  {
   "cell_type": "code",
   "execution_count": null,
   "id": "f1ff56f9-6389-443b-bf37-45fea39450b9",
   "metadata": {},
   "outputs": [],
   "source": [
    "full_records"
   ]
  },
  {
   "cell_type": "code",
   "execution_count": null,
   "id": "0d2953ab-8349-4db8-8651-1b749aa47288",
   "metadata": {},
   "outputs": [],
   "source": [
    "full_records[full_records.plant_part == \"plant_gen\"][[\"capacity_mw\", \"capacity_mw_ferc\"]]"
   ]
  },
  {
   "cell_type": "code",
   "execution_count": null,
   "id": "c74b636a-8f61-4b81-8f3f-0d60ebc47b5b",
   "metadata": {},
   "outputs": [],
   "source": [
    "full_records[~(full_records.generator_id.isnull())]"
   ]
  },
  {
   "cell_type": "code",
   "execution_count": null,
   "id": "00ffa14b-a80b-4b91-b3f7-b44fcf660643",
   "metadata": {},
   "outputs": [],
   "source": [
    "cap_diff = abs(full_records[\"capacity_mw\"] - full_records[\"capacity_mw_ferc\"])"
   ]
  },
  {
   "cell_type": "code",
   "execution_count": null,
   "id": "87f23e4e-ad05-4639-a603-36b0ff16f1c1",
   "metadata": {},
   "outputs": [],
   "source": [
    "cap_diff.describe()"
   ]
  },
  {
   "cell_type": "code",
   "execution_count": null,
   "id": "2e5dd0bb-203c-47cf-8798-f4c13b20a872",
   "metadata": {},
   "outputs": [],
   "source": [
    "cap_diff[cap_diff < 1000].describe()"
   ]
  },
  {
   "cell_type": "code",
   "execution_count": null,
   "id": "ce775c84-c9ae-416a-b4a8-eb2ba5ab031a",
   "metadata": {},
   "outputs": [],
   "source": [
    "full_records[[\"plant_type\", \"technology_description\"]].value_counts()"
   ]
  },
  {
   "cell_type": "code",
   "execution_count": null,
   "id": "eba2498e-8845-4f76-b08d-f115df266148",
   "metadata": {},
   "outputs": [],
   "source": [
    "full_records[[\"plant_type\", \"prime_mover_code\"]].value_counts()"
   ]
  },
  {
   "cell_type": "code",
   "execution_count": null,
   "id": "fba5d2d7-46e4-42de-b59d-123ef33e4853",
   "metadata": {},
   "outputs": [],
   "source": [
    "full_records[[\"plant_type\", \"fuel_type_code_pudl\"]].value_counts()"
   ]
  }
 ],
 "metadata": {
  "kernelspec": {
   "display_name": "pudl-dev",
   "language": "python",
   "name": "pudl-dev"
  },
  "language_info": {
   "codemirror_mode": {
    "name": "ipython",
    "version": 3
   },
   "file_extension": ".py",
   "mimetype": "text/x-python",
   "name": "python",
   "nbconvert_exporter": "python",
   "pygments_lexer": "ipython3",
   "version": "3.10.8"
  }
 },
 "nbformat": 4,
 "nbformat_minor": 5
}
