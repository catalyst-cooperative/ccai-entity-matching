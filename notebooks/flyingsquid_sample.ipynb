{
 "cells": [
  {
   "cell_type": "code",
   "execution_count": null,
   "id": "3522485a-67ff-4ca3-8c69-6e36eff25c03",
   "metadata": {},
   "outputs": [],
   "source": [
    "import pandas as pd\n",
    "import flyingsquid\n",
    "from pathlib import Path\n",
    "import zipfile\n",
    "from snorkel.labeling import labeling_function\n",
    "import math\n",
    "import numpy as np\n",
    "import sklearn"
   ]
  },
  {
   "cell_type": "code",
   "execution_count": null,
   "id": "b632ac29-04fa-4d19-97c7-25c65b7a1cad",
   "metadata": {},
   "outputs": [],
   "source": [
    "# create training and dev set\n",
    "def get_train_dev_set(panda_match_file):\n",
    "    match_file = Path(\"panda_matches\") / f\"panda_label_{panda_match_file}.csv\"\n",
    "    matches = pd.read_csv(match_file)\n",
    "    # use snorkel.label.apply.pandas.ApplyLFPandas but modified to work on tuples?\n",
    "    return matches"
   ]
  },
  {
   "cell_type": "markdown",
   "id": "f99c8a82-403c-44fd-b954-73e83cf4fffe",
   "metadata": {},
   "source": [
    "Order of events:\n",
    "- [ ] Labeling function development with Panda\n",
    "- [ ] Word embeddings for string columns\n",
    "- [ ] Candidate set creation with KNN\n",
    "- [ ] Correct infrastructure for LF applier and LF model\n",
    "- [ ] LF Applier\n",
    "- [ ] LF Mdel\n",
    "\n",
    "String column word embeddings - PyTorch?:\n",
    "- need to learn word embeddings so the string column can be projected into vector space\n",
    "\n",
    "Candidate Set - sklearn:\n",
    "- all the left dataframe rows matched with all potential right dataframe rows\n",
    "- left (l, i), right (r, j)\n",
    "- candidate set (n, k) where n <= lxr, k <= i+j\n",
    "- In Panda the candidate set (blocked tuples) is selected using modified top-k cosine similarity search. \n",
    "  - Intuitively, project all tuples from both left and right tables as dense vectors and perform top-k search wrt. each left tuple and top-k search wrt. each right tuple. \n",
    "  - 1. for each left tuple, consider top k similar right tuples\n",
    "  - 2. for each right tuple consider top k similar left tuples\n",
    "  - 3. consider the union of these pairs\n",
    "  - Example numbers: left - 18182, right - 194309, candidate set - 82225\n",
    "- apply manual blocking: report_year must be an exact match\n",
    "\n",
    "LF Applier - Snorkel:\n",
    "- takes candidate set dataframe\n",
    "- takes m labeling functions\n",
    "- for each row apply each labeling function\n",
    "- returns a matrix (n, m)\n",
    "\n",
    "Labeling Model - FlyingSquid:\n",
    "- need to refine labeling functions"
   ]
  },
  {
   "cell_type": "code",
   "execution_count": null,
   "id": "01456417-97d3-4afc-ab85-67aa52c9f52b",
   "metadata": {},
   "outputs": [],
   "source": [
    "# implement modified top k cosine similarity search\n",
    "def create_candidate_set(path_to_zip_file, test_size=False):\n",
    "    with zipfile.ZipFile(path_to_zip_file, 'r') as z:\n",
    "        ferc = pd.read_csv(z.open(\"left.csv\"))\n",
    "        eia = pd.read_csv(z.open(\"right.csv\"))\n",
    "    if test_size:\n",
    "        ferc = ferc[:20]\n",
    "        eia = eia[:20]\n",
    "    return ferc.merge(eia, how=\"cross\", suffixes=(\"_ferc\", \"_eia\"))"
   ]
  },
  {
   "cell_type": "code",
   "execution_count": null,
   "id": "7413dbbc-f9cf-4a19-b0aa-0d3975fbe98e",
   "metadata": {},
   "outputs": [],
   "source": [
    "df = create_candidate_set(\"panda_inputs/2020_gens.zip\", test_size=True)"
   ]
  },
  {
   "cell_type": "code",
   "execution_count": null,
   "id": "f5c945ae-24d4-44c4-a3fb-b5d65dc5c902",
   "metadata": {},
   "outputs": [],
   "source": [
    "with zipfile.ZipFile(\"panda_inputs/2020_gens.zip\", 'r') as z:\n",
    "    ferc = pd.read_csv(z.open(\"left.csv\"))\n",
    "    eia = pd.read_csv(z.open(\"right.csv\"))\n",
    "ferc = ferc[:100]\n",
    "eia = eia[:100]"
   ]
  },
  {
   "cell_type": "code",
   "execution_count": null,
   "id": "e06b7749-f87c-4796-96e6-26c99ef0393c",
   "metadata": {},
   "outputs": [],
   "source": [
    "df = create_candidate_set(\"panda_inputs/2020_gens.zip\")"
   ]
  },
  {
   "cell_type": "markdown",
   "id": "d58424ac-15ee-4960-8790-fd7db435af28",
   "metadata": {},
   "source": [
    "### Test KNN Candidate Set Creation"
   ]
  },
  {
   "cell_type": "markdown",
   "id": "9ec1963c-d880-4fc2-985a-57b9424f9a25",
   "metadata": {},
   "source": [
    "- How to embed string columns? - use word embeddings?\n",
    "- Normalize vectors\n",
    "- Only using shared columns?"
   ]
  },
  {
   "cell_type": "code",
   "execution_count": null,
   "id": "b0d03e54-eb1f-4ae1-9b7f-40178ec228ab",
   "metadata": {},
   "outputs": [],
   "source": [
    "ppl = pd.read_pickle(\"full_eia_plant_parts_clean.pkl\")"
   ]
  },
  {
   "cell_type": "code",
   "execution_count": null,
   "id": "254d7119-7d7b-4b0a-aa62-f4cd856c200a",
   "metadata": {},
   "outputs": [],
   "source": [
    "ferc_clean = pd.read_pickle(\"full_ferc_clean.pkl\")"
   ]
  },
  {
   "cell_type": "markdown",
   "id": "dc9ee0d8-8740-4946-b41e-bdf3db86e86d",
   "metadata": {},
   "source": [
    "### Test LF Applier"
   ]
  },
  {
   "cell_type": "code",
   "execution_count": null,
   "id": "a7a05381-e499-4b9e-8712-941de3bd72c7",
   "metadata": {
    "tags": []
   },
   "outputs": [],
   "source": [
    "# create labeling functions\n",
    "@labeling_function()\n",
    "def installation_year_match(row):\n",
    "    x = row.installation_year_x\n",
    "    y = row.installation_year_y\n",
    "\n",
    "    if not math.isnan(x) and not math.isnan(y) and abs(x - y) < 2:\n",
    "        return 1\n",
    "    else:\n",
    "        return 0\n",
    "    \n",
    "@labeling_function()\n",
    "def construction_year_match(row):\n",
    "    x = row.construction_year_x\n",
    "    y = row.construction_year_y\n",
    "\n",
    "    if not math.isnan(x) and not math.isnan(y) and abs(x - y) < 2:\n",
    "        return 1\n",
    "    else:\n",
    "        return 0"
   ]
  },
  {
   "cell_type": "code",
   "execution_count": null,
   "id": "2414cc9e-c38d-4276-91c1-623142ec04ad",
   "metadata": {},
   "outputs": [],
   "source": [
    "from snorkel.labeling import PandasLFApplier"
   ]
  },
  {
   "cell_type": "code",
   "execution_count": null,
   "id": "5f70022d-ef4a-4cd8-a18f-52c811e2d0f6",
   "metadata": {},
   "outputs": [],
   "source": [
    "test = df[:1000]"
   ]
  },
  {
   "cell_type": "code",
   "execution_count": null,
   "id": "6569ecea-1bff-4c7e-9fee-6b7ae745992a",
   "metadata": {},
   "outputs": [],
   "source": [
    "applier = PandasLFApplier([installation_year_match, construction_year_match])\n",
    "labels = applier.apply(test)"
   ]
  },
  {
   "cell_type": "code",
   "execution_count": null,
   "id": "c593d229-f66e-4a75-85f9-6b47d841fd68",
   "metadata": {},
   "outputs": [],
   "source": [
    "np.where(labels == 1)[0]"
   ]
  },
  {
   "cell_type": "code",
   "execution_count": null,
   "id": "54c4a8d4-a9e8-42de-87be-9e05bfa43235",
   "metadata": {},
   "outputs": [],
   "source": [
    "'''\n",
    "This example code shows a bare-minimum example of how to get FlyingSquid up and\n",
    "running.\n",
    "'''\n",
    "\n",
    "from flyingsquid.label_model import LabelModel\n",
    "\n",
    "# n_train: number of training records\n",
    "# n_dev: number of dev records\n",
    "# m: number of LFs\n",
    "# L_train shape: (n_train, m)\n",
    "# L_dev shape: (n_dev, m)\n",
    "# Y_dev: (n_dev,)\n",
    "# n_train + n_dev = total candidate set size\n",
    "L_train, L_dev, Y_dev = synthetic_data_basics()\n",
    "'''\n",
    "m = L_train.shape[1]\n",
    "label_model = LabelModel(m)\n",
    "\n",
    "label_model.fit(L_train)\n",
    "\n",
    "preds = label_model.predict(L_dev).reshape(Y_dev.shape)\n",
    "accuracy = np.sum(preds == Y_dev) / Y_dev.shape[0]\n",
    "\n",
    "print('Label model accuracy: {}%'.format(int(100 * accuracy)))\n",
    "'''"
   ]
  }
 ],
 "metadata": {
  "kernelspec": {
   "display_name": "ccai-em",
   "language": "python",
   "name": "ccai-em"
  },
  "language_info": {
   "codemirror_mode": {
    "name": "ipython",
    "version": 3
   },
   "file_extension": ".py",
   "mimetype": "text/x-python",
   "name": "python",
   "nbconvert_exporter": "python",
   "pygments_lexer": "ipython3",
   "version": "3.10.6"
  }
 },
 "nbformat": 4,
 "nbformat_minor": 5
}
