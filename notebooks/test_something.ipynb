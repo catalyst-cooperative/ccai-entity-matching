{
 "cells": [
  {
   "cell_type": "code",
   "execution_count": null,
   "id": "36f7d276-95f0-4ca6-95a3-01924b33f6a3",
   "metadata": {
    "tags": []
   },
   "outputs": [],
   "source": [
    "import pandas as pd"
   ]
  },
  {
   "cell_type": "code",
   "execution_count": null,
   "id": "2070b434-d96e-4158-b869-193f0f0301fb",
   "metadata": {
    "tags": []
   },
   "outputs": [],
   "source": [
    "df = pd.DataFrame({\"a\": [1, 2, 3], \"b\": [4, 5, 6]})"
   ]
  },
  {
   "cell_type": "code",
   "execution_count": null,
   "id": "a6c1a71e-9c8b-4d95-8750-b865a6fe0e4a",
   "metadata": {
    "tags": []
   },
   "outputs": [],
   "source": [
    "df = df + 1"
   ]
  },
  {
   "cell_type": "code",
   "execution_count": null,
   "id": "b1cdaa6a-abd6-4a3a-ac8c-9c0b990f1e48",
   "metadata": {
    "tags": []
   },
   "outputs": [],
   "source": [
    "df"
   ]
  }
 ],
 "metadata": {
  "kernelspec": {
   "display_name": "ferc_eia_match",
   "language": "python",
   "name": "ferc_eia_match"
  },
  "language_info": {
   "codemirror_mode": {
    "name": "ipython",
    "version": 3
   },
   "file_extension": ".py",
   "mimetype": "text/x-python",
   "name": "python",
   "nbconvert_exporter": "python",
   "pygments_lexer": "ipython3",
   "version": "3.11.3"
  }
 },
 "nbformat": 4,
 "nbformat_minor": 5
}
